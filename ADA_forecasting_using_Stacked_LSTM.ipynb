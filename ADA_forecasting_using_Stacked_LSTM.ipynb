{
  "nbformat": 4,
  "nbformat_minor": 0,
  "metadata": {
    "colab": {
      "provenance": []
    },
    "kernelspec": {
      "name": "python3",
      "display_name": "Python 3"
    },
    "language_info": {
      "name": "python"
    }
  },
  "cells": [
    {
      "cell_type": "code",
      "execution_count": null,
      "metadata": {
        "id": "dI73TLufPNL6"
      },
      "outputs": [],
      "source": [
        "import numpy as np\n",
        "import matplotlib.pyplot as plt\n",
        "import pandas as pd\n",
        "import math\n",
        "from tensorflow.keras.models import Sequential\n",
        "from tensorflow.keras.layers import LSTM\n",
        "from tensorflow.keras.layers import Dense\n",
        "from tensorflow.keras.layers import Flatten"
      ]
    },
    {
      "cell_type": "code",
      "source": [
        "from google.colab import files\n",
        "\n",
        "uploaded = files.upload()\n",
        "\n",
        "for fn in uploaded.keys():\n",
        "  print('User uploaded file \"{name}\" with length {length} bytes'.format(\n",
        "      name=fn, length=len(uploaded[fn])))"
      ],
      "metadata": {
        "colab": {
          "base_uri": "https://localhost:8080/",
          "height": 90
        },
        "id": "ooh9Xtw-PhQ1",
        "outputId": "9923f8ec-91ae-40ed-e0a5-3ca9ca69eb73"
      },
      "execution_count": null,
      "outputs": [
        {
          "output_type": "display_data",
          "data": {
            "text/plain": [
              "<IPython.core.display.HTML object>"
            ],
            "text/html": [
              "\n",
              "     <input type=\"file\" id=\"files-6d3d434e-7516-4240-b482-949ca3508eac\" name=\"files[]\" multiple disabled\n",
              "        style=\"border:none\" />\n",
              "     <output id=\"result-6d3d434e-7516-4240-b482-949ca3508eac\">\n",
              "      Upload widget is only available when the cell has been executed in the\n",
              "      current browser session. Please rerun this cell to enable.\n",
              "      </output>\n",
              "      <script>// Copyright 2017 Google LLC\n",
              "//\n",
              "// Licensed under the Apache License, Version 2.0 (the \"License\");\n",
              "// you may not use this file except in compliance with the License.\n",
              "// You may obtain a copy of the License at\n",
              "//\n",
              "//      http://www.apache.org/licenses/LICENSE-2.0\n",
              "//\n",
              "// Unless required by applicable law or agreed to in writing, software\n",
              "// distributed under the License is distributed on an \"AS IS\" BASIS,\n",
              "// WITHOUT WARRANTIES OR CONDITIONS OF ANY KIND, either express or implied.\n",
              "// See the License for the specific language governing permissions and\n",
              "// limitations under the License.\n",
              "\n",
              "/**\n",
              " * @fileoverview Helpers for google.colab Python module.\n",
              " */\n",
              "(function(scope) {\n",
              "function span(text, styleAttributes = {}) {\n",
              "  const element = document.createElement('span');\n",
              "  element.textContent = text;\n",
              "  for (const key of Object.keys(styleAttributes)) {\n",
              "    element.style[key] = styleAttributes[key];\n",
              "  }\n",
              "  return element;\n",
              "}\n",
              "\n",
              "// Max number of bytes which will be uploaded at a time.\n",
              "const MAX_PAYLOAD_SIZE = 100 * 1024;\n",
              "\n",
              "function _uploadFiles(inputId, outputId) {\n",
              "  const steps = uploadFilesStep(inputId, outputId);\n",
              "  const outputElement = document.getElementById(outputId);\n",
              "  // Cache steps on the outputElement to make it available for the next call\n",
              "  // to uploadFilesContinue from Python.\n",
              "  outputElement.steps = steps;\n",
              "\n",
              "  return _uploadFilesContinue(outputId);\n",
              "}\n",
              "\n",
              "// This is roughly an async generator (not supported in the browser yet),\n",
              "// where there are multiple asynchronous steps and the Python side is going\n",
              "// to poll for completion of each step.\n",
              "// This uses a Promise to block the python side on completion of each step,\n",
              "// then passes the result of the previous step as the input to the next step.\n",
              "function _uploadFilesContinue(outputId) {\n",
              "  const outputElement = document.getElementById(outputId);\n",
              "  const steps = outputElement.steps;\n",
              "\n",
              "  const next = steps.next(outputElement.lastPromiseValue);\n",
              "  return Promise.resolve(next.value.promise).then((value) => {\n",
              "    // Cache the last promise value to make it available to the next\n",
              "    // step of the generator.\n",
              "    outputElement.lastPromiseValue = value;\n",
              "    return next.value.response;\n",
              "  });\n",
              "}\n",
              "\n",
              "/**\n",
              " * Generator function which is called between each async step of the upload\n",
              " * process.\n",
              " * @param {string} inputId Element ID of the input file picker element.\n",
              " * @param {string} outputId Element ID of the output display.\n",
              " * @return {!Iterable<!Object>} Iterable of next steps.\n",
              " */\n",
              "function* uploadFilesStep(inputId, outputId) {\n",
              "  const inputElement = document.getElementById(inputId);\n",
              "  inputElement.disabled = false;\n",
              "\n",
              "  const outputElement = document.getElementById(outputId);\n",
              "  outputElement.innerHTML = '';\n",
              "\n",
              "  const pickedPromise = new Promise((resolve) => {\n",
              "    inputElement.addEventListener('change', (e) => {\n",
              "      resolve(e.target.files);\n",
              "    });\n",
              "  });\n",
              "\n",
              "  const cancel = document.createElement('button');\n",
              "  inputElement.parentElement.appendChild(cancel);\n",
              "  cancel.textContent = 'Cancel upload';\n",
              "  const cancelPromise = new Promise((resolve) => {\n",
              "    cancel.onclick = () => {\n",
              "      resolve(null);\n",
              "    };\n",
              "  });\n",
              "\n",
              "  // Wait for the user to pick the files.\n",
              "  const files = yield {\n",
              "    promise: Promise.race([pickedPromise, cancelPromise]),\n",
              "    response: {\n",
              "      action: 'starting',\n",
              "    }\n",
              "  };\n",
              "\n",
              "  cancel.remove();\n",
              "\n",
              "  // Disable the input element since further picks are not allowed.\n",
              "  inputElement.disabled = true;\n",
              "\n",
              "  if (!files) {\n",
              "    return {\n",
              "      response: {\n",
              "        action: 'complete',\n",
              "      }\n",
              "    };\n",
              "  }\n",
              "\n",
              "  for (const file of files) {\n",
              "    const li = document.createElement('li');\n",
              "    li.append(span(file.name, {fontWeight: 'bold'}));\n",
              "    li.append(span(\n",
              "        `(${file.type || 'n/a'}) - ${file.size} bytes, ` +\n",
              "        `last modified: ${\n",
              "            file.lastModifiedDate ? file.lastModifiedDate.toLocaleDateString() :\n",
              "                                    'n/a'} - `));\n",
              "    const percent = span('0% done');\n",
              "    li.appendChild(percent);\n",
              "\n",
              "    outputElement.appendChild(li);\n",
              "\n",
              "    const fileDataPromise = new Promise((resolve) => {\n",
              "      const reader = new FileReader();\n",
              "      reader.onload = (e) => {\n",
              "        resolve(e.target.result);\n",
              "      };\n",
              "      reader.readAsArrayBuffer(file);\n",
              "    });\n",
              "    // Wait for the data to be ready.\n",
              "    let fileData = yield {\n",
              "      promise: fileDataPromise,\n",
              "      response: {\n",
              "        action: 'continue',\n",
              "      }\n",
              "    };\n",
              "\n",
              "    // Use a chunked sending to avoid message size limits. See b/62115660.\n",
              "    let position = 0;\n",
              "    do {\n",
              "      const length = Math.min(fileData.byteLength - position, MAX_PAYLOAD_SIZE);\n",
              "      const chunk = new Uint8Array(fileData, position, length);\n",
              "      position += length;\n",
              "\n",
              "      const base64 = btoa(String.fromCharCode.apply(null, chunk));\n",
              "      yield {\n",
              "        response: {\n",
              "          action: 'append',\n",
              "          file: file.name,\n",
              "          data: base64,\n",
              "        },\n",
              "      };\n",
              "\n",
              "      let percentDone = fileData.byteLength === 0 ?\n",
              "          100 :\n",
              "          Math.round((position / fileData.byteLength) * 100);\n",
              "      percent.textContent = `${percentDone}% done`;\n",
              "\n",
              "    } while (position < fileData.byteLength);\n",
              "  }\n",
              "\n",
              "  // All done.\n",
              "  yield {\n",
              "    response: {\n",
              "      action: 'complete',\n",
              "    }\n",
              "  };\n",
              "}\n",
              "\n",
              "scope.google = scope.google || {};\n",
              "scope.google.colab = scope.google.colab || {};\n",
              "scope.google.colab._files = {\n",
              "  _uploadFiles,\n",
              "  _uploadFilesContinue,\n",
              "};\n",
              "})(self);\n",
              "</script> "
            ]
          },
          "metadata": {}
        },
        {
          "output_type": "stream",
          "name": "stdout",
          "text": [
            "Saving ADA-USD.csv to ADA-USD.csv\n",
            "User uploaded file \"ADA-USD.csv\" with length 229732 bytes\n"
          ]
        }
      ]
    },
    {
      "cell_type": "code",
      "source": [
        "import io\n",
        "df = pd.read_csv(io.StringIO(uploaded['ADA-USD.csv'].decode('utf-8')))\n",
        "df.head()"
      ],
      "metadata": {
        "colab": {
          "base_uri": "https://localhost:8080/",
          "height": 206
        },
        "id": "uMwM5jK-P3ts",
        "outputId": "cab72a85-46ec-4d31-9daa-3740b9733590"
      },
      "execution_count": null,
      "outputs": [
        {
          "output_type": "execute_result",
          "data": {
            "text/plain": [
              "             timestamp  adjclose      open      high    volume       low  \\\n",
              "0  2017-11-09 00:00:00  0.032053  0.025160  0.035060  18716200  0.025006   \n",
              "1  2017-11-10 00:00:00  0.027119  0.032219  0.033348   6766780  0.026451   \n",
              "2  2017-11-11 00:00:00  0.027437  0.026891  0.029659   5532220  0.025684   \n",
              "3  2017-11-12 00:00:00  0.023977  0.027480  0.027952   7280250  0.022591   \n",
              "4  2017-11-13 00:00:00  0.025808  0.024364  0.026300   4419440  0.023495   \n",
              "\n",
              "      close  \n",
              "0  0.032053  \n",
              "1  0.027119  \n",
              "2  0.027437  \n",
              "3  0.023977  \n",
              "4  0.025808  "
            ],
            "text/html": [
              "\n",
              "  <div id=\"df-b68af4b7-e5f0-4de4-8156-280eb2b6c2c9\">\n",
              "    <div class=\"colab-df-container\">\n",
              "      <div>\n",
              "<style scoped>\n",
              "    .dataframe tbody tr th:only-of-type {\n",
              "        vertical-align: middle;\n",
              "    }\n",
              "\n",
              "    .dataframe tbody tr th {\n",
              "        vertical-align: top;\n",
              "    }\n",
              "\n",
              "    .dataframe thead th {\n",
              "        text-align: right;\n",
              "    }\n",
              "</style>\n",
              "<table border=\"1\" class=\"dataframe\">\n",
              "  <thead>\n",
              "    <tr style=\"text-align: right;\">\n",
              "      <th></th>\n",
              "      <th>timestamp</th>\n",
              "      <th>adjclose</th>\n",
              "      <th>open</th>\n",
              "      <th>high</th>\n",
              "      <th>volume</th>\n",
              "      <th>low</th>\n",
              "      <th>close</th>\n",
              "    </tr>\n",
              "  </thead>\n",
              "  <tbody>\n",
              "    <tr>\n",
              "      <th>0</th>\n",
              "      <td>2017-11-09 00:00:00</td>\n",
              "      <td>0.032053</td>\n",
              "      <td>0.025160</td>\n",
              "      <td>0.035060</td>\n",
              "      <td>18716200</td>\n",
              "      <td>0.025006</td>\n",
              "      <td>0.032053</td>\n",
              "    </tr>\n",
              "    <tr>\n",
              "      <th>1</th>\n",
              "      <td>2017-11-10 00:00:00</td>\n",
              "      <td>0.027119</td>\n",
              "      <td>0.032219</td>\n",
              "      <td>0.033348</td>\n",
              "      <td>6766780</td>\n",
              "      <td>0.026451</td>\n",
              "      <td>0.027119</td>\n",
              "    </tr>\n",
              "    <tr>\n",
              "      <th>2</th>\n",
              "      <td>2017-11-11 00:00:00</td>\n",
              "      <td>0.027437</td>\n",
              "      <td>0.026891</td>\n",
              "      <td>0.029659</td>\n",
              "      <td>5532220</td>\n",
              "      <td>0.025684</td>\n",
              "      <td>0.027437</td>\n",
              "    </tr>\n",
              "    <tr>\n",
              "      <th>3</th>\n",
              "      <td>2017-11-12 00:00:00</td>\n",
              "      <td>0.023977</td>\n",
              "      <td>0.027480</td>\n",
              "      <td>0.027952</td>\n",
              "      <td>7280250</td>\n",
              "      <td>0.022591</td>\n",
              "      <td>0.023977</td>\n",
              "    </tr>\n",
              "    <tr>\n",
              "      <th>4</th>\n",
              "      <td>2017-11-13 00:00:00</td>\n",
              "      <td>0.025808</td>\n",
              "      <td>0.024364</td>\n",
              "      <td>0.026300</td>\n",
              "      <td>4419440</td>\n",
              "      <td>0.023495</td>\n",
              "      <td>0.025808</td>\n",
              "    </tr>\n",
              "  </tbody>\n",
              "</table>\n",
              "</div>\n",
              "      <button class=\"colab-df-convert\" onclick=\"convertToInteractive('df-b68af4b7-e5f0-4de4-8156-280eb2b6c2c9')\"\n",
              "              title=\"Convert this dataframe to an interactive table.\"\n",
              "              style=\"display:none;\">\n",
              "        \n",
              "  <svg xmlns=\"http://www.w3.org/2000/svg\" height=\"24px\"viewBox=\"0 0 24 24\"\n",
              "       width=\"24px\">\n",
              "    <path d=\"M0 0h24v24H0V0z\" fill=\"none\"/>\n",
              "    <path d=\"M18.56 5.44l.94 2.06.94-2.06 2.06-.94-2.06-.94-.94-2.06-.94 2.06-2.06.94zm-11 1L8.5 8.5l.94-2.06 2.06-.94-2.06-.94L8.5 2.5l-.94 2.06-2.06.94zm10 10l.94 2.06.94-2.06 2.06-.94-2.06-.94-.94-2.06-.94 2.06-2.06.94z\"/><path d=\"M17.41 7.96l-1.37-1.37c-.4-.4-.92-.59-1.43-.59-.52 0-1.04.2-1.43.59L10.3 9.45l-7.72 7.72c-.78.78-.78 2.05 0 2.83L4 21.41c.39.39.9.59 1.41.59.51 0 1.02-.2 1.41-.59l7.78-7.78 2.81-2.81c.8-.78.8-2.07 0-2.86zM5.41 20L4 18.59l7.72-7.72 1.47 1.35L5.41 20z\"/>\n",
              "  </svg>\n",
              "      </button>\n",
              "      \n",
              "  <style>\n",
              "    .colab-df-container {\n",
              "      display:flex;\n",
              "      flex-wrap:wrap;\n",
              "      gap: 12px;\n",
              "    }\n",
              "\n",
              "    .colab-df-convert {\n",
              "      background-color: #E8F0FE;\n",
              "      border: none;\n",
              "      border-radius: 50%;\n",
              "      cursor: pointer;\n",
              "      display: none;\n",
              "      fill: #1967D2;\n",
              "      height: 32px;\n",
              "      padding: 0 0 0 0;\n",
              "      width: 32px;\n",
              "    }\n",
              "\n",
              "    .colab-df-convert:hover {\n",
              "      background-color: #E2EBFA;\n",
              "      box-shadow: 0px 1px 2px rgba(60, 64, 67, 0.3), 0px 1px 3px 1px rgba(60, 64, 67, 0.15);\n",
              "      fill: #174EA6;\n",
              "    }\n",
              "\n",
              "    [theme=dark] .colab-df-convert {\n",
              "      background-color: #3B4455;\n",
              "      fill: #D2E3FC;\n",
              "    }\n",
              "\n",
              "    [theme=dark] .colab-df-convert:hover {\n",
              "      background-color: #434B5C;\n",
              "      box-shadow: 0px 1px 3px 1px rgba(0, 0, 0, 0.15);\n",
              "      filter: drop-shadow(0px 1px 2px rgba(0, 0, 0, 0.3));\n",
              "      fill: #FFFFFF;\n",
              "    }\n",
              "  </style>\n",
              "\n",
              "      <script>\n",
              "        const buttonEl =\n",
              "          document.querySelector('#df-b68af4b7-e5f0-4de4-8156-280eb2b6c2c9 button.colab-df-convert');\n",
              "        buttonEl.style.display =\n",
              "          google.colab.kernel.accessAllowed ? 'block' : 'none';\n",
              "\n",
              "        async function convertToInteractive(key) {\n",
              "          const element = document.querySelector('#df-b68af4b7-e5f0-4de4-8156-280eb2b6c2c9');\n",
              "          const dataTable =\n",
              "            await google.colab.kernel.invokeFunction('convertToInteractive',\n",
              "                                                     [key], {});\n",
              "          if (!dataTable) return;\n",
              "\n",
              "          const docLinkHtml = 'Like what you see? Visit the ' +\n",
              "            '<a target=\"_blank\" href=https://colab.research.google.com/notebooks/data_table.ipynb>data table notebook</a>'\n",
              "            + ' to learn more about interactive tables.';\n",
              "          element.innerHTML = '';\n",
              "          dataTable['output_type'] = 'display_data';\n",
              "          await google.colab.output.renderOutput(dataTable, element);\n",
              "          const docLink = document.createElement('div');\n",
              "          docLink.innerHTML = docLinkHtml;\n",
              "          element.appendChild(docLink);\n",
              "        }\n",
              "      </script>\n",
              "    </div>\n",
              "  </div>\n",
              "  "
            ]
          },
          "metadata": {},
          "execution_count": 3
        }
      ]
    },
    {
      "cell_type": "code",
      "source": [
        "\n",
        "plt.plot(df.index, df['adjclose'])\n",
        "plt.title('ADA Cardano coin Original data of 2018-22 ')\n",
        "plt.xlabel('days')\n",
        "plt.ylabel('Price (in USD)')\n",
        "plt.show()"
      ],
      "metadata": {
        "colab": {
          "base_uri": "https://localhost:8080/",
          "height": 295
        },
        "id": "TpVCrdZIQEFW",
        "outputId": "6898e67f-c570-4f89-cbb5-46a9ebdae451"
      },
      "execution_count": null,
      "outputs": [
        {
          "output_type": "display_data",
          "data": {
            "text/plain": [
              "<Figure size 432x288 with 1 Axes>"
            ],
            "image/png": "[encoded data removed]"
          },
          "metadata": {
            "needs_background": "light"
          }
        }
      ]
    },
    {
      "cell_type": "code",
      "source": [
        "# Converting the'x'variable i.e. the Days column in to date-time format, to be treated as the index of Y here.\n",
        "df['timestamp'] = pd.to_datetime(df[\"timestamp\"])\n",
        "df.set_index('timestamp', inplace = True)"
      ],
      "metadata": {
        "id": "b8mychozQwd0"
      },
      "execution_count": null,
      "outputs": []
    },
    {
      "cell_type": "code",
      "source": [
        "plt.figure(figsize=(9,4))\n",
        "plt.plot(df['adjclose'],color='orange', label= 'ADA Cardano Adjusted close feature')\n",
        "plt.xlabel(\"date\")\n",
        "plt.ylabel('price (in USD)')\n",
        "plt.legend()\n",
        "plt.show()"
      ],
      "metadata": {
        "colab": {
          "base_uri": "https://localhost:8080/",
          "height": 279
        },
        "id": "S9sAwGOzQ0Gk",
        "outputId": "6a4b78d8-578e-477d-946a-c4ee3f709af8"
      },
      "execution_count": null,
      "outputs": [
        {
          "output_type": "display_data",
          "data": {
            "text/plain": [
              "<Figure size 648x288 with 1 Axes>"
            ],
            "image/png": "[encoded data removed]"
          },
          "metadata": {
            "needs_background": "light"
          }
        }
      ]
    },
    {
      "cell_type": "code",
      "source": [
        "\n",
        "\n",
        "\n",
        "plt.figure(figsize=(9,4))\n",
        "df = df.loc['2021-01' : '2022']\n",
        "plt.plot(df['adjclose'])\n",
        "plt.title(\"Sample taken between 2021 till 10-2022\" )\n",
        "plt.xlabel(\"days\")\n",
        "plt.ylabel(\"price (in USD)\")"
      ],
      "metadata": {
        "colab": {
          "base_uri": "https://localhost:8080/",
          "height": 312
        },
        "id": "h1vAEMZpQ3gG",
        "outputId": "008ffd3f-c739-4a89-8780-880e8dea0f43"
      },
      "execution_count": null,
      "outputs": [
        {
          "output_type": "execute_result",
          "data": {
            "text/plain": [
              "Text(0, 0.5, 'price (in USD)')"
            ]
          },
          "metadata": {},
          "execution_count": 7
        },
        {
          "output_type": "display_data",
          "data": {
            "text/plain": [
              "<Figure size 648x288 with 1 Axes>"
            ],
            "image/png": "[encoded data removed]"
          },
          "metadata": {
            "needs_background": "light"
          }
        }
      ]
    },
    {
      "cell_type": "code",
      "source": [
        "# # Dataset with date index (X - independent variable)\n",
        "# df['adjclose']= np.round(df['adjclose'][:],1)\n",
        "# df['adjclose']"
      ],
      "metadata": {
        "id": "YUxvaoYQQ9NC"
      },
      "execution_count": null,
      "outputs": []
    },
    {
      "cell_type": "code",
      "source": [
        "plt.figure(figsize=(9,4))\n",
        "plt.grid(True)\n",
        "to_row = int(len(df)*0.74)\n",
        "training_data = list(df[0:to_row]['adjclose'])\n",
        "testing_data = list(df[to_row:]['adjclose'])\n",
        "plt.plot(df[0:to_row]['adjclose'],color='green', label= 'Training set: 74%',linestyle ='dashed')\n",
        "plt.plot(df[to_row:]['adjclose'],color='blue', label= 'Test set: 26%')\n",
        "plt.title(\"Splitting the Data into Training & Test set\")\n",
        "plt.xlabel(\"date\")\n",
        "plt.ylabel('price (in USD)')\n",
        "plt.legend()\n",
        "plt.show()"
      ],
      "metadata": {
        "colab": {
          "base_uri": "https://localhost:8080/",
          "height": 295
        },
        "id": "0JNX3GF3RC70",
        "outputId": "d252616e-aef1-49fb-9e7b-b7c4b8c7c751"
      },
      "execution_count": null,
      "outputs": [
        {
          "output_type": "display_data",
          "data": {
            "text/plain": [
              "<Figure size 648x288 with 1 Axes>"
            ],
            "image/png": "[encoded data removed]"
          },
          "metadata": {
            "needs_background": "light"
          }
        }
      ]
    },
    {
      "cell_type": "code",
      "source": [
        "# define input sequence\n",
        "timeseries_data = list(df[0:to_row]['adjclose'])"
      ],
      "metadata": {
        "id": "1UhNc3ZFTB8G"
      },
      "execution_count": null,
      "outputs": []
    },
    {
      "cell_type": "code",
      "source": [
        "# Working on Univariate data\n",
        "# preparing independent and dependent features\n",
        "def prepare_data(timeseries_data, n_steps):\n",
        "\tX, y =[],[]\n",
        "\tfor i in range(len(timeseries_data)):\n",
        "\t\t# find the end of this pattern\n",
        "\t\tend_ix = i + n_steps\n",
        "\t\t# check if we are beyond the sequence\n",
        "\t\tif end_ix > len(timeseries_data)-1:\n",
        "\t\t\tbreak\n",
        "\t\t# gather input and output parts of the pattern\n",
        "\t\tseq_x, seq_y = timeseries_data[i:end_ix], timeseries_data[end_ix]\n",
        "\t\tX.append(seq_x)\n",
        "\t\ty.append(seq_y)\n",
        "\treturn np.array(X), np.array(y)"
      ],
      "metadata": {
        "id": "AkFzZtJeSbL3"
      },
      "execution_count": null,
      "outputs": []
    },
    {
      "cell_type": "code",
      "source": [
        "# choosing a number of time steps\n",
        "n_steps = 3\n",
        "# splitting into samples\n",
        "X, y = prepare_data(timeseries_data, n_steps)"
      ],
      "metadata": {
        "id": "EjKkU7aFTNV9"
      },
      "execution_count": null,
      "outputs": []
    },
    {
      "cell_type": "code",
      "source": [
        "#for i in range(len(X)):\n",
        " # print(X[i],y[i])"
      ],
      "metadata": {
        "id": "p6QzcD9KU5FB"
      },
      "execution_count": null,
      "outputs": []
    },
    {
      "cell_type": "code",
      "source": [
        "print(df[0:to_row]['adjclose'])"
      ],
      "metadata": {
        "colab": {
          "base_uri": "https://localhost:8080/"
        },
        "id": "QrZIvMXyVJ0A",
        "outputId": "a9c60af5-be9f-463c-e637-19681b0634f1"
      },
      "execution_count": null,
      "outputs": [
        {
          "output_type": "stream",
          "name": "stdout",
          "text": [
            "timestamp\n",
            "2021-01-01    0.175350\n",
            "2021-01-02    0.177423\n",
            "2021-01-03    0.204995\n",
            "2021-01-04    0.224762\n",
            "2021-01-05    0.258314\n",
            "                ...   \n",
            "2022-04-11    0.920450\n",
            "2022-04-12    0.955145\n",
            "2022-04-13    0.974696\n",
            "2022-04-14    0.932412\n",
            "2022-04-15    0.954717\n",
            "Name: adjclose, Length: 470, dtype: float64\n"
          ]
        }
      ]
    },
    {
      "cell_type": "code",
      "source": [
        " n_features = 1\n",
        "# #X = X.reshape((X.shape[0], X.shape[1], n_features))\n",
        "\n"
      ],
      "metadata": {
        "id": "QVW8eeaLUckt"
      },
      "execution_count": null,
      "outputs": []
    },
    {
      "cell_type": "markdown",
      "source": [
        "Applying Stacked LSTM LSTM Algorithm:\n",
        "Multiple hidden LSTM layers can be stacked one on top of another in what is referred to as a Stacked LSTM model.\n"
      ],
      "metadata": {
        "id": "HV7E3XHqYDyU"
      }
    },
    {
      "cell_type": "code",
      "source": [
        "# define model\n",
        "model = Sequential()\n",
        "model.add(LSTM(50, activation='relu', return_sequences=True, input_shape=(n_steps, n_features)))\n",
        "model.add(LSTM(50, activation='relu'))\n",
        "model.add(Dense(1))\n",
        "model.compile(optimizer='adam', loss='mse')"
      ],
      "metadata": {
        "id": "CWVVC6KvX6gh"
      },
      "execution_count": null,
      "outputs": []
    },
    {
      "cell_type": "code",
      "source": [
        "# reshape from [samples, timesteps] into [samples, timesteps, features]\n",
        "#n_features = 1\n",
        "X = X.reshape((X.shape[0], X.shape[1], n_features))"
      ],
      "metadata": {
        "id": "JH-HGHh2Yoq-"
      },
      "execution_count": null,
      "outputs": []
    },
    {
      "cell_type": "code",
      "source": [
        "\n",
        "...\n",
        "# fit model\n",
        "model.fit(X, y, epochs=200, verbose=1)"
      ],
      "metadata": {
        "colab": {
          "base_uri": "https://localhost:8080/"
        },
        "id": "d7_x_4WyZorw",
        "outputId": "09dec6fc-57e4-4a0f-8a4b-7d45d1e2954f"
      },
      "execution_count": null,
      "outputs": [
        {
          "output_type": "stream",
          "name": "stdout",
          "text": [
            "Epoch 1/200\n",
            "15/15 [==============================] - 0s 7ms/step - loss: 0.0090\n",
            "Epoch 2/200\n",
            "15/15 [==============================] - 0s 6ms/step - loss: 0.0089\n",
            "Epoch 3/200\n",
            "15/15 [==============================] - 0s 6ms/step - loss: 0.0102\n",
            "Epoch 4/200\n",
            "15/15 [==============================] - 0s 6ms/step - loss: 0.0092\n",
            "Epoch 5/200\n",
            "15/15 [==============================] - 0s 6ms/step - loss: 0.0093\n",
            "Epoch 6/200\n",
            "15/15 [==============================] - 0s 6ms/step - loss: 0.0087\n",
            "Epoch 7/200\n",
            "15/15 [==============================] - 0s 6ms/step - loss: 0.0089\n",
            "Epoch 8/200\n",
            "15/15 [==============================] - 0s 6ms/step - loss: 0.0102\n",
            "Epoch 9/200\n",
            "15/15 [==============================] - 0s 6ms/step - loss: 0.0094\n",
            "Epoch 10/200\n",
            "15/15 [==============================] - 0s 6ms/step - loss: 0.0093\n",
            "Epoch 11/200\n",
            "15/15 [==============================] - 0s 7ms/step - loss: 0.0088\n",
            "Epoch 12/200\n",
            "15/15 [==============================] - 0s 6ms/step - loss: 0.0085\n",
            "Epoch 13/200\n",
            "15/15 [==============================] - 0s 6ms/step - loss: 0.0091\n",
            "Epoch 14/200\n",
            "15/15 [==============================] - 0s 6ms/step - loss: 0.0083\n",
            "Epoch 15/200\n",
            "15/15 [==============================] - 0s 6ms/step - loss: 0.0085\n",
            "Epoch 16/200\n",
            "15/15 [==============================] - 0s 6ms/step - loss: 0.0087\n",
            "Epoch 17/200\n",
            "15/15 [==============================] - 0s 6ms/step - loss: 0.0089\n",
            "Epoch 18/200\n",
            "15/15 [==============================] - 0s 6ms/step - loss: 0.0085\n",
            "Epoch 19/200\n",
            "15/15 [==============================] - 0s 6ms/step - loss: 0.0088\n",
            "Epoch 20/200\n",
            "15/15 [==============================] - 0s 6ms/step - loss: 0.0097\n",
            "Epoch 21/200\n",
            "15/15 [==============================] - 0s 7ms/step - loss: 0.0090\n",
            "Epoch 22/200\n",
            "15/15 [==============================] - 0s 6ms/step - loss: 0.0088\n",
            "Epoch 23/200\n",
            "15/15 [==============================] - 0s 6ms/step - loss: 0.0087\n",
            "Epoch 24/200\n",
            "15/15 [==============================] - 0s 6ms/step - loss: 0.0085\n",
            "Epoch 25/200\n",
            "15/15 [==============================] - 0s 6ms/step - loss: 0.0092\n",
            "Epoch 26/200\n",
            "15/15 [==============================] - 0s 6ms/step - loss: 0.0089\n",
            "Epoch 27/200\n",
            "15/15 [==============================] - 0s 6ms/step - loss: 0.0089\n",
            "Epoch 28/200\n",
            "15/15 [==============================] - 0s 7ms/step - loss: 0.0089\n",
            "Epoch 29/200\n",
            "15/15 [==============================] - 0s 6ms/step - loss: 0.0094\n",
            "Epoch 30/200\n",
            "15/15 [==============================] - 0s 6ms/step - loss: 0.0090\n",
            "Epoch 31/200\n",
            "15/15 [==============================] - 0s 8ms/step - loss: 0.0084\n",
            "Epoch 32/200\n",
            "15/15 [==============================] - 0s 6ms/step - loss: 0.0086\n",
            "Epoch 33/200\n",
            "15/15 [==============================] - 0s 6ms/step - loss: 0.0089\n",
            "Epoch 34/200\n",
            "15/15 [==============================] - 0s 6ms/step - loss: 0.0084\n",
            "Epoch 35/200\n",
            "15/15 [==============================] - 0s 6ms/step - loss: 0.0085\n",
            "Epoch 36/200\n",
            "15/15 [==============================] - 0s 6ms/step - loss: 0.0087\n",
            "Epoch 37/200\n",
            "15/15 [==============================] - 0s 6ms/step - loss: 0.0095\n",
            "Epoch 38/200\n",
            "15/15 [==============================] - 0s 7ms/step - loss: 0.0087\n",
            "Epoch 39/200\n",
            "15/15 [==============================] - 0s 6ms/step - loss: 0.0084\n",
            "Epoch 40/200\n",
            "15/15 [==============================] - 0s 6ms/step - loss: 0.0084\n",
            "Epoch 41/200\n",
            "15/15 [==============================] - 0s 6ms/step - loss: 0.0088\n",
            "Epoch 42/200\n",
            "15/15 [==============================] - 0s 6ms/step - loss: 0.0087\n",
            "Epoch 43/200\n",
            "15/15 [==============================] - 0s 6ms/step - loss: 0.0083\n",
            "Epoch 44/200\n",
            "15/15 [==============================] - 0s 6ms/step - loss: 0.0088\n",
            "Epoch 45/200\n",
            "15/15 [==============================] - 0s 6ms/step - loss: 0.0088\n",
            "Epoch 46/200\n",
            "15/15 [==============================] - 0s 6ms/step - loss: 0.0087\n",
            "Epoch 47/200\n",
            "15/15 [==============================] - 0s 7ms/step - loss: 0.0084\n",
            "Epoch 48/200\n",
            "15/15 [==============================] - 0s 6ms/step - loss: 0.0086\n",
            "Epoch 49/200\n",
            "15/15 [==============================] - 0s 6ms/step - loss: 0.0084\n",
            "Epoch 50/200\n",
            "15/15 [==============================] - 0s 9ms/step - loss: 0.0086\n",
            "Epoch 51/200\n",
            "15/15 [==============================] - 0s 10ms/step - loss: 0.0084\n",
            "Epoch 52/200\n",
            "15/15 [==============================] - 0s 9ms/step - loss: 0.0086\n",
            "Epoch 53/200\n",
            "15/15 [==============================] - 0s 10ms/step - loss: 0.0084\n",
            "Epoch 54/200\n",
            "15/15 [==============================] - 0s 9ms/step - loss: 0.0090\n",
            "Epoch 55/200\n",
            "15/15 [==============================] - 0s 9ms/step - loss: 0.0086\n",
            "Epoch 56/200\n",
            "15/15 [==============================] - 0s 9ms/step - loss: 0.0085\n",
            "Epoch 57/200\n",
            "15/15 [==============================] - 0s 9ms/step - loss: 0.0082\n",
            "Epoch 58/200\n",
            "15/15 [==============================] - 0s 10ms/step - loss: 0.0091\n",
            "Epoch 59/200\n",
            "15/15 [==============================] - 0s 10ms/step - loss: 0.0085\n",
            "Epoch 60/200\n",
            "15/15 [==============================] - 0s 11ms/step - loss: 0.0089\n",
            "Epoch 61/200\n",
            "15/15 [==============================] - 0s 9ms/step - loss: 0.0090\n",
            "Epoch 62/200\n",
            "15/15 [==============================] - 0s 9ms/step - loss: 0.0089\n",
            "Epoch 63/200\n",
            "15/15 [==============================] - 0s 9ms/step - loss: 0.0092\n",
            "Epoch 64/200\n",
            "15/15 [==============================] - 0s 9ms/step - loss: 0.0086\n",
            "Epoch 65/200\n",
            "15/15 [==============================] - 0s 9ms/step - loss: 0.0084\n",
            "Epoch 66/200\n",
            "15/15 [==============================] - 0s 10ms/step - loss: 0.0083\n",
            "Epoch 67/200\n",
            "15/15 [==============================] - 0s 9ms/step - loss: 0.0084\n",
            "Epoch 68/200\n",
            "15/15 [==============================] - 0s 9ms/step - loss: 0.0084\n",
            "Epoch 69/200\n",
            "15/15 [==============================] - 0s 9ms/step - loss: 0.0085\n",
            "Epoch 70/200\n",
            "15/15 [==============================] - 0s 6ms/step - loss: 0.0091\n",
            "Epoch 71/200\n",
            "15/15 [==============================] - 0s 6ms/step - loss: 0.0087\n",
            "Epoch 72/200\n",
            "15/15 [==============================] - 0s 6ms/step - loss: 0.0093\n",
            "Epoch 73/200\n",
            "15/15 [==============================] - 0s 6ms/step - loss: 0.0088\n",
            "Epoch 74/200\n",
            "15/15 [==============================] - 0s 7ms/step - loss: 0.0087\n",
            "Epoch 75/200\n",
            "15/15 [==============================] - 0s 6ms/step - loss: 0.0093\n",
            "Epoch 76/200\n",
            "15/15 [==============================] - 0s 6ms/step - loss: 0.0095\n",
            "Epoch 77/200\n",
            "15/15 [==============================] - 0s 6ms/step - loss: 0.0083\n",
            "Epoch 78/200\n",
            "15/15 [==============================] - 0s 6ms/step - loss: 0.0084\n",
            "Epoch 79/200\n",
            "15/15 [==============================] - 0s 6ms/step - loss: 0.0084\n",
            "Epoch 80/200\n",
            "15/15 [==============================] - 0s 6ms/step - loss: 0.0089\n",
            "Epoch 81/200\n",
            "15/15 [==============================] - 0s 6ms/step - loss: 0.0087\n",
            "Epoch 82/200\n",
            "15/15 [==============================] - 0s 6ms/step - loss: 0.0083\n",
            "Epoch 83/200\n",
            "15/15 [==============================] - 0s 6ms/step - loss: 0.0088\n",
            "Epoch 84/200\n",
            "15/15 [==============================] - 0s 7ms/step - loss: 0.0085\n",
            "Epoch 85/200\n",
            "15/15 [==============================] - 0s 6ms/step - loss: 0.0088\n",
            "Epoch 86/200\n",
            "15/15 [==============================] - 0s 6ms/step - loss: 0.0082\n",
            "Epoch 87/200\n",
            "15/15 [==============================] - 0s 6ms/step - loss: 0.0090\n",
            "Epoch 88/200\n",
            "15/15 [==============================] - 0s 6ms/step - loss: 0.0090\n",
            "Epoch 89/200\n",
            "15/15 [==============================] - 0s 7ms/step - loss: 0.0103\n",
            "Epoch 90/200\n",
            "15/15 [==============================] - 0s 6ms/step - loss: 0.0093\n",
            "Epoch 91/200\n",
            "15/15 [==============================] - 0s 6ms/step - loss: 0.0096\n",
            "Epoch 92/200\n",
            "15/15 [==============================] - 0s 6ms/step - loss: 0.0089\n",
            "Epoch 93/200\n",
            "15/15 [==============================] - 0s 7ms/step - loss: 0.0085\n",
            "Epoch 94/200\n",
            "15/15 [==============================] - 0s 7ms/step - loss: 0.0089\n",
            "Epoch 95/200\n",
            "15/15 [==============================] - 0s 6ms/step - loss: 0.0092\n",
            "Epoch 96/200\n",
            "15/15 [==============================] - 0s 7ms/step - loss: 0.0088\n",
            "Epoch 97/200\n",
            "15/15 [==============================] - 0s 6ms/step - loss: 0.0087\n",
            "Epoch 98/200\n",
            "15/15 [==============================] - 0s 7ms/step - loss: 0.0083\n",
            "Epoch 99/200\n",
            "15/15 [==============================] - 0s 6ms/step - loss: 0.0100\n",
            "Epoch 100/200\n",
            "15/15 [==============================] - 0s 7ms/step - loss: 0.0095\n",
            "Epoch 101/200\n",
            "15/15 [==============================] - 0s 6ms/step - loss: 0.0089\n",
            "Epoch 102/200\n",
            "15/15 [==============================] - 0s 6ms/step - loss: 0.0089\n",
            "Epoch 103/200\n",
            "15/15 [==============================] - 0s 6ms/step - loss: 0.0087\n",
            "Epoch 104/200\n",
            "15/15 [==============================] - 0s 7ms/step - loss: 0.0090\n",
            "Epoch 105/200\n",
            "15/15 [==============================] - 0s 6ms/step - loss: 0.0087\n",
            "Epoch 106/200\n",
            "15/15 [==============================] - 0s 6ms/step - loss: 0.0084\n",
            "Epoch 107/200\n",
            "15/15 [==============================] - 0s 6ms/step - loss: 0.0085\n",
            "Epoch 108/200\n",
            "15/15 [==============================] - 0s 6ms/step - loss: 0.0085\n",
            "Epoch 109/200\n",
            "15/15 [==============================] - 0s 6ms/step - loss: 0.0086\n",
            "Epoch 110/200\n",
            "15/15 [==============================] - 0s 6ms/step - loss: 0.0087\n",
            "Epoch 111/200\n",
            "15/15 [==============================] - 0s 6ms/step - loss: 0.0088\n",
            "Epoch 112/200\n",
            "15/15 [==============================] - 0s 7ms/step - loss: 0.0081\n",
            "Epoch 113/200\n",
            "15/15 [==============================] - 0s 6ms/step - loss: 0.0100\n",
            "Epoch 114/200\n",
            "15/15 [==============================] - 0s 7ms/step - loss: 0.0086\n",
            "Epoch 115/200\n",
            "15/15 [==============================] - 0s 6ms/step - loss: 0.0086\n",
            "Epoch 116/200\n",
            "15/15 [==============================] - 0s 6ms/step - loss: 0.0086\n",
            "Epoch 117/200\n",
            "15/15 [==============================] - 0s 6ms/step - loss: 0.0087\n",
            "Epoch 118/200\n",
            "15/15 [==============================] - 0s 6ms/step - loss: 0.0094\n",
            "Epoch 119/200\n",
            "15/15 [==============================] - 0s 7ms/step - loss: 0.0087\n",
            "Epoch 120/200\n",
            "15/15 [==============================] - 0s 6ms/step - loss: 0.0082\n",
            "Epoch 121/200\n",
            "15/15 [==============================] - 0s 6ms/step - loss: 0.0086\n",
            "Epoch 122/200\n",
            "15/15 [==============================] - 0s 6ms/step - loss: 0.0093\n",
            "Epoch 123/200\n",
            "15/15 [==============================] - 0s 6ms/step - loss: 0.0085\n",
            "Epoch 124/200\n",
            "15/15 [==============================] - 0s 7ms/step - loss: 0.0084\n",
            "Epoch 125/200\n",
            "15/15 [==============================] - 0s 6ms/step - loss: 0.0085\n",
            "Epoch 126/200\n",
            "15/15 [==============================] - 0s 6ms/step - loss: 0.0087\n",
            "Epoch 127/200\n",
            "15/15 [==============================] - 0s 6ms/step - loss: 0.0095\n",
            "Epoch 128/200\n",
            "15/15 [==============================] - 0s 7ms/step - loss: 0.0083\n",
            "Epoch 129/200\n",
            "15/15 [==============================] - 0s 6ms/step - loss: 0.0084\n",
            "Epoch 130/200\n",
            "15/15 [==============================] - 0s 6ms/step - loss: 0.0093\n",
            "Epoch 131/200\n",
            "15/15 [==============================] - 0s 6ms/step - loss: 0.0083\n",
            "Epoch 132/200\n",
            "15/15 [==============================] - 0s 6ms/step - loss: 0.0089\n",
            "Epoch 133/200\n",
            "15/15 [==============================] - 0s 6ms/step - loss: 0.0088\n",
            "Epoch 134/200\n",
            "15/15 [==============================] - 0s 7ms/step - loss: 0.0091\n",
            "Epoch 135/200\n",
            "15/15 [==============================] - 0s 6ms/step - loss: 0.0086\n",
            "Epoch 136/200\n",
            "15/15 [==============================] - 0s 6ms/step - loss: 0.0085\n",
            "Epoch 137/200\n",
            "15/15 [==============================] - 0s 6ms/step - loss: 0.0083\n",
            "Epoch 138/200\n",
            "15/15 [==============================] - 0s 6ms/step - loss: 0.0082\n",
            "Epoch 139/200\n",
            "15/15 [==============================] - 0s 6ms/step - loss: 0.0090\n",
            "Epoch 140/200\n",
            "15/15 [==============================] - 0s 7ms/step - loss: 0.0090\n",
            "Epoch 141/200\n",
            "15/15 [==============================] - 0s 6ms/step - loss: 0.0093\n",
            "Epoch 142/200\n",
            "15/15 [==============================] - 0s 6ms/step - loss: 0.0089\n",
            "Epoch 143/200\n",
            "15/15 [==============================] - 0s 6ms/step - loss: 0.0107\n",
            "Epoch 144/200\n",
            "15/15 [==============================] - 0s 7ms/step - loss: 0.0087\n",
            "Epoch 145/200\n",
            "15/15 [==============================] - 0s 6ms/step - loss: 0.0084\n",
            "Epoch 146/200\n",
            "15/15 [==============================] - 0s 6ms/step - loss: 0.0090\n",
            "Epoch 147/200\n",
            "15/15 [==============================] - 0s 6ms/step - loss: 0.0087\n",
            "Epoch 148/200\n",
            "15/15 [==============================] - 0s 6ms/step - loss: 0.0082\n",
            "Epoch 149/200\n",
            "15/15 [==============================] - 0s 6ms/step - loss: 0.0086\n",
            "Epoch 150/200\n",
            "15/15 [==============================] - 0s 6ms/step - loss: 0.0096\n",
            "Epoch 151/200\n",
            "15/15 [==============================] - 0s 6ms/step - loss: 0.0103\n",
            "Epoch 152/200\n",
            "15/15 [==============================] - 0s 6ms/step - loss: 0.0085\n",
            "Epoch 153/200\n",
            "15/15 [==============================] - 0s 6ms/step - loss: 0.0088\n",
            "Epoch 154/200\n",
            "15/15 [==============================] - 0s 7ms/step - loss: 0.0083\n",
            "Epoch 155/200\n",
            "15/15 [==============================] - 0s 6ms/step - loss: 0.0088\n",
            "Epoch 156/200\n",
            "15/15 [==============================] - 0s 6ms/step - loss: 0.0096\n",
            "Epoch 157/200\n",
            "15/15 [==============================] - 0s 6ms/step - loss: 0.0097\n",
            "Epoch 158/200\n",
            "15/15 [==============================] - 0s 6ms/step - loss: 0.0094\n",
            "Epoch 159/200\n",
            "15/15 [==============================] - 0s 6ms/step - loss: 0.0092\n",
            "Epoch 160/200\n",
            "15/15 [==============================] - 0s 6ms/step - loss: 0.0084\n",
            "Epoch 161/200\n",
            "15/15 [==============================] - 0s 6ms/step - loss: 0.0088\n",
            "Epoch 162/200\n",
            "15/15 [==============================] - 0s 7ms/step - loss: 0.0082\n",
            "Epoch 163/200\n",
            "15/15 [==============================] - 0s 7ms/step - loss: 0.0084\n",
            "Epoch 164/200\n",
            "15/15 [==============================] - 0s 6ms/step - loss: 0.0084\n",
            "Epoch 165/200\n",
            "15/15 [==============================] - 0s 6ms/step - loss: 0.0085\n",
            "Epoch 166/200\n",
            "15/15 [==============================] - 0s 6ms/step - loss: 0.0090\n",
            "Epoch 167/200\n",
            "15/15 [==============================] - 0s 6ms/step - loss: 0.0086\n",
            "Epoch 168/200\n",
            "15/15 [==============================] - 0s 7ms/step - loss: 0.0083\n",
            "Epoch 169/200\n",
            "15/15 [==============================] - 0s 9ms/step - loss: 0.0086\n",
            "Epoch 170/200\n",
            "15/15 [==============================] - 0s 12ms/step - loss: 0.0085\n",
            "Epoch 171/200\n",
            "15/15 [==============================] - 0s 10ms/step - loss: 0.0085\n",
            "Epoch 172/200\n",
            "15/15 [==============================] - 0s 11ms/step - loss: 0.0094\n",
            "Epoch 173/200\n",
            "15/15 [==============================] - 0s 9ms/step - loss: 0.0091\n",
            "Epoch 174/200\n",
            "15/15 [==============================] - 0s 9ms/step - loss: 0.0088\n",
            "Epoch 175/200\n",
            "15/15 [==============================] - 0s 8ms/step - loss: 0.0085\n",
            "Epoch 176/200\n",
            "15/15 [==============================] - 0s 9ms/step - loss: 0.0083\n",
            "Epoch 177/200\n",
            "15/15 [==============================] - 0s 10ms/step - loss: 0.0087\n",
            "Epoch 178/200\n",
            "15/15 [==============================] - 0s 10ms/step - loss: 0.0082\n",
            "Epoch 179/200\n",
            "15/15 [==============================] - 0s 9ms/step - loss: 0.0090\n",
            "Epoch 180/200\n",
            "15/15 [==============================] - 0s 9ms/step - loss: 0.0087\n",
            "Epoch 181/200\n",
            "15/15 [==============================] - 0s 10ms/step - loss: 0.0082\n",
            "Epoch 182/200\n",
            "15/15 [==============================] - 0s 10ms/step - loss: 0.0087\n",
            "Epoch 183/200\n",
            "15/15 [==============================] - 0s 9ms/step - loss: 0.0086\n",
            "Epoch 184/200\n",
            "15/15 [==============================] - 0s 10ms/step - loss: 0.0103\n",
            "Epoch 185/200\n",
            "15/15 [==============================] - 0s 9ms/step - loss: 0.0093\n",
            "Epoch 186/200\n",
            "15/15 [==============================] - 0s 9ms/step - loss: 0.0105\n",
            "Epoch 187/200\n",
            "15/15 [==============================] - 0s 10ms/step - loss: 0.0086\n",
            "Epoch 188/200\n",
            "15/15 [==============================] - 0s 9ms/step - loss: 0.0088\n",
            "Epoch 189/200\n",
            "15/15 [==============================] - 0s 7ms/step - loss: 0.0086\n",
            "Epoch 190/200\n",
            "15/15 [==============================] - 0s 6ms/step - loss: 0.0088\n",
            "Epoch 191/200\n",
            "15/15 [==============================] - 0s 6ms/step - loss: 0.0082\n",
            "Epoch 192/200\n",
            "15/15 [==============================] - 0s 6ms/step - loss: 0.0086\n",
            "Epoch 193/200\n",
            "15/15 [==============================] - 0s 6ms/step - loss: 0.0083\n",
            "Epoch 194/200\n",
            "15/15 [==============================] - 0s 7ms/step - loss: 0.0081\n",
            "Epoch 195/200\n",
            "15/15 [==============================] - 0s 6ms/step - loss: 0.0092\n",
            "Epoch 196/200\n",
            "15/15 [==============================] - 0s 7ms/step - loss: 0.0083\n",
            "Epoch 197/200\n",
            "15/15 [==============================] - 0s 6ms/step - loss: 0.0083\n",
            "Epoch 198/200\n",
            "15/15 [==============================] - 0s 7ms/step - loss: 0.0085\n",
            "Epoch 199/200\n",
            "15/15 [==============================] - 0s 6ms/step - loss: 0.0089\n",
            "Epoch 200/200\n",
            "15/15 [==============================] - 0s 6ms/step - loss: 0.0086\n"
          ]
        },
        {
          "output_type": "execute_result",
          "data": {
            "text/plain": [
              "<keras.callbacks.History at 0x7f5f343ade20>"
            ]
          },
          "metadata": {},
          "execution_count": 19
        }
      ]
    },
    {
      "cell_type": "code",
      "source": [
        "print(np.array(training_data))"
      ],
      "metadata": {
        "colab": {
          "base_uri": "https://localhost:8080/"
        },
        "id": "8OrO87y2sjsE",
        "outputId": "f8bf3584-b42a-4661-b8af-531bca4559dd"
      },
      "execution_count": null,
      "outputs": [
        {
          "output_type": "stream",
          "name": "stdout",
          "text": [
            "[0.17535    0.177423   0.20499501 0.22476199 0.25831401 0.331898\n",
            " 0.29998001 0.30559701 0.332973   0.30489501 0.275466   0.28700301\n",
            " 0.313609   0.31039599 0.30252999 0.35244399 0.379852   0.37142801\n",
            " 0.36913699 0.37539399 0.31020901 0.34957701 0.34564301 0.353881\n",
            " 0.34388599 0.34423399 0.31308001 0.346129   0.348131   0.36261901\n",
            " 0.34489799 0.402033   0.426247   0.44139999 0.44105101 0.53787398\n",
            " 0.627886   0.66323799 0.68251097 0.70351601 0.930318   0.92774099\n",
            " 0.925587   0.90571898 0.84841901 0.86101198 0.870951   0.89091998\n",
            " 0.91411901 0.92764902 1.12295794 1.10052001 1.09915102 0.95470899\n",
            " 1.05165696 1.07911599 1.24110496 1.32485998 1.30805898 1.29238796\n",
            " 1.225582   1.21659303 1.11486804 1.16852295 1.13101196 1.13336694\n",
            " 1.11805296 1.19516098 1.13500297 1.12478995 1.03914404 1.10331404\n",
            " 1.05915403 1.03353906 1.24295294 1.37867296 1.23900604 1.30217004\n",
            " 1.20654094 1.18913996 1.10987401 1.12155199 1.07500196 1.10157394\n",
            " 1.21396899 1.17657697 1.19112396 1.20254099 1.21331704 1.19326401\n",
            " 1.18924403 1.196509   1.17327702 1.19141996 1.21430004 1.25535405\n",
            " 1.17514896 1.21943605 1.20353997 1.21875799 1.26673496 1.31612694\n",
            " 1.41178596 1.45542002 1.48158801 1.41694903 1.38486898 1.27550101\n",
            " 1.19795895 1.26593399 1.20673501 1.147017   1.15570199 1.10135496\n",
            " 1.08825004 1.23401904 1.30692697 1.33566594 1.30801404 1.35244906\n",
            " 1.35307097 1.32681203 1.36203003 1.27411103 1.47552896 1.65012395\n",
            " 1.65345299 1.61955404 1.77056205 1.644696   1.76407695 1.55277503\n",
            " 1.93366802 2.00479603 2.17402697 2.30911303 2.03222609 2.00366211\n",
            " 1.48252106 1.81046903 1.55227697 1.46362197 1.325436   1.54948497\n",
            " 1.55536902 1.78270197 1.64595997 1.51198697 1.406232   1.57727897\n",
            " 1.74277794 1.73475301 1.75282395 1.84047103 1.71090806 1.65900898\n",
            " 1.67824805 1.56410599 1.58802998 1.62482595 1.53185701 1.436378\n",
            " 1.48021996 1.55835903 1.57510996 1.59775603 1.48257303 1.48219395\n",
            " 1.41539598 1.39057004 1.42918801 1.17747998 1.15325403 1.25289595\n",
            " 1.35608697 1.25647795 1.25044    1.33520198 1.32475197 1.36843705\n",
            " 1.38347197 1.33561099 1.39439702 1.40683603 1.458184   1.40489805\n",
            " 1.41805303 1.40311801 1.33014596 1.34947395 1.33608496 1.34814501\n",
            " 1.315099   1.26508296 1.26225805 1.22319198 1.173715   1.17230201\n",
            " 1.18369806 1.12111604 1.05629098 1.16809797 1.18616104 1.20630705\n",
            " 1.23349702 1.22850096 1.25849295 1.27844596 1.28350401 1.28408396\n",
            " 1.30895197 1.32234502 1.31772995 1.31006801 1.365026   1.37656403\n",
            " 1.386145   1.40178597 1.47067702 1.42782998 1.47764003 1.67256606\n",
            " 1.79803801 1.82387805 2.13607907 2.19168711 2.16915298 2.07941699\n",
            " 1.92660105 2.10856009 2.42813993 2.45770192 2.43543506 2.71372509\n",
            " 2.91738605 2.72109103 2.738132   2.53552794 2.94419694 2.84749007\n",
            " 2.85598612 2.73316002 2.772475   2.87076712 2.96343803 2.96823907\n",
            " 2.83280706 2.91082406 2.83189702 2.502491   2.47498894 2.5176661\n",
            " 2.38591099 2.63395    2.58172703 2.4006629  2.39563799 2.50163507\n",
            " 2.42096901 2.3464191  2.36997795 2.28229904 2.06398892 1.987028\n",
            " 2.26618195 2.33094096 2.28126907 2.30154109 2.2084949  2.13590503\n",
            " 2.03913903 2.06568789 2.11445189 2.25812697 2.25145888 2.25287294\n",
            " 2.18923497 2.23312402 2.2121551  2.27699494 2.23717594 2.26661491\n",
            " 2.19721389 2.17338896 2.11918998 2.18905306 2.17036295 2.21465111\n",
            " 2.17771292 2.15696311 2.128263   2.11296201 2.18595004 2.13659096\n",
            " 2.15419888 2.16681504 2.12343502 2.1440661  2.13877702 1.91323698\n",
            " 1.98821902 2.012187   1.95742202 1.96502602 1.95000196 1.97137702\n",
            " 2.06370091 1.984882   1.98620605 2.00660896 2.02187204 2.12441897\n",
            " 2.27348304 2.10180211 2.08552408 2.04576612 2.05310392 2.04085302\n",
            " 2.01558709 1.87723505 1.87554002 1.78833103 1.86479294 1.921736\n",
            " 1.83976305 1.77655494 1.75050294 1.68642294 1.65134501 1.52841997\n",
            " 1.54611802 1.59285498 1.60250795 1.55490303 1.54771304 1.71536601\n",
            " 1.55655503 1.42070603 1.37810504 1.42539299 1.38194096 1.39707398\n",
            " 1.29043996 1.211689   1.35424805 1.34728205 1.225348   1.22283494\n",
            " 1.31184697 1.24053395 1.21989202 1.24253404 1.24466097 1.23824\n",
            " 1.28085899 1.32804096 1.47469103 1.39236701 1.45349503 1.45604503\n",
            " 1.51291299 1.402264   1.330814   1.36041498 1.31020904 1.37697506\n",
            " 1.37758398 1.32163703 1.31165802 1.23600197 1.27978206 1.21154702\n",
            " 1.18751204 1.17385995 1.128052   1.18510997 1.30453503 1.23316097\n",
            " 1.29092598 1.29626298 1.407251   1.59413099 1.46554101 1.34175706\n",
            " 1.25805497 1.12323296 1.06671596 1.12237096 1.06659806 1.04357398\n",
            " 1.07904696 1.04353297 1.05060601 1.05956995 1.03747296 1.05230296\n",
            " 1.088624   1.02890599 1.05644405 1.13562405 1.12734497 1.14454699\n",
            " 1.19730699 1.17872    1.19481003 1.15247798 1.08034694 1.05819905\n",
            " 1.04581904 1.05026698 1.10758603 1.08498096 1.01989496 0.99711299\n",
            " 0.99770302 0.93290198 0.85823601 0.88901699 0.869169   0.85342503\n",
            " 0.898027   0.887918   0.85833502 0.95982802 0.96234602 0.93866199\n",
            " 0.902659   0.84288901 0.86567199 0.82375199 0.79737902 0.80124998\n",
            " 0.84929299 0.80631602 0.79012501 0.79067397 0.790995   0.80391699\n",
            " 0.80000597 0.83837402 0.83678401 0.85343301 0.90109903 0.877092\n",
            " 0.91678202 0.97644001 1.10748196 1.13001096 1.09788799 1.150594\n",
            " 1.18214798 1.17018402 1.19111204 1.19038498 1.14185095 1.16542494\n",
            " 1.15600705 1.18594098 1.21294498 1.17080104 1.05277097 1.09189403\n",
            " 1.02632594 1.04501498 1.03088498 0.92044997 0.955145   0.97469598\n",
            " 0.93241203 0.95471698]\n"
          ]
        }
      ]
    },
    {
      "cell_type": "code",
      "source": [
        "x_input = np.array([0.97469598,0.93241203 , 0.95471698])\n",
        "temp_input=list(x_input)\n",
        "lst_output=[]\n",
        "i=0\n",
        "while(i<10):\n",
        "\n",
        "    if(len(temp_input)>3):\n",
        "        x_input=np.array(temp_input[1:])\n",
        "        print(\"{} day input {}\".format(i,x_input))\n",
        "        #print(x_input)\n",
        "        x_input = x_input.reshape((1, n_steps, n_features))\n",
        "        #print(x_input)\n",
        "        yhat = model.predict(x_input, verbose=0)\n",
        "        print(\"{} day output {}\".format(i,yhat))\n",
        "        temp_input.append(yhat[0][0])\n",
        "        temp_input=temp_input[1:]\n",
        "        #print(temp_input)\n",
        "        lst_output.append(yhat[0][0])\n",
        "        i=i+1\n",
        "    else:\n",
        "        x_input = x_input.reshape((1, n_steps, n_features))\n",
        "        yhat = model.predict(x_input, verbose=0)\n",
        "        print(yhat[0])\n",
        "        temp_input.append(yhat[0][0])\n",
        "        lst_output.append(yhat[0][0])\n",
        "        i=i+1\n",
        ""
      ],
      "metadata": {
        "colab": {
          "base_uri": "https://localhost:8080/"
        },
        "id": "i2XX7HYUZuJY",
        "outputId": "0940b5e2-2715-4449-d1bf-087ac9ad8919"
      },
      "execution_count": null,
      "outputs": [
        {
          "output_type": "stream",
          "name": "stdout",
          "text": [
            "[0.9638232]\n",
            "1 day input [0.93241203 0.95471698 0.9638232 ]\n",
            "1 day output [[0.97992337]]\n",
            "2 day input [0.95471698 0.9638232  0.97992337]\n",
            "2 day output [[0.9922391]]\n",
            "3 day input [0.9638232  0.97992337 0.9922391 ]\n",
            "3 day output [[1.0050486]]\n",
            "4 day input [0.97992337 0.9922391  1.0050486 ]\n",
            "4 day output [[1.0165781]]\n",
            "5 day input [0.9922391 1.0050486 1.0165781]\n",
            "5 day output [[1.0276674]]\n",
            "6 day input [1.0050486 1.0165781 1.0276674]\n",
            "6 day output [[1.0380446]]\n",
            "7 day input [1.0165781 1.0276674 1.0380446]\n",
            "7 day output [[1.0479023]]\n",
            "8 day input [1.0276674 1.0380446 1.0479023]\n",
            "8 day output [[1.0572271]]\n",
            "9 day input [1.0380446 1.0479023 1.0572271]\n",
            "9 day output [[1.0660855]]\n"
          ]
        }
      ]
    },
    {
      "cell_type": "code",
      "source": [
        "print(model.summary())"
      ],
      "metadata": {
        "colab": {
          "base_uri": "https://localhost:8080/"
        },
        "id": "jcdnLqpXiiTD",
        "outputId": "578b8859-c1ba-4b03-f243-651f78322136"
      },
      "execution_count": null,
      "outputs": [
        {
          "output_type": "stream",
          "name": "stdout",
          "text": [
            "Model: \"sequential\"\n",
            "_________________________________________________________________\n",
            " Layer (type)                Output Shape              Param #   \n",
            "=================================================================\n",
            " lstm (LSTM)                 (None, 3, 50)             10400     \n",
            "                                                                 \n",
            " lstm_1 (LSTM)               (None, 50)                20200     \n",
            "                                                                 \n",
            " dense (Dense)               (None, 1)                 51        \n",
            "                                                                 \n",
            "=================================================================\n",
            "Total params: 30,651\n",
            "Trainable params: 30,651\n",
            "Non-trainable params: 0\n",
            "_________________________________________________________________\n",
            "None\n"
          ]
        }
      ]
    },
    {
      "cell_type": "code",
      "source": [
        "#df[0:to_row]['adjclose']"
      ],
      "metadata": {
        "id": "3f7Iwz81jVOH"
      },
      "execution_count": null,
      "outputs": []
    },
    {
      "cell_type": "code",
      "source": [
        "\n",
        "test_set = df[to_row:][0:10]['adjclose']\n",
        "\n",
        "test_set\n"
      ],
      "metadata": {
        "colab": {
          "base_uri": "https://localhost:8080/"
        },
        "id": "J1w0KpO3jiSP",
        "outputId": "c2ab8dbb-ccb5-4be6-d5f6-29027a201cd1"
      },
      "execution_count": null,
      "outputs": [
        {
          "output_type": "execute_result",
          "data": {
            "text/plain": [
              "timestamp\n",
              "2022-04-16    0.952640\n",
              "2022-04-17    0.917466\n",
              "2022-04-18    0.936730\n",
              "2022-04-19    0.953333\n",
              "2022-04-20    0.937341\n",
              "2022-04-21    0.910474\n",
              "2022-04-22    0.907154\n",
              "2022-04-23    0.888503\n",
              "2022-04-24    0.886350\n",
              "2022-04-25    0.898695\n",
              "Name: adjclose, dtype: float64"
            ]
          },
          "metadata": {},
          "execution_count": 24
        }
      ]
    },
    {
      "cell_type": "code",
      "source": [
        "date = df[to_row:][0:10]['adjclose'].index"
      ],
      "metadata": {
        "id": "UaXsK_UpjrI1"
      },
      "execution_count": null,
      "outputs": []
    },
    {
      "cell_type": "code",
      "source": [
        "lst_output"
      ],
      "metadata": {
        "colab": {
          "base_uri": "https://localhost:8080/"
        },
        "id": "1RmfQ0FGkBvO",
        "outputId": "116c50fe-204b-438d-80a0-731bac35caf5"
      },
      "execution_count": null,
      "outputs": [
        {
          "output_type": "execute_result",
          "data": {
            "text/plain": [
              "[0.9638232,\n",
              " 0.97992337,\n",
              " 0.9922391,\n",
              " 1.0050486,\n",
              " 1.0165781,\n",
              " 1.0276674,\n",
              " 1.0380446,\n",
              " 1.0479023,\n",
              " 1.0572271,\n",
              " 1.0660855]"
            ]
          },
          "metadata": {},
          "execution_count": 26
        }
      ]
    },
    {
      "cell_type": "code",
      "source": [
        "plt.plot(date,test_set)\n",
        "plt.plot(date,lst_output, color = 'r')"
      ],
      "metadata": {
        "colab": {
          "base_uri": "https://localhost:8080/",
          "height": 286
        },
        "id": "4nGxPJ2NkFg3",
        "outputId": "67a09e7e-d743-49d3-c253-49a178c947f3"
      },
      "execution_count": null,
      "outputs": [
        {
          "output_type": "execute_result",
          "data": {
            "text/plain": [
              "[<matplotlib.lines.Line2D at 0x7f5f37754490>]"
            ]
          },
          "metadata": {},
          "execution_count": 27
        },
        {
          "output_type": "display_data",
          "data": {
            "text/plain": [
              "<Figure size 432x288 with 1 Axes>"
            ],
            "image/png": "[encoded data removed]"
          },
          "metadata": {
            "needs_background": "light"
          }
        }
      ]
    },
    {
      "cell_type": "code",
      "source": [
        "# performance Evaluation of 10 days Predictions"
      ],
      "metadata": {
        "id": "o_kDTP-_kM26"
      },
      "execution_count": null,
      "outputs": []
    },
    {
      "cell_type": "code",
      "source": [
        "from sklearn.metrics import mean_absolute_error, mean_squared_error,r2_score\n",
        "print(\"Computing the R-squared value:\")\n",
        "r2_score = r2_score(test_set,lst_output)\n",
        "print(f'r2_score:{r2_score}')"
      ],
      "metadata": {
        "colab": {
          "base_uri": "https://localhost:8080/"
        },
        "id": "OQ-c7gHxdnqZ",
        "outputId": "ae668ec6-a610-4948-9296-fff566ffe659"
      },
      "execution_count": null,
      "outputs": [
        {
          "output_type": "stream",
          "name": "stdout",
          "text": [
            "Computing the R-squared value:\n",
            "r2_score:-22.197810427125933\n"
          ]
        }
      ]
    },
    {
      "cell_type": "code",
      "source": [
        "# CALCULATING MEAN ABSOLUTE PERCENTAGE ERROR\n",
        "MAPE = np.mean(np.abs(np.array(lst_output) - np.array(test_set)) / np.abs(test_set))\n",
        "print(f'Mean_Absolute_Percentage_Error:{MAPE}')"
      ],
      "metadata": {
        "colab": {
          "base_uri": "https://localhost:8080/"
        },
        "id": "73MsHJSddqjz",
        "outputId": "1b5dc010-aa76-4e98-8f95-74cd3bfa5217"
      },
      "execution_count": null,
      "outputs": [
        {
          "output_type": "stream",
          "name": "stdout",
          "text": [
            "Mean_Absolute_Percentage_Error:0.11093075772496733\n"
          ]
        }
      ]
    },
    {
      "cell_type": "code",
      "source": [
        "from sklearn.metrics import mean_squared_error\n",
        "import math\n",
        "MSE = mean_squared_error(test_set, lst_output)\n",
        "RMSE = math.sqrt(MSE)\n",
        "print(\"Root Mean Square Error:\\n\")\n",
        "print(RMSE)"
      ],
      "metadata": {
        "colab": {
          "base_uri": "https://localhost:8080/"
        },
        "id": "P295SotAdvpp",
        "outputId": "6685cb55-3b48-41c1-d850-859259646e10"
      },
      "execution_count": null,
      "outputs": [
        {
          "output_type": "stream",
          "name": "stdout",
          "text": [
            "Root Mean Square Error:\n",
            "\n",
            "0.11382162259539767\n"
          ]
        }
      ]
    },
    {
      "cell_type": "code",
      "source": [
        "# CALCULATING MEAN ABSOLUTE ERROR\n",
        "MAE = mean_absolute_error(test_set,lst_output)\n",
        "print(f'Mean_Absolute_Error:{MAE}')"
      ],
      "metadata": {
        "id": "e1XN_AGVdzW3",
        "outputId": "e3e11df9-d55c-4c0a-f2ee-c4635baba4a6",
        "colab": {
          "base_uri": "https://localhost:8080/"
        }
      },
      "execution_count": null,
      "outputs": [
        {
          "output_type": "stream",
          "name": "stdout",
          "text": [
            "Mean_Absolute_Error:0.1005853295326233\n"
          ]
        }
      ]
    },
    {
      "cell_type": "code",
      "source": [],
      "metadata": {
        "id": "x13SvIBHd3Ju"
      },
      "execution_count": null,
      "outputs": []
    }
  ]
}