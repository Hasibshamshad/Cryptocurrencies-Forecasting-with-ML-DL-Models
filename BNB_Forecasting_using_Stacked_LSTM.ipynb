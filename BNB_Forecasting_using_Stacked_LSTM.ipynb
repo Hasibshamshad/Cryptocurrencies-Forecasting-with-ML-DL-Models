{
  "nbformat": 4,
  "nbformat_minor": 0,
  "metadata": {
    "colab": {
      "provenance": []
    },
    "kernelspec": {
      "name": "python3",
      "display_name": "Python 3"
    },
    "language_info": {
      "name": "python"
    }
  },
  "cells": [
    {
      "cell_type": "code",
      "execution_count": null,
      "metadata": {
        "id": "dI73TLufPNL6"
      },
      "outputs": [],
      "source": [
        "import numpy as np\n",
        "import matplotlib.pyplot as plt\n",
        "import pandas as pd\n",
        "import math\n",
        "from tensorflow.keras.models import Sequential\n",
        "from tensorflow.keras.layers import LSTM\n",
        "from tensorflow.keras.layers import Dense\n",
        "from tensorflow.keras.layers import Flatten"
      ]
    },
    {
      "cell_type": "code",
      "source": [
        "from google.colab import files\n",
        "\n",
        "uploaded = files.upload()\n",
        "\n",
        "for fn in uploaded.keys():\n",
        "  print('User uploaded file \"{name}\" with length {length} bytes'.format(\n",
        "      name=fn, length=len(uploaded[fn])))"
      ],
      "metadata": {
        "colab": {
          "base_uri": "https://localhost:8080/",
          "height": 90
        },
        "id": "ooh9Xtw-PhQ1",
        "outputId": "17f97afd-c2f6-4063-ad4b-8003c9827d9b"
      },
      "execution_count": null,
      "outputs": [
        {
          "output_type": "display_data",
          "data": {
            "text/plain": [
              "<IPython.core.display.HTML object>"
            ],
            "text/html": [
              "\n",
              "     <input type=\"file\" id=\"files-4c68f7c8-b4af-41a1-9247-80f81d076489\" name=\"files[]\" multiple disabled\n",
              "        style=\"border:none\" />\n",
              "     <output id=\"result-4c68f7c8-b4af-41a1-9247-80f81d076489\">\n",
              "      Upload widget is only available when the cell has been executed in the\n",
              "      current browser session. Please rerun this cell to enable.\n",
              "      </output>\n",
              "      <script>// Copyright 2017 Google LLC\n",
              "//\n",
              "// Licensed under the Apache License, Version 2.0 (the \"License\");\n",
              "// you may not use this file except in compliance with the License.\n",
              "// You may obtain a copy of the License at\n",
              "//\n",
              "//      http://www.apache.org/licenses/LICENSE-2.0\n",
              "//\n",
              "// Unless required by applicable law or agreed to in writing, software\n",
              "// distributed under the License is distributed on an \"AS IS\" BASIS,\n",
              "// WITHOUT WARRANTIES OR CONDITIONS OF ANY KIND, either express or implied.\n",
              "// See the License for the specific language governing permissions and\n",
              "// limitations under the License.\n",
              "\n",
              "/**\n",
              " * @fileoverview Helpers for google.colab Python module.\n",
              " */\n",
              "(function(scope) {\n",
              "function span(text, styleAttributes = {}) {\n",
              "  const element = document.createElement('span');\n",
              "  element.textContent = text;\n",
              "  for (const key of Object.keys(styleAttributes)) {\n",
              "    element.style[key] = styleAttributes[key];\n",
              "  }\n",
              "  return element;\n",
              "}\n",
              "\n",
              "// Max number of bytes which will be uploaded at a time.\n",
              "const MAX_PAYLOAD_SIZE = 100 * 1024;\n",
              "\n",
              "function _uploadFiles(inputId, outputId) {\n",
              "  const steps = uploadFilesStep(inputId, outputId);\n",
              "  const outputElement = document.getElementById(outputId);\n",
              "  // Cache steps on the outputElement to make it available for the next call\n",
              "  // to uploadFilesContinue from Python.\n",
              "  outputElement.steps = steps;\n",
              "\n",
              "  return _uploadFilesContinue(outputId);\n",
              "}\n",
              "\n",
              "// This is roughly an async generator (not supported in the browser yet),\n",
              "// where there are multiple asynchronous steps and the Python side is going\n",
              "// to poll for completion of each step.\n",
              "// This uses a Promise to block the python side on completion of each step,\n",
              "// then passes the result of the previous step as the input to the next step.\n",
              "function _uploadFilesContinue(outputId) {\n",
              "  const outputElement = document.getElementById(outputId);\n",
              "  const steps = outputElement.steps;\n",
              "\n",
              "  const next = steps.next(outputElement.lastPromiseValue);\n",
              "  return Promise.resolve(next.value.promise).then((value) => {\n",
              "    // Cache the last promise value to make it available to the next\n",
              "    // step of the generator.\n",
              "    outputElement.lastPromiseValue = value;\n",
              "    return next.value.response;\n",
              "  });\n",
              "}\n",
              "\n",
              "/**\n",
              " * Generator function which is called between each async step of the upload\n",
              " * process.\n",
              " * @param {string} inputId Element ID of the input file picker element.\n",
              " * @param {string} outputId Element ID of the output display.\n",
              " * @return {!Iterable<!Object>} Iterable of next steps.\n",
              " */\n",
              "function* uploadFilesStep(inputId, outputId) {\n",
              "  const inputElement = document.getElementById(inputId);\n",
              "  inputElement.disabled = false;\n",
              "\n",
              "  const outputElement = document.getElementById(outputId);\n",
              "  outputElement.innerHTML = '';\n",
              "\n",
              "  const pickedPromise = new Promise((resolve) => {\n",
              "    inputElement.addEventListener('change', (e) => {\n",
              "      resolve(e.target.files);\n",
              "    });\n",
              "  });\n",
              "\n",
              "  const cancel = document.createElement('button');\n",
              "  inputElement.parentElement.appendChild(cancel);\n",
              "  cancel.textContent = 'Cancel upload';\n",
              "  const cancelPromise = new Promise((resolve) => {\n",
              "    cancel.onclick = () => {\n",
              "      resolve(null);\n",
              "    };\n",
              "  });\n",
              "\n",
              "  // Wait for the user to pick the files.\n",
              "  const files = yield {\n",
              "    promise: Promise.race([pickedPromise, cancelPromise]),\n",
              "    response: {\n",
              "      action: 'starting',\n",
              "    }\n",
              "  };\n",
              "\n",
              "  cancel.remove();\n",
              "\n",
              "  // Disable the input element since further picks are not allowed.\n",
              "  inputElement.disabled = true;\n",
              "\n",
              "  if (!files) {\n",
              "    return {\n",
              "      response: {\n",
              "        action: 'complete',\n",
              "      }\n",
              "    };\n",
              "  }\n",
              "\n",
              "  for (const file of files) {\n",
              "    const li = document.createElement('li');\n",
              "    li.append(span(file.name, {fontWeight: 'bold'}));\n",
              "    li.append(span(\n",
              "        `(${file.type || 'n/a'}) - ${file.size} bytes, ` +\n",
              "        `last modified: ${\n",
              "            file.lastModifiedDate ? file.lastModifiedDate.toLocaleDateString() :\n",
              "                                    'n/a'} - `));\n",
              "    const percent = span('0% done');\n",
              "    li.appendChild(percent);\n",
              "\n",
              "    outputElement.appendChild(li);\n",
              "\n",
              "    const fileDataPromise = new Promise((resolve) => {\n",
              "      const reader = new FileReader();\n",
              "      reader.onload = (e) => {\n",
              "        resolve(e.target.result);\n",
              "      };\n",
              "      reader.readAsArrayBuffer(file);\n",
              "    });\n",
              "    // Wait for the data to be ready.\n",
              "    let fileData = yield {\n",
              "      promise: fileDataPromise,\n",
              "      response: {\n",
              "        action: 'continue',\n",
              "      }\n",
              "    };\n",
              "\n",
              "    // Use a chunked sending to avoid message size limits. See b/62115660.\n",
              "    let position = 0;\n",
              "    do {\n",
              "      const length = Math.min(fileData.byteLength - position, MAX_PAYLOAD_SIZE);\n",
              "      const chunk = new Uint8Array(fileData, position, length);\n",
              "      position += length;\n",
              "\n",
              "      const base64 = btoa(String.fromCharCode.apply(null, chunk));\n",
              "      yield {\n",
              "        response: {\n",
              "          action: 'append',\n",
              "          file: file.name,\n",
              "          data: base64,\n",
              "        },\n",
              "      };\n",
              "\n",
              "      let percentDone = fileData.byteLength === 0 ?\n",
              "          100 :\n",
              "          Math.round((position / fileData.byteLength) * 100);\n",
              "      percent.textContent = `${percentDone}% done`;\n",
              "\n",
              "    } while (position < fileData.byteLength);\n",
              "  }\n",
              "\n",
              "  // All done.\n",
              "  yield {\n",
              "    response: {\n",
              "      action: 'complete',\n",
              "    }\n",
              "  };\n",
              "}\n",
              "\n",
              "scope.google = scope.google || {};\n",
              "scope.google.colab = scope.google.colab || {};\n",
              "scope.google.colab._files = {\n",
              "  _uploadFiles,\n",
              "  _uploadFilesContinue,\n",
              "};\n",
              "})(self);\n",
              "</script> "
            ]
          },
          "metadata": {}
        },
        {
          "output_type": "stream",
          "name": "stdout",
          "text": [
            "Saving BNB-USD.csv to BNB-USD.csv\n",
            "User uploaded file \"BNB-USD.csv\" with length 219247 bytes\n"
          ]
        }
      ]
    },
    {
      "cell_type": "code",
      "source": [
        "import io\n",
        "df = pd.read_csv(io.StringIO(uploaded['BNB-USD.csv'].decode('utf-8')))\n",
        "df.head()"
      ],
      "metadata": {
        "colab": {
          "base_uri": "https://localhost:8080/",
          "height": 206
        },
        "id": "uMwM5jK-P3ts",
        "outputId": "e08155f3-ffe9-4ae3-9e9c-78ba978f1bdf"
      },
      "execution_count": null,
      "outputs": [
        {
          "output_type": "execute_result",
          "data": {
            "text/plain": [
              "             timestamp  adjclose     open      low     high    volume    close\n",
              "0  2017-11-09 00:00:00   1.99077  2.05314  1.89394  2.17423  19192200  1.99077\n",
              "1  2017-11-10 00:00:00   1.79684  2.00773  1.64478  2.06947  11155000  1.79684\n",
              "2  2017-11-11 00:00:00   1.67047  1.78628  1.61429  1.91775   8178150  1.67047\n",
              "3  2017-11-12 00:00:00   1.51969  1.66889  1.46256  1.67280  15298700  1.51969\n",
              "4  2017-11-13 00:00:00   1.68662  1.52601  1.51760  1.73502  12238800  1.68662"
            ],
            "text/html": [
              "\n",
              "  <div id=\"df-aa0d7320-e212-4648-9772-92dc3a040c52\">\n",
              "    <div class=\"colab-df-container\">\n",
              "      <div>\n",
              "<style scoped>\n",
              "    .dataframe tbody tr th:only-of-type {\n",
              "        vertical-align: middle;\n",
              "    }\n",
              "\n",
              "    .dataframe tbody tr th {\n",
              "        vertical-align: top;\n",
              "    }\n",
              "\n",
              "    .dataframe thead th {\n",
              "        text-align: right;\n",
              "    }\n",
              "</style>\n",
              "<table border=\"1\" class=\"dataframe\">\n",
              "  <thead>\n",
              "    <tr style=\"text-align: right;\">\n",
              "      <th></th>\n",
              "      <th>timestamp</th>\n",
              "      <th>adjclose</th>\n",
              "      <th>open</th>\n",
              "      <th>low</th>\n",
              "      <th>high</th>\n",
              "      <th>volume</th>\n",
              "      <th>close</th>\n",
              "    </tr>\n",
              "  </thead>\n",
              "  <tbody>\n",
              "    <tr>\n",
              "      <th>0</th>\n",
              "      <td>2017-11-09 00:00:00</td>\n",
              "      <td>1.99077</td>\n",
              "      <td>2.05314</td>\n",
              "      <td>1.89394</td>\n",
              "      <td>2.17423</td>\n",
              "      <td>19192200</td>\n",
              "      <td>1.99077</td>\n",
              "    </tr>\n",
              "    <tr>\n",
              "      <th>1</th>\n",
              "      <td>2017-11-10 00:00:00</td>\n",
              "      <td>1.79684</td>\n",
              "      <td>2.00773</td>\n",
              "      <td>1.64478</td>\n",
              "      <td>2.06947</td>\n",
              "      <td>11155000</td>\n",
              "      <td>1.79684</td>\n",
              "    </tr>\n",
              "    <tr>\n",
              "      <th>2</th>\n",
              "      <td>2017-11-11 00:00:00</td>\n",
              "      <td>1.67047</td>\n",
              "      <td>1.78628</td>\n",
              "      <td>1.61429</td>\n",
              "      <td>1.91775</td>\n",
              "      <td>8178150</td>\n",
              "      <td>1.67047</td>\n",
              "    </tr>\n",
              "    <tr>\n",
              "      <th>3</th>\n",
              "      <td>2017-11-12 00:00:00</td>\n",
              "      <td>1.51969</td>\n",
              "      <td>1.66889</td>\n",
              "      <td>1.46256</td>\n",
              "      <td>1.67280</td>\n",
              "      <td>15298700</td>\n",
              "      <td>1.51969</td>\n",
              "    </tr>\n",
              "    <tr>\n",
              "      <th>4</th>\n",
              "      <td>2017-11-13 00:00:00</td>\n",
              "      <td>1.68662</td>\n",
              "      <td>1.52601</td>\n",
              "      <td>1.51760</td>\n",
              "      <td>1.73502</td>\n",
              "      <td>12238800</td>\n",
              "      <td>1.68662</td>\n",
              "    </tr>\n",
              "  </tbody>\n",
              "</table>\n",
              "</div>\n",
              "      <button class=\"colab-df-convert\" onclick=\"convertToInteractive('df-aa0d7320-e212-4648-9772-92dc3a040c52')\"\n",
              "              title=\"Convert this dataframe to an interactive table.\"\n",
              "              style=\"display:none;\">\n",
              "        \n",
              "  <svg xmlns=\"http://www.w3.org/2000/svg\" height=\"24px\"viewBox=\"0 0 24 24\"\n",
              "       width=\"24px\">\n",
              "    <path d=\"M0 0h24v24H0V0z\" fill=\"none\"/>\n",
              "    <path d=\"M18.56 5.44l.94 2.06.94-2.06 2.06-.94-2.06-.94-.94-2.06-.94 2.06-2.06.94zm-11 1L8.5 8.5l.94-2.06 2.06-.94-2.06-.94L8.5 2.5l-.94 2.06-2.06.94zm10 10l.94 2.06.94-2.06 2.06-.94-2.06-.94-.94-2.06-.94 2.06-2.06.94z\"/><path d=\"M17.41 7.96l-1.37-1.37c-.4-.4-.92-.59-1.43-.59-.52 0-1.04.2-1.43.59L10.3 9.45l-7.72 7.72c-.78.78-.78 2.05 0 2.83L4 21.41c.39.39.9.59 1.41.59.51 0 1.02-.2 1.41-.59l7.78-7.78 2.81-2.81c.8-.78.8-2.07 0-2.86zM5.41 20L4 18.59l7.72-7.72 1.47 1.35L5.41 20z\"/>\n",
              "  </svg>\n",
              "      </button>\n",
              "      \n",
              "  <style>\n",
              "    .colab-df-container {\n",
              "      display:flex;\n",
              "      flex-wrap:wrap;\n",
              "      gap: 12px;\n",
              "    }\n",
              "\n",
              "    .colab-df-convert {\n",
              "      background-color: #E8F0FE;\n",
              "      border: none;\n",
              "      border-radius: 50%;\n",
              "      cursor: pointer;\n",
              "      display: none;\n",
              "      fill: #1967D2;\n",
              "      height: 32px;\n",
              "      padding: 0 0 0 0;\n",
              "      width: 32px;\n",
              "    }\n",
              "\n",
              "    .colab-df-convert:hover {\n",
              "      background-color: #E2EBFA;\n",
              "      box-shadow: 0px 1px 2px rgba(60, 64, 67, 0.3), 0px 1px 3px 1px rgba(60, 64, 67, 0.15);\n",
              "      fill: #174EA6;\n",
              "    }\n",
              "\n",
              "    [theme=dark] .colab-df-convert {\n",
              "      background-color: #3B4455;\n",
              "      fill: #D2E3FC;\n",
              "    }\n",
              "\n",
              "    [theme=dark] .colab-df-convert:hover {\n",
              "      background-color: #434B5C;\n",
              "      box-shadow: 0px 1px 3px 1px rgba(0, 0, 0, 0.15);\n",
              "      filter: drop-shadow(0px 1px 2px rgba(0, 0, 0, 0.3));\n",
              "      fill: #FFFFFF;\n",
              "    }\n",
              "  </style>\n",
              "\n",
              "      <script>\n",
              "        const buttonEl =\n",
              "          document.querySelector('#df-aa0d7320-e212-4648-9772-92dc3a040c52 button.colab-df-convert');\n",
              "        buttonEl.style.display =\n",
              "          google.colab.kernel.accessAllowed ? 'block' : 'none';\n",
              "\n",
              "        async function convertToInteractive(key) {\n",
              "          const element = document.querySelector('#df-aa0d7320-e212-4648-9772-92dc3a040c52');\n",
              "          const dataTable =\n",
              "            await google.colab.kernel.invokeFunction('convertToInteractive',\n",
              "                                                     [key], {});\n",
              "          if (!dataTable) return;\n",
              "\n",
              "          const docLinkHtml = 'Like what you see? Visit the ' +\n",
              "            '<a target=\"_blank\" href=https://colab.research.google.com/notebooks/data_table.ipynb>data table notebook</a>'\n",
              "            + ' to learn more about interactive tables.';\n",
              "          element.innerHTML = '';\n",
              "          dataTable['output_type'] = 'display_data';\n",
              "          await google.colab.output.renderOutput(dataTable, element);\n",
              "          const docLink = document.createElement('div');\n",
              "          docLink.innerHTML = docLinkHtml;\n",
              "          element.appendChild(docLink);\n",
              "        }\n",
              "      </script>\n",
              "    </div>\n",
              "  </div>\n",
              "  "
            ]
          },
          "metadata": {},
          "execution_count": 3
        }
      ]
    },
    {
      "cell_type": "code",
      "source": [
        "\n",
        "plt.plot(df.index, df['adjclose'])\n",
        "plt.title('BNB coin Original data of 2018-22 ')\n",
        "plt.xlabel('days')\n",
        "plt.ylabel('Price (in USD)')\n",
        "plt.show()"
      ],
      "metadata": {
        "colab": {
          "base_uri": "https://localhost:8080/",
          "height": 295
        },
        "id": "TpVCrdZIQEFW",
        "outputId": "8eb1a4df-8e60-449b-c90d-43c2f94701a6"
      },
      "execution_count": null,
      "outputs": [
        {
          "output_type": "display_data",
          "data": {
            "text/plain": [
              "<Figure size 432x288 with 1 Axes>"
            ],
            "image/png": "[encoded data removed]"
          },
          "metadata": {
            "needs_background": "light"
          }
        }
      ]
    },
    {
      "cell_type": "code",
      "source": [
        "# Converting the'x'variable i.e. the Days column in to date-time format, to be treated as the index of Y here.\n",
        "df['timestamp'] = pd.to_datetime(df[\"timestamp\"])\n",
        "df.set_index('timestamp', inplace = True)"
      ],
      "metadata": {
        "id": "b8mychozQwd0"
      },
      "execution_count": null,
      "outputs": []
    },
    {
      "cell_type": "code",
      "source": [
        "plt.figure(figsize=(9,4))\n",
        "plt.plot(df['adjclose'],color='orange', label= 'Adjusted close feature')\n",
        "plt.xlabel(\"date\")\n",
        "plt.ylabel('price (in USD)')\n",
        "plt.legend()\n",
        "plt.show()"
      ],
      "metadata": {
        "colab": {
          "base_uri": "https://localhost:8080/",
          "height": 281
        },
        "id": "S9sAwGOzQ0Gk",
        "outputId": "e2ac5991-8da7-4fd4-c65f-3592794aeb0f"
      },
      "execution_count": null,
      "outputs": [
        {
          "output_type": "display_data",
          "data": {
            "text/plain": [
              "<Figure size 648x288 with 1 Axes>"
            ],
            "image/png": "[encoded data removed]"
          },
          "metadata": {
            "needs_background": "light"
          }
        }
      ]
    },
    {
      "cell_type": "code",
      "source": [
        "plt.figure(figsize=(9,4))\n",
        "df = df.loc['2020-11' : '2022']\n",
        "plt.plot(df['adjclose'])\n",
        "plt.title(\"Sample taken between 2020-11 till 10-2022\" )\n",
        "plt.xlabel(\"days\")\n",
        "plt.ylabel(\"price (in USD)\")"
      ],
      "metadata": {
        "colab": {
          "base_uri": "https://localhost:8080/",
          "height": 312
        },
        "id": "h1vAEMZpQ3gG",
        "outputId": "7a735bbf-4010-40de-f778-a3258a8401aa"
      },
      "execution_count": null,
      "outputs": [
        {
          "output_type": "execute_result",
          "data": {
            "text/plain": [
              "Text(0, 0.5, 'price (in USD)')"
            ]
          },
          "metadata": {},
          "execution_count": 7
        },
        {
          "output_type": "display_data",
          "data": {
            "text/plain": [
              "<Figure size 648x288 with 1 Axes>"
            ],
            "image/png": "[encoded data removed]"
          },
          "metadata": {
            "needs_background": "light"
          }
        }
      ]
    },
    {
      "cell_type": "code",
      "source": [
        "# Dataset with date index (X - independent variable)\n",
        "df['adjclose']= np.round(df['adjclose'][:],1)\n",
        "df['adjclose']"
      ],
      "metadata": {
        "colab": {
          "base_uri": "https://localhost:8080/"
        },
        "id": "YUxvaoYQQ9NC",
        "outputId": "57a752a6-cff4-411d-8923-1c990866148b"
      },
      "execution_count": null,
      "outputs": [
        {
          "output_type": "execute_result",
          "data": {
            "text/plain": [
              "timestamp\n",
              "2020-11-01 00:00:00     28.5\n",
              "2020-11-02 00:00:00     27.9\n",
              "2020-11-03 00:00:00     26.9\n",
              "2020-11-04 00:00:00     26.9\n",
              "2020-11-05 00:00:00     27.7\n",
              "                       ...  \n",
              "2022-09-24 00:00:00    275.1\n",
              "2022-09-25 00:00:00    274.1\n",
              "2022-09-26 00:00:00    275.9\n",
              "2022-09-27 00:00:00    272.4\n",
              "2022-09-28 08:54:00    270.3\n",
              "Name: adjclose, Length: 697, dtype: float64"
            ]
          },
          "metadata": {},
          "execution_count": 8
        }
      ]
    },
    {
      "cell_type": "code",
      "source": [
        "plt.figure(figsize=(9,4))\n",
        "plt.grid(True)\n",
        "to_row = int(len(df)*0.70)\n",
        "training_data = list(df[0:to_row]['adjclose'])\n",
        "testing_data = list(df[to_row:]['adjclose'])\n",
        "plt.plot(df[0:to_row]['adjclose'],color='green', label= 'Training set: 70%',linestyle ='dashed')\n",
        "plt.plot(df[to_row:]['adjclose'],color='blue', label= 'Test set: 30%')\n",
        "plt.title(\"Splitting BNB the Dataset into Training & Test set\")\n",
        "plt.xlabel(\"date\")\n",
        "plt.ylabel('price (in USD)')\n",
        "plt.legend()\n",
        "plt.show()"
      ],
      "metadata": {
        "colab": {
          "base_uri": "https://localhost:8080/",
          "height": 295
        },
        "id": "0JNX3GF3RC70",
        "outputId": "45cedba4-0864-4165-8c8e-461fb806259d"
      },
      "execution_count": null,
      "outputs": [
        {
          "output_type": "display_data",
          "data": {
            "text/plain": [
              "<Figure size 648x288 with 1 Axes>"
            ],
            "image/png": "[encoded data removed]"
          },
          "metadata": {
            "needs_background": "light"
          }
        }
      ]
    },
    {
      "cell_type": "code",
      "source": [
        "# define input sequence\n",
        "timeseries_data = list(df[0:to_row]['adjclose'])"
      ],
      "metadata": {
        "id": "1UhNc3ZFTB8G"
      },
      "execution_count": null,
      "outputs": []
    },
    {
      "cell_type": "code",
      "source": [
        "# Working on Univariate data\n",
        "# preparing independent and dependent features\n",
        "def prepare_data(timeseries_data, n_steps):\n",
        "\tX, y =[],[]\n",
        "\tfor i in range(len(timeseries_data)):\n",
        "\t\t# find the end of this pattern\n",
        "\t\tend_ix = i + n_steps\n",
        "\t\t# check if we are beyond the sequence\n",
        "\t\tif end_ix > len(timeseries_data)-1:\n",
        "\t\t\tbreak\n",
        "\t\t# gather input and output parts of the pattern\n",
        "\t\tseq_x, seq_y = timeseries_data[i:end_ix], timeseries_data[end_ix]\n",
        "\t\tX.append(seq_x)\n",
        "\t\ty.append(seq_y)\n",
        "\treturn np.array(X), np.array(y)"
      ],
      "metadata": {
        "id": "AkFzZtJeSbL3"
      },
      "execution_count": null,
      "outputs": []
    },
    {
      "cell_type": "code",
      "source": [
        "# choosing a number of time steps\n",
        "n_steps = 3\n",
        "# splitting into samples\n",
        "X, y = prepare_data(timeseries_data, n_steps)"
      ],
      "metadata": {
        "id": "EjKkU7aFTNV9"
      },
      "execution_count": null,
      "outputs": []
    },
    {
      "cell_type": "code",
      "source": [
        "#for i in range(len(X)):\n",
        " # print(X[i],y[i])"
      ],
      "metadata": {
        "id": "p6QzcD9KU5FB"
      },
      "execution_count": null,
      "outputs": []
    },
    {
      "cell_type": "code",
      "source": [
        "print(df[0:to_row]['adjclose'])"
      ],
      "metadata": {
        "colab": {
          "base_uri": "https://localhost:8080/"
        },
        "id": "QrZIvMXyVJ0A",
        "outputId": "4f65bf56-b81f-49eb-bfbf-fc0bf58358e4"
      },
      "execution_count": null,
      "outputs": [
        {
          "output_type": "stream",
          "name": "stdout",
          "text": [
            "timestamp\n",
            "2020-11-01     28.5\n",
            "2020-11-02     27.9\n",
            "2020-11-03     26.9\n",
            "2020-11-04     26.9\n",
            "2020-11-05     27.7\n",
            "              ...  \n",
            "2022-02-26    373.6\n",
            "2022-02-27    360.5\n",
            "2022-02-28    395.6\n",
            "2022-03-01    408.5\n",
            "2022-03-02    409.0\n",
            "Name: adjclose, Length: 487, dtype: float64\n"
          ]
        }
      ]
    },
    {
      "cell_type": "code",
      "source": [
        " n_features = 1\n",
        "# #X = X.reshape((X.shape[0], X.shape[1], n_features))\n",
        "\n"
      ],
      "metadata": {
        "id": "QVW8eeaLUckt"
      },
      "execution_count": null,
      "outputs": []
    },
    {
      "cell_type": "markdown",
      "source": [
        "Applying Stacked LSTM LSTM Algorithm:\n",
        "Multiple hidden LSTM layers can be stacked one on top of another in what is referred to as a Stacked LSTM model.\n"
      ],
      "metadata": {
        "id": "HV7E3XHqYDyU"
      }
    },
    {
      "cell_type": "code",
      "source": [
        "# define model\n",
        "model = Sequential()\n",
        "model.add(LSTM(50, activation='relu', return_sequences=True, input_shape=(n_steps, n_features)))\n",
        "model.add(LSTM(50, activation='relu'))\n",
        "model.add(Dense(1))\n",
        "model.compile(optimizer='adam', loss='mse')"
      ],
      "metadata": {
        "id": "CWVVC6KvX6gh"
      },
      "execution_count": null,
      "outputs": []
    },
    {
      "cell_type": "code",
      "source": [
        "# reshape from [samples, timesteps] into [samples, timesteps, features]\n",
        "\n",
        "X = X.reshape((X.shape[0], X.shape[1], n_features))"
      ],
      "metadata": {
        "id": "JH-HGHh2Yoq-"
      },
      "execution_count": null,
      "outputs": []
    },
    {
      "cell_type": "code",
      "source": [
        "\n",
        "...\n",
        "# fit model\n",
        "model.fit(X, y, epochs=200, verbose=1)"
      ],
      "metadata": {
        "colab": {
          "base_uri": "https://localhost:8080/"
        },
        "id": "d7_x_4WyZorw",
        "outputId": "d16ce333-da08-420b-efdb-f7aebd254018"
      },
      "execution_count": null,
      "outputs": [
        {
          "output_type": "stream",
          "name": "stdout",
          "text": [
            "Epoch 1/200\n",
            "16/16 [==============================] - 5s 10ms/step - loss: 138193.1250\n",
            "Epoch 2/200\n",
            "16/16 [==============================] - 0s 9ms/step - loss: 110729.2812\n",
            "Epoch 3/200\n",
            "16/16 [==============================] - 0s 9ms/step - loss: 22620.7754\n",
            "Epoch 4/200\n",
            "16/16 [==============================] - 0s 8ms/step - loss: 1112.8600\n",
            "Epoch 5/200\n",
            "16/16 [==============================] - 0s 9ms/step - loss: 936.2249\n",
            "Epoch 6/200\n",
            "16/16 [==============================] - 0s 7ms/step - loss: 1025.3436\n",
            "Epoch 7/200\n",
            "16/16 [==============================] - 0s 8ms/step - loss: 825.6783\n",
            "Epoch 8/200\n",
            "16/16 [==============================] - 0s 7ms/step - loss: 796.1688\n",
            "Epoch 9/200\n",
            "16/16 [==============================] - 0s 7ms/step - loss: 685.1092\n",
            "Epoch 10/200\n",
            "16/16 [==============================] - 0s 7ms/step - loss: 714.1480\n",
            "Epoch 11/200\n",
            "16/16 [==============================] - 0s 8ms/step - loss: 679.8183\n",
            "Epoch 12/200\n",
            "16/16 [==============================] - 0s 8ms/step - loss: 746.6276\n",
            "Epoch 13/200\n",
            "16/16 [==============================] - 0s 8ms/step - loss: 644.1135\n",
            "Epoch 14/200\n",
            "16/16 [==============================] - 0s 8ms/step - loss: 591.8369\n",
            "Epoch 15/200\n",
            "16/16 [==============================] - 0s 8ms/step - loss: 611.8623\n",
            "Epoch 16/200\n",
            "16/16 [==============================] - 0s 8ms/step - loss: 616.1575\n",
            "Epoch 17/200\n",
            "16/16 [==============================] - 0s 9ms/step - loss: 603.8799\n",
            "Epoch 18/200\n",
            "16/16 [==============================] - 0s 9ms/step - loss: 617.8040\n",
            "Epoch 19/200\n",
            "16/16 [==============================] - 0s 8ms/step - loss: 548.7496\n",
            "Epoch 20/200\n",
            "16/16 [==============================] - 0s 9ms/step - loss: 609.6670\n",
            "Epoch 21/200\n",
            "16/16 [==============================] - 0s 8ms/step - loss: 557.7161\n",
            "Epoch 22/200\n",
            "16/16 [==============================] - 0s 9ms/step - loss: 544.3094\n",
            "Epoch 23/200\n",
            "16/16 [==============================] - 0s 9ms/step - loss: 545.8410\n",
            "Epoch 24/200\n",
            "16/16 [==============================] - 0s 8ms/step - loss: 569.7620\n",
            "Epoch 25/200\n",
            "16/16 [==============================] - 0s 9ms/step - loss: 537.7802\n",
            "Epoch 26/200\n",
            "16/16 [==============================] - 0s 9ms/step - loss: 532.9922\n",
            "Epoch 27/200\n",
            "16/16 [==============================] - 0s 8ms/step - loss: 569.9662\n",
            "Epoch 28/200\n",
            "16/16 [==============================] - 0s 8ms/step - loss: 540.7260\n",
            "Epoch 29/200\n",
            "16/16 [==============================] - 0s 8ms/step - loss: 548.2241\n",
            "Epoch 30/200\n",
            "16/16 [==============================] - 0s 8ms/step - loss: 617.8523\n",
            "Epoch 31/200\n",
            "16/16 [==============================] - 0s 7ms/step - loss: 533.7924\n",
            "Epoch 32/200\n",
            "16/16 [==============================] - 0s 7ms/step - loss: 537.4252\n",
            "Epoch 33/200\n",
            "16/16 [==============================] - 0s 9ms/step - loss: 538.6343\n",
            "Epoch 34/200\n",
            "16/16 [==============================] - 0s 8ms/step - loss: 605.4008\n",
            "Epoch 35/200\n",
            "16/16 [==============================] - 0s 8ms/step - loss: 773.8718\n",
            "Epoch 36/200\n",
            "16/16 [==============================] - 0s 8ms/step - loss: 628.2440\n",
            "Epoch 37/200\n",
            "16/16 [==============================] - 0s 9ms/step - loss: 570.3779\n",
            "Epoch 38/200\n",
            "16/16 [==============================] - 0s 9ms/step - loss: 574.5227\n",
            "Epoch 39/200\n",
            "16/16 [==============================] - 0s 9ms/step - loss: 560.4813\n",
            "Epoch 40/200\n",
            "16/16 [==============================] - 0s 9ms/step - loss: 529.8038\n",
            "Epoch 41/200\n",
            "16/16 [==============================] - 0s 9ms/step - loss: 520.9413\n",
            "Epoch 42/200\n",
            "16/16 [==============================] - 0s 9ms/step - loss: 498.7108\n",
            "Epoch 43/200\n",
            "16/16 [==============================] - 0s 8ms/step - loss: 519.5126\n",
            "Epoch 44/200\n",
            "16/16 [==============================] - 0s 7ms/step - loss: 513.2806\n",
            "Epoch 45/200\n",
            "16/16 [==============================] - 0s 8ms/step - loss: 492.9059\n",
            "Epoch 46/200\n",
            "16/16 [==============================] - 0s 7ms/step - loss: 562.0950\n",
            "Epoch 47/200\n",
            "16/16 [==============================] - 0s 8ms/step - loss: 508.7378\n",
            "Epoch 48/200\n",
            "16/16 [==============================] - 0s 7ms/step - loss: 493.8190\n",
            "Epoch 49/200\n",
            "16/16 [==============================] - 0s 8ms/step - loss: 502.2679\n",
            "Epoch 50/200\n",
            "16/16 [==============================] - 0s 8ms/step - loss: 526.4919\n",
            "Epoch 51/200\n",
            "16/16 [==============================] - 0s 9ms/step - loss: 534.8391\n",
            "Epoch 52/200\n",
            "16/16 [==============================] - 0s 9ms/step - loss: 480.0604\n",
            "Epoch 53/200\n",
            "16/16 [==============================] - 0s 8ms/step - loss: 517.4365\n",
            "Epoch 54/200\n",
            "16/16 [==============================] - 0s 9ms/step - loss: 504.7086\n",
            "Epoch 55/200\n",
            "16/16 [==============================] - 0s 9ms/step - loss: 499.7115\n",
            "Epoch 56/200\n",
            "16/16 [==============================] - 0s 8ms/step - loss: 496.7370\n",
            "Epoch 57/200\n",
            "16/16 [==============================] - 0s 9ms/step - loss: 503.5029\n",
            "Epoch 58/200\n",
            "16/16 [==============================] - 0s 9ms/step - loss: 510.2233\n",
            "Epoch 59/200\n",
            "16/16 [==============================] - 0s 13ms/step - loss: 488.0465\n",
            "Epoch 60/200\n",
            "16/16 [==============================] - 0s 13ms/step - loss: 478.8893\n",
            "Epoch 61/200\n",
            "16/16 [==============================] - 0s 13ms/step - loss: 480.5161\n",
            "Epoch 62/200\n",
            "16/16 [==============================] - 0s 12ms/step - loss: 491.8752\n",
            "Epoch 63/200\n",
            "16/16 [==============================] - 0s 12ms/step - loss: 574.5766\n",
            "Epoch 64/200\n",
            "16/16 [==============================] - 0s 11ms/step - loss: 540.9445\n",
            "Epoch 65/200\n",
            "16/16 [==============================] - 0s 11ms/step - loss: 531.1422\n",
            "Epoch 66/200\n",
            "16/16 [==============================] - 0s 12ms/step - loss: 537.8935\n",
            "Epoch 67/200\n",
            "16/16 [==============================] - 0s 11ms/step - loss: 576.4658\n",
            "Epoch 68/200\n",
            "16/16 [==============================] - 0s 11ms/step - loss: 553.9201\n",
            "Epoch 69/200\n",
            "16/16 [==============================] - 0s 12ms/step - loss: 510.8478\n",
            "Epoch 70/200\n",
            "16/16 [==============================] - 0s 12ms/step - loss: 497.3358\n",
            "Epoch 71/200\n",
            "16/16 [==============================] - 0s 12ms/step - loss: 513.2015\n",
            "Epoch 72/200\n",
            "16/16 [==============================] - 0s 13ms/step - loss: 532.9084\n",
            "Epoch 73/200\n",
            "16/16 [==============================] - 0s 12ms/step - loss: 502.8176\n",
            "Epoch 74/200\n",
            "16/16 [==============================] - 0s 8ms/step - loss: 470.6391\n",
            "Epoch 75/200\n",
            "16/16 [==============================] - 0s 8ms/step - loss: 501.6562\n",
            "Epoch 76/200\n",
            "16/16 [==============================] - 0s 8ms/step - loss: 513.4622\n",
            "Epoch 77/200\n",
            "16/16 [==============================] - 0s 7ms/step - loss: 521.5709\n",
            "Epoch 78/200\n",
            "16/16 [==============================] - 0s 8ms/step - loss: 531.9691\n",
            "Epoch 79/200\n",
            "16/16 [==============================] - 0s 8ms/step - loss: 461.0949\n",
            "Epoch 80/200\n",
            "16/16 [==============================] - 0s 7ms/step - loss: 502.0270\n",
            "Epoch 81/200\n",
            "16/16 [==============================] - 0s 7ms/step - loss: 473.4957\n",
            "Epoch 82/200\n",
            "16/16 [==============================] - 0s 8ms/step - loss: 477.6250\n",
            "Epoch 83/200\n",
            "16/16 [==============================] - 0s 7ms/step - loss: 488.3967\n",
            "Epoch 84/200\n",
            "16/16 [==============================] - 0s 7ms/step - loss: 499.0141\n",
            "Epoch 85/200\n",
            "16/16 [==============================] - 0s 8ms/step - loss: 510.3650\n",
            "Epoch 86/200\n",
            "16/16 [==============================] - 0s 9ms/step - loss: 482.5223\n",
            "Epoch 87/200\n",
            "16/16 [==============================] - 0s 8ms/step - loss: 571.2197\n",
            "Epoch 88/200\n",
            "16/16 [==============================] - 0s 7ms/step - loss: 493.4695\n",
            "Epoch 89/200\n",
            "16/16 [==============================] - 0s 8ms/step - loss: 466.4005\n",
            "Epoch 90/200\n",
            "16/16 [==============================] - 0s 8ms/step - loss: 475.8881\n",
            "Epoch 91/200\n",
            "16/16 [==============================] - 0s 7ms/step - loss: 491.9500\n",
            "Epoch 92/200\n",
            "16/16 [==============================] - 0s 8ms/step - loss: 506.2613\n",
            "Epoch 93/200\n",
            "16/16 [==============================] - 0s 8ms/step - loss: 477.9210\n",
            "Epoch 94/200\n",
            "16/16 [==============================] - 0s 8ms/step - loss: 501.5479\n",
            "Epoch 95/200\n",
            "16/16 [==============================] - 0s 8ms/step - loss: 541.9669\n",
            "Epoch 96/200\n",
            "16/16 [==============================] - 0s 7ms/step - loss: 520.4813\n",
            "Epoch 97/200\n",
            "16/16 [==============================] - 0s 8ms/step - loss: 514.8640\n",
            "Epoch 98/200\n",
            "16/16 [==============================] - 0s 8ms/step - loss: 470.3292\n",
            "Epoch 99/200\n",
            "16/16 [==============================] - 0s 8ms/step - loss: 458.4574\n",
            "Epoch 100/200\n",
            "16/16 [==============================] - 0s 8ms/step - loss: 457.2438\n",
            "Epoch 101/200\n",
            "16/16 [==============================] - 0s 7ms/step - loss: 460.2902\n",
            "Epoch 102/200\n",
            "16/16 [==============================] - 0s 9ms/step - loss: 501.9081\n",
            "Epoch 103/200\n",
            "16/16 [==============================] - 0s 8ms/step - loss: 495.7400\n",
            "Epoch 104/200\n",
            "16/16 [==============================] - 0s 9ms/step - loss: 552.6794\n",
            "Epoch 105/200\n",
            "16/16 [==============================] - 0s 9ms/step - loss: 534.8317\n",
            "Epoch 106/200\n",
            "16/16 [==============================] - 0s 9ms/step - loss: 497.7743\n",
            "Epoch 107/200\n",
            "16/16 [==============================] - 0s 10ms/step - loss: 466.6318\n",
            "Epoch 108/200\n",
            "16/16 [==============================] - 0s 10ms/step - loss: 525.4724\n",
            "Epoch 109/200\n",
            "16/16 [==============================] - 0s 10ms/step - loss: 494.3517\n",
            "Epoch 110/200\n",
            "16/16 [==============================] - 0s 8ms/step - loss: 476.2253\n",
            "Epoch 111/200\n",
            "16/16 [==============================] - 0s 8ms/step - loss: 451.6558\n",
            "Epoch 112/200\n",
            "16/16 [==============================] - 0s 8ms/step - loss: 436.2054\n",
            "Epoch 113/200\n",
            "16/16 [==============================] - 0s 9ms/step - loss: 459.5131\n",
            "Epoch 114/200\n",
            "16/16 [==============================] - 0s 9ms/step - loss: 444.2206\n",
            "Epoch 115/200\n",
            "16/16 [==============================] - 0s 9ms/step - loss: 471.1093\n",
            "Epoch 116/200\n",
            "16/16 [==============================] - 0s 9ms/step - loss: 466.6127\n",
            "Epoch 117/200\n",
            "16/16 [==============================] - 0s 8ms/step - loss: 456.6293\n",
            "Epoch 118/200\n",
            "16/16 [==============================] - 0s 9ms/step - loss: 513.9153\n",
            "Epoch 119/200\n",
            "16/16 [==============================] - 0s 8ms/step - loss: 543.5449\n",
            "Epoch 120/200\n",
            "16/16 [==============================] - 0s 8ms/step - loss: 539.8902\n",
            "Epoch 121/200\n",
            "16/16 [==============================] - 0s 8ms/step - loss: 547.8748\n",
            "Epoch 122/200\n",
            "16/16 [==============================] - 0s 8ms/step - loss: 519.2092\n",
            "Epoch 123/200\n",
            "16/16 [==============================] - 0s 8ms/step - loss: 524.1919\n",
            "Epoch 124/200\n",
            "16/16 [==============================] - 0s 8ms/step - loss: 526.6805\n",
            "Epoch 125/200\n",
            "16/16 [==============================] - 0s 8ms/step - loss: 513.5557\n",
            "Epoch 126/200\n",
            "16/16 [==============================] - 0s 8ms/step - loss: 479.3136\n",
            "Epoch 127/200\n",
            "16/16 [==============================] - 0s 8ms/step - loss: 467.3405\n",
            "Epoch 128/200\n",
            "16/16 [==============================] - 0s 8ms/step - loss: 463.0082\n",
            "Epoch 129/200\n",
            "16/16 [==============================] - 0s 8ms/step - loss: 491.3668\n",
            "Epoch 130/200\n",
            "16/16 [==============================] - 0s 8ms/step - loss: 504.1167\n",
            "Epoch 131/200\n",
            "16/16 [==============================] - 0s 8ms/step - loss: 501.7332\n",
            "Epoch 132/200\n",
            "16/16 [==============================] - 0s 8ms/step - loss: 492.7592\n",
            "Epoch 133/200\n",
            "16/16 [==============================] - 0s 8ms/step - loss: 497.5905\n",
            "Epoch 134/200\n",
            "16/16 [==============================] - 0s 8ms/step - loss: 470.8510\n",
            "Epoch 135/200\n",
            "16/16 [==============================] - 0s 7ms/step - loss: 484.7132\n",
            "Epoch 136/200\n",
            "16/16 [==============================] - 0s 9ms/step - loss: 468.5486\n",
            "Epoch 137/200\n",
            "16/16 [==============================] - 0s 8ms/step - loss: 469.0435\n",
            "Epoch 138/200\n",
            "16/16 [==============================] - 0s 7ms/step - loss: 477.7085\n",
            "Epoch 139/200\n",
            "16/16 [==============================] - 0s 8ms/step - loss: 598.4702\n",
            "Epoch 140/200\n",
            "16/16 [==============================] - 0s 8ms/step - loss: 532.4659\n",
            "Epoch 141/200\n",
            "16/16 [==============================] - 0s 7ms/step - loss: 640.8023\n",
            "Epoch 142/200\n",
            "16/16 [==============================] - 0s 8ms/step - loss: 596.6237\n",
            "Epoch 143/200\n",
            "16/16 [==============================] - 0s 8ms/step - loss: 535.1712\n",
            "Epoch 144/200\n",
            "16/16 [==============================] - 0s 8ms/step - loss: 515.1407\n",
            "Epoch 145/200\n",
            "16/16 [==============================] - 0s 8ms/step - loss: 530.3566\n",
            "Epoch 146/200\n",
            "16/16 [==============================] - 0s 10ms/step - loss: 484.4218\n",
            "Epoch 147/200\n",
            "16/16 [==============================] - 0s 12ms/step - loss: 491.7599\n",
            "Epoch 148/200\n",
            "16/16 [==============================] - 0s 12ms/step - loss: 481.6374\n",
            "Epoch 149/200\n",
            "16/16 [==============================] - 0s 13ms/step - loss: 532.0502\n",
            "Epoch 150/200\n",
            "16/16 [==============================] - 0s 13ms/step - loss: 473.5735\n",
            "Epoch 151/200\n",
            "16/16 [==============================] - 0s 13ms/step - loss: 456.8705\n",
            "Epoch 152/200\n",
            "16/16 [==============================] - 0s 12ms/step - loss: 542.4778\n",
            "Epoch 153/200\n",
            "16/16 [==============================] - 0s 12ms/step - loss: 517.4676\n",
            "Epoch 154/200\n",
            "16/16 [==============================] - 0s 13ms/step - loss: 481.4027\n",
            "Epoch 155/200\n",
            "16/16 [==============================] - 0s 12ms/step - loss: 478.3414\n",
            "Epoch 156/200\n",
            "16/16 [==============================] - 0s 11ms/step - loss: 492.4363\n",
            "Epoch 157/200\n",
            "16/16 [==============================] - 0s 13ms/step - loss: 487.6462\n",
            "Epoch 158/200\n",
            "16/16 [==============================] - 0s 13ms/step - loss: 496.5385\n",
            "Epoch 159/200\n",
            "16/16 [==============================] - 0s 13ms/step - loss: 475.2451\n",
            "Epoch 160/200\n",
            "16/16 [==============================] - 0s 13ms/step - loss: 541.7288\n",
            "Epoch 161/200\n",
            "16/16 [==============================] - 0s 13ms/step - loss: 552.9256\n",
            "Epoch 162/200\n",
            "16/16 [==============================] - 0s 10ms/step - loss: 604.1624\n",
            "Epoch 163/200\n",
            "16/16 [==============================] - 0s 9ms/step - loss: 527.6783\n",
            "Epoch 164/200\n",
            "16/16 [==============================] - 0s 8ms/step - loss: 479.3639\n",
            "Epoch 165/200\n",
            "16/16 [==============================] - 0s 8ms/step - loss: 473.7170\n",
            "Epoch 166/200\n",
            "16/16 [==============================] - 0s 9ms/step - loss: 484.2758\n",
            "Epoch 167/200\n",
            "16/16 [==============================] - 0s 9ms/step - loss: 460.2820\n",
            "Epoch 168/200\n",
            "16/16 [==============================] - 0s 9ms/step - loss: 460.1233\n",
            "Epoch 169/200\n",
            "16/16 [==============================] - 0s 9ms/step - loss: 467.7000\n",
            "Epoch 170/200\n",
            "16/16 [==============================] - 0s 9ms/step - loss: 476.9362\n",
            "Epoch 171/200\n",
            "16/16 [==============================] - 0s 9ms/step - loss: 532.7443\n",
            "Epoch 172/200\n",
            "16/16 [==============================] - 0s 10ms/step - loss: 489.5237\n",
            "Epoch 173/200\n",
            "16/16 [==============================] - 0s 9ms/step - loss: 509.1452\n",
            "Epoch 174/200\n",
            "16/16 [==============================] - 0s 11ms/step - loss: 467.2456\n",
            "Epoch 175/200\n",
            "16/16 [==============================] - 0s 10ms/step - loss: 460.0350\n",
            "Epoch 176/200\n",
            "16/16 [==============================] - 0s 8ms/step - loss: 493.3672\n",
            "Epoch 177/200\n",
            "16/16 [==============================] - 0s 8ms/step - loss: 504.2941\n",
            "Epoch 178/200\n",
            "16/16 [==============================] - 0s 8ms/step - loss: 492.4072\n",
            "Epoch 179/200\n",
            "16/16 [==============================] - 0s 8ms/step - loss: 495.5315\n",
            "Epoch 180/200\n",
            "16/16 [==============================] - 0s 8ms/step - loss: 535.6187\n",
            "Epoch 181/200\n",
            "16/16 [==============================] - 0s 8ms/step - loss: 532.0748\n",
            "Epoch 182/200\n",
            "16/16 [==============================] - 0s 9ms/step - loss: 502.8947\n",
            "Epoch 183/200\n",
            "16/16 [==============================] - 0s 8ms/step - loss: 529.6729\n",
            "Epoch 184/200\n",
            "16/16 [==============================] - 0s 7ms/step - loss: 545.8654\n",
            "Epoch 185/200\n",
            "16/16 [==============================] - 0s 9ms/step - loss: 538.9216\n",
            "Epoch 186/200\n",
            "16/16 [==============================] - 0s 8ms/step - loss: 508.7659\n",
            "Epoch 187/200\n",
            "16/16 [==============================] - 0s 8ms/step - loss: 465.9620\n",
            "Epoch 188/200\n",
            "16/16 [==============================] - 0s 8ms/step - loss: 492.1086\n",
            "Epoch 189/200\n",
            "16/16 [==============================] - 0s 8ms/step - loss: 501.9457\n",
            "Epoch 190/200\n",
            "16/16 [==============================] - 0s 10ms/step - loss: 510.1709\n",
            "Epoch 191/200\n",
            "16/16 [==============================] - 0s 9ms/step - loss: 464.3350\n",
            "Epoch 192/200\n",
            "16/16 [==============================] - 0s 8ms/step - loss: 461.1605\n",
            "Epoch 193/200\n",
            "16/16 [==============================] - 0s 9ms/step - loss: 464.4762\n",
            "Epoch 194/200\n",
            "16/16 [==============================] - 0s 9ms/step - loss: 469.9746\n",
            "Epoch 195/200\n",
            "16/16 [==============================] - 0s 8ms/step - loss: 480.4779\n",
            "Epoch 196/200\n",
            "16/16 [==============================] - 0s 9ms/step - loss: 467.1193\n",
            "Epoch 197/200\n",
            "16/16 [==============================] - 0s 9ms/step - loss: 476.8924\n",
            "Epoch 198/200\n",
            "16/16 [==============================] - 0s 9ms/step - loss: 491.1822\n",
            "Epoch 199/200\n",
            "16/16 [==============================] - 0s 8ms/step - loss: 542.1007\n",
            "Epoch 200/200\n",
            "16/16 [==============================] - 0s 8ms/step - loss: 440.6084\n"
          ]
        },
        {
          "output_type": "execute_result",
          "data": {
            "text/plain": [
              "<keras.callbacks.History at 0x7fed54c3ddc0>"
            ]
          },
          "metadata": {},
          "execution_count": 41
        }
      ]
    },
    {
      "cell_type": "code",
      "source": [
        "x_input = np.array([395.6, 408.5, 409.0])\n",
        "temp_input=list(x_input)\n",
        "lst_output=[]\n",
        "i=0\n",
        "while(i<10):\n",
        "\n",
        "    if(len(temp_input)>3):\n",
        "        x_input=np.array(temp_input[1:])\n",
        "        print(\"{} day input {}\".format(i,x_input))\n",
        "        #print(x_input)\n",
        "        x_input = x_input.reshape((1, n_steps, n_features))\n",
        "        #print(x_input)\n",
        "        yhat = model.predict(x_input, verbose=0)\n",
        "        print(\"{} day output {}\".format(i,yhat))\n",
        "        temp_input.append(yhat[0][0])\n",
        "        temp_input=temp_input[1:]\n",
        "        #print(temp_input)\n",
        "        lst_output.append(yhat[0][0])\n",
        "        i=i+1\n",
        "    else:\n",
        "        x_input = x_input.reshape((1, n_steps, n_features))\n",
        "        yhat = model.predict(x_input, verbose=0)\n",
        "        print(yhat[0])\n",
        "        temp_input.append(yhat[0][0])\n",
        "        lst_output.append(yhat[0][0])\n",
        "        i=i+1\n",
        ""
      ],
      "metadata": {
        "colab": {
          "base_uri": "https://localhost:8080/"
        },
        "id": "i2XX7HYUZuJY",
        "outputId": "7ad2a0e0-e71b-4f52-93a6-5d72d23fc285"
      },
      "execution_count": null,
      "outputs": [
        {
          "output_type": "stream",
          "name": "stdout",
          "text": [
            "[416.10452]\n",
            "1 day input [408.5        409.         416.10452271]\n",
            "1 day output [[422.41116]]\n",
            "2 day input [409.         416.10452271 422.41116333]\n",
            "2 day output [[429.517]]\n",
            "3 day input [416.10452 422.41116 429.517  ]\n",
            "3 day output [[436.6182]]\n",
            "4 day input [422.41116 429.517   436.6182 ]\n",
            "4 day output [[443.8812]]\n",
            "5 day input [429.517  436.6182 443.8812]\n",
            "5 day output [[451.19724]]\n",
            "6 day input [436.6182  443.8812  451.19724]\n",
            "6 day output [[458.57758]]\n",
            "7 day input [443.8812  451.19724 458.57758]\n",
            "7 day output [[465.99792]]\n",
            "8 day input [451.19724 458.57758 465.99792]\n",
            "8 day output [[473.45013]]\n",
            "9 day input [458.57758 465.99792 473.45013]\n",
            "9 day output [[480.92123]]\n"
          ]
        }
      ]
    },
    {
      "cell_type": "code",
      "source": [
        "print(model.summary())"
      ],
      "metadata": {
        "colab": {
          "base_uri": "https://localhost:8080/"
        },
        "id": "jcdnLqpXiiTD",
        "outputId": "56bfebfe-0cd1-4419-d317-2e7d879a4fe0"
      },
      "execution_count": null,
      "outputs": [
        {
          "output_type": "stream",
          "name": "stdout",
          "text": [
            "Model: \"sequential_6\"\n",
            "_________________________________________________________________\n",
            " Layer (type)                Output Shape              Param #   \n",
            "=================================================================\n",
            " lstm_12 (LSTM)              (None, 3, 50)             10400     \n",
            "                                                                 \n",
            " lstm_13 (LSTM)              (None, 50)                20200     \n",
            "                                                                 \n",
            " dense_6 (Dense)             (None, 1)                 51        \n",
            "                                                                 \n",
            "=================================================================\n",
            "Total params: 30,651\n",
            "Trainable params: 30,651\n",
            "Non-trainable params: 0\n",
            "_________________________________________________________________\n",
            "None\n"
          ]
        }
      ]
    },
    {
      "cell_type": "code",
      "source": [
        "df[0:to_row]['adjclose']"
      ],
      "metadata": {
        "colab": {
          "base_uri": "https://localhost:8080/"
        },
        "id": "3f7Iwz81jVOH",
        "outputId": "d2121836-8380-430e-c0e1-c8eb9ca4e342"
      },
      "execution_count": null,
      "outputs": [
        {
          "output_type": "execute_result",
          "data": {
            "text/plain": [
              "timestamp\n",
              "2020-11-01     28.5\n",
              "2020-11-02     27.9\n",
              "2020-11-03     26.9\n",
              "2020-11-04     26.9\n",
              "2020-11-05     27.7\n",
              "              ...  \n",
              "2022-02-26    373.6\n",
              "2022-02-27    360.5\n",
              "2022-02-28    395.6\n",
              "2022-03-01    408.5\n",
              "2022-03-02    409.0\n",
              "Name: adjclose, Length: 487, dtype: float64"
            ]
          },
          "metadata": {},
          "execution_count": 44
        }
      ]
    },
    {
      "cell_type": "code",
      "source": [
        "#test_set = df[to_row::10]['adjclose']\n",
        "test_set = df[to_row:][0:10]['adjclose']\n",
        "\n",
        "test_set\n"
      ],
      "metadata": {
        "colab": {
          "base_uri": "https://localhost:8080/"
        },
        "id": "J1w0KpO3jiSP",
        "outputId": "8bd1acf8-9a27-4a3d-93ca-113a6aff7c4d"
      },
      "execution_count": null,
      "outputs": [
        {
          "output_type": "execute_result",
          "data": {
            "text/plain": [
              "timestamp\n",
              "2022-03-03    402.6\n",
              "2022-03-04    374.3\n",
              "2022-03-05    384.9\n",
              "2022-03-06    375.0\n",
              "2022-03-07    381.3\n",
              "2022-03-08    382.0\n",
              "2022-03-09    393.6\n",
              "2022-03-10    372.2\n",
              "2022-03-11    372.2\n",
              "2022-03-12    372.7\n",
              "Name: adjclose, dtype: float64"
            ]
          },
          "metadata": {},
          "execution_count": 45
        }
      ]
    },
    {
      "cell_type": "code",
      "source": [
        "date = df[to_row:][0:10]['adjclose'].index"
      ],
      "metadata": {
        "id": "UaXsK_UpjrI1"
      },
      "execution_count": null,
      "outputs": []
    },
    {
      "cell_type": "code",
      "source": [
        "lst_output"
      ],
      "metadata": {
        "colab": {
          "base_uri": "https://localhost:8080/"
        },
        "id": "1RmfQ0FGkBvO",
        "outputId": "e9d63065-6774-4fb8-b0c1-04d0b9e1ec19"
      },
      "execution_count": null,
      "outputs": [
        {
          "output_type": "execute_result",
          "data": {
            "text/plain": [
              "[416.10452,\n",
              " 422.41116,\n",
              " 429.517,\n",
              " 436.6182,\n",
              " 443.8812,\n",
              " 451.19724,\n",
              " 458.57758,\n",
              " 465.99792,\n",
              " 473.45013,\n",
              " 480.92123]"
            ]
          },
          "metadata": {},
          "execution_count": 47
        }
      ]
    },
    {
      "cell_type": "code",
      "source": [
        "plt.plot(date,test_set)\n",
        "plt.plot(date,lst_output, color = 'r')"
      ],
      "metadata": {
        "colab": {
          "base_uri": "https://localhost:8080/",
          "height": 282
        },
        "id": "4nGxPJ2NkFg3",
        "outputId": "294cefd0-0007-4bc6-aaa8-444857e3caa3"
      },
      "execution_count": null,
      "outputs": [
        {
          "output_type": "execute_result",
          "data": {
            "text/plain": [
              "[<matplotlib.lines.Line2D at 0x7fed54b8d8b0>]"
            ]
          },
          "metadata": {},
          "execution_count": 49
        },
        {
          "output_type": "display_data",
          "data": {
            "text/plain": [
              "<Figure size 432x288 with 1 Axes>"
            ],
            "image/png": "[encoded data removed]"
          },
          "metadata": {
            "needs_background": "light"
          }
        }
      ]
    },
    {
      "cell_type": "code",
      "source": [
        "# performance Evaluation of 10 days Predictions"
      ],
      "metadata": {
        "id": "o_kDTP-_kM26"
      },
      "execution_count": null,
      "outputs": []
    },
    {
      "cell_type": "code",
      "source": [
        "from sklearn.metrics import mean_absolute_error, mean_squared_error,r2_score\n",
        "print(\"Computing the R-squared value:\")\n",
        "r2_score = r2_score(test_set,lst_output)\n",
        "print(f'r2_score:{r2_score}')"
      ],
      "metadata": {
        "colab": {
          "base_uri": "https://localhost:8080/"
        },
        "id": "XPvccbnyB60f",
        "outputId": "67bc8433-f86b-4816-fa09-1e02286797b6"
      },
      "execution_count": null,
      "outputs": [
        {
          "output_type": "stream",
          "name": "stdout",
          "text": [
            "Computing the R-squared value:\n",
            "r2_score:-53.926950273869224\n"
          ]
        }
      ]
    },
    {
      "cell_type": "code",
      "source": [
        "# CALCULATING MEAN ABSOLUTE PERCENTAGE ERROR\n",
        "MAPE = np.mean(np.abs(np.array(lst_output) - np.array(test_set)) / np.abs(test_set))\n",
        "print(f'Mean_Absolute_Percentage_Error:{MAPE}')"
      ],
      "metadata": {
        "colab": {
          "base_uri": "https://localhost:8080/"
        },
        "id": "eNxaD0_uB9yb",
        "outputId": "1b70ec92-1955-43cc-8251-9f0afe7cc60f"
      },
      "execution_count": null,
      "outputs": [
        {
          "output_type": "stream",
          "name": "stdout",
          "text": [
            "Mean_Absolute_Percentage_Error:0.17670809140382318\n"
          ]
        }
      ]
    },
    {
      "cell_type": "code",
      "source": [
        "from sklearn.metrics import mean_squared_error\n",
        "import math\n",
        "MSE = mean_squared_error(test_set, lst_output)\n",
        "RMSE = math.sqrt(MSE)\n",
        "print(\"Root Mean Square Error:\\n\")\n",
        "print(RMSE)"
      ],
      "metadata": {
        "colab": {
          "base_uri": "https://localhost:8080/"
        },
        "id": "OA0-FLpJCCIV",
        "outputId": "b62f9cb6-fe2d-4124-fae8-2f5a8ffa45fd"
      },
      "execution_count": null,
      "outputs": [
        {
          "output_type": "stream",
          "name": "stdout",
          "text": [
            "Root Mean Square Error:\n",
            "\n",
            "72.09213492492752\n"
          ]
        }
      ]
    },
    {
      "cell_type": "code",
      "source": [
        "# CALCULATING MEAN ABSOLUTE ERROR\n",
        "MAE = mean_absolute_error(test_set,lst_output)\n",
        "print(f'Mean_Absolute_Error:{MAE}')"
      ],
      "metadata": {
        "colab": {
          "base_uri": "https://localhost:8080/"
        },
        "id": "P82eyxVGCLdy",
        "outputId": "1bdac1fd-e51b-41e1-dc7a-2723f82ddc69"
      },
      "execution_count": null,
      "outputs": [
        {
          "output_type": "stream",
          "name": "stdout",
          "text": [
            "Mean_Absolute_Error:66.78761779785157\n"
          ]
        }
      ]
    },
    {
      "cell_type": "code",
      "source": [],
      "metadata": {
        "id": "uLa8zl8VCPTY"
      },
      "execution_count": null,
      "outputs": []
    }
  ]
}