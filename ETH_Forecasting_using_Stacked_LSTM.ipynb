{
  "nbformat": 4,
  "nbformat_minor": 0,
  "metadata": {
    "colab": {
      "provenance": []
    },
    "kernelspec": {
      "name": "python3",
      "display_name": "Python 3"
    },
    "language_info": {
      "name": "python"
    }
  },
  "cells": [
    {
      "cell_type": "code",
      "execution_count": null,
      "metadata": {
        "id": "74HATHsclJFJ"
      },
      "outputs": [],
      "source": [
        "import numpy as np\n",
        "import matplotlib.pyplot as plt\n",
        "import pandas as pd\n",
        "import math\n",
        "from tensorflow.keras.models import Sequential\n",
        "from tensorflow.keras.layers import LSTM\n",
        "from tensorflow.keras.layers import Dense\n",
        "from tensorflow.keras.layers import Flatten"
      ]
    },
    {
      "cell_type": "code",
      "source": [
        "from google.colab import files\n",
        "\n",
        "uploaded = files.upload()\n",
        "\n",
        "for fn in uploaded.keys():\n",
        "  print('User uploaded file \"{name}\" with length {length} bytes'.format(\n",
        "      name=fn, length=len(uploaded[fn])))"
      ],
      "metadata": {
        "colab": {
          "base_uri": "https://localhost:8080/",
          "height": 90
        },
        "id": "bh9x3HL0lSif",
        "outputId": "51a23ba7-7917-434c-dacb-a9a98b0b00d6"
      },
      "execution_count": null,
      "outputs": [
        {
          "output_type": "display_data",
          "data": {
            "text/plain": [
              "<IPython.core.display.HTML object>"
            ],
            "text/html": [
              "\n",
              "     <input type=\"file\" id=\"files-2e6c69c4-5364-4540-ba55-c82b45caa331\" name=\"files[]\" multiple disabled\n",
              "        style=\"border:none\" />\n",
              "     <output id=\"result-2e6c69c4-5364-4540-ba55-c82b45caa331\">\n",
              "      Upload widget is only available when the cell has been executed in the\n",
              "      current browser session. Please rerun this cell to enable.\n",
              "      </output>\n",
              "      <script>// Copyright 2017 Google LLC\n",
              "//\n",
              "// Licensed under the Apache License, Version 2.0 (the \"License\");\n",
              "// you may not use this file except in compliance with the License.\n",
              "// You may obtain a copy of the License at\n",
              "//\n",
              "//      http://www.apache.org/licenses/LICENSE-2.0\n",
              "//\n",
              "// Unless required by applicable law or agreed to in writing, software\n",
              "// distributed under the License is distributed on an \"AS IS\" BASIS,\n",
              "// WITHOUT WARRANTIES OR CONDITIONS OF ANY KIND, either express or implied.\n",
              "// See the License for the specific language governing permissions and\n",
              "// limitations under the License.\n",
              "\n",
              "/**\n",
              " * @fileoverview Helpers for google.colab Python module.\n",
              " */\n",
              "(function(scope) {\n",
              "function span(text, styleAttributes = {}) {\n",
              "  const element = document.createElement('span');\n",
              "  element.textContent = text;\n",
              "  for (const key of Object.keys(styleAttributes)) {\n",
              "    element.style[key] = styleAttributes[key];\n",
              "  }\n",
              "  return element;\n",
              "}\n",
              "\n",
              "// Max number of bytes which will be uploaded at a time.\n",
              "const MAX_PAYLOAD_SIZE = 100 * 1024;\n",
              "\n",
              "function _uploadFiles(inputId, outputId) {\n",
              "  const steps = uploadFilesStep(inputId, outputId);\n",
              "  const outputElement = document.getElementById(outputId);\n",
              "  // Cache steps on the outputElement to make it available for the next call\n",
              "  // to uploadFilesContinue from Python.\n",
              "  outputElement.steps = steps;\n",
              "\n",
              "  return _uploadFilesContinue(outputId);\n",
              "}\n",
              "\n",
              "// This is roughly an async generator (not supported in the browser yet),\n",
              "// where there are multiple asynchronous steps and the Python side is going\n",
              "// to poll for completion of each step.\n",
              "// This uses a Promise to block the python side on completion of each step,\n",
              "// then passes the result of the previous step as the input to the next step.\n",
              "function _uploadFilesContinue(outputId) {\n",
              "  const outputElement = document.getElementById(outputId);\n",
              "  const steps = outputElement.steps;\n",
              "\n",
              "  const next = steps.next(outputElement.lastPromiseValue);\n",
              "  return Promise.resolve(next.value.promise).then((value) => {\n",
              "    // Cache the last promise value to make it available to the next\n",
              "    // step of the generator.\n",
              "    outputElement.lastPromiseValue = value;\n",
              "    return next.value.response;\n",
              "  });\n",
              "}\n",
              "\n",
              "/**\n",
              " * Generator function which is called between each async step of the upload\n",
              " * process.\n",
              " * @param {string} inputId Element ID of the input file picker element.\n",
              " * @param {string} outputId Element ID of the output display.\n",
              " * @return {!Iterable<!Object>} Iterable of next steps.\n",
              " */\n",
              "function* uploadFilesStep(inputId, outputId) {\n",
              "  const inputElement = document.getElementById(inputId);\n",
              "  inputElement.disabled = false;\n",
              "\n",
              "  const outputElement = document.getElementById(outputId);\n",
              "  outputElement.innerHTML = '';\n",
              "\n",
              "  const pickedPromise = new Promise((resolve) => {\n",
              "    inputElement.addEventListener('change', (e) => {\n",
              "      resolve(e.target.files);\n",
              "    });\n",
              "  });\n",
              "\n",
              "  const cancel = document.createElement('button');\n",
              "  inputElement.parentElement.appendChild(cancel);\n",
              "  cancel.textContent = 'Cancel upload';\n",
              "  const cancelPromise = new Promise((resolve) => {\n",
              "    cancel.onclick = () => {\n",
              "      resolve(null);\n",
              "    };\n",
              "  });\n",
              "\n",
              "  // Wait for the user to pick the files.\n",
              "  const files = yield {\n",
              "    promise: Promise.race([pickedPromise, cancelPromise]),\n",
              "    response: {\n",
              "      action: 'starting',\n",
              "    }\n",
              "  };\n",
              "\n",
              "  cancel.remove();\n",
              "\n",
              "  // Disable the input element since further picks are not allowed.\n",
              "  inputElement.disabled = true;\n",
              "\n",
              "  if (!files) {\n",
              "    return {\n",
              "      response: {\n",
              "        action: 'complete',\n",
              "      }\n",
              "    };\n",
              "  }\n",
              "\n",
              "  for (const file of files) {\n",
              "    const li = document.createElement('li');\n",
              "    li.append(span(file.name, {fontWeight: 'bold'}));\n",
              "    li.append(span(\n",
              "        `(${file.type || 'n/a'}) - ${file.size} bytes, ` +\n",
              "        `last modified: ${\n",
              "            file.lastModifiedDate ? file.lastModifiedDate.toLocaleDateString() :\n",
              "                                    'n/a'} - `));\n",
              "    const percent = span('0% done');\n",
              "    li.appendChild(percent);\n",
              "\n",
              "    outputElement.appendChild(li);\n",
              "\n",
              "    const fileDataPromise = new Promise((resolve) => {\n",
              "      const reader = new FileReader();\n",
              "      reader.onload = (e) => {\n",
              "        resolve(e.target.result);\n",
              "      };\n",
              "      reader.readAsArrayBuffer(file);\n",
              "    });\n",
              "    // Wait for the data to be ready.\n",
              "    let fileData = yield {\n",
              "      promise: fileDataPromise,\n",
              "      response: {\n",
              "        action: 'continue',\n",
              "      }\n",
              "    };\n",
              "\n",
              "    // Use a chunked sending to avoid message size limits. See b/62115660.\n",
              "    let position = 0;\n",
              "    do {\n",
              "      const length = Math.min(fileData.byteLength - position, MAX_PAYLOAD_SIZE);\n",
              "      const chunk = new Uint8Array(fileData, position, length);\n",
              "      position += length;\n",
              "\n",
              "      const base64 = btoa(String.fromCharCode.apply(null, chunk));\n",
              "      yield {\n",
              "        response: {\n",
              "          action: 'append',\n",
              "          file: file.name,\n",
              "          data: base64,\n",
              "        },\n",
              "      };\n",
              "\n",
              "      let percentDone = fileData.byteLength === 0 ?\n",
              "          100 :\n",
              "          Math.round((position / fileData.byteLength) * 100);\n",
              "      percent.textContent = `${percentDone}% done`;\n",
              "\n",
              "    } while (position < fileData.byteLength);\n",
              "  }\n",
              "\n",
              "  // All done.\n",
              "  yield {\n",
              "    response: {\n",
              "      action: 'complete',\n",
              "    }\n",
              "  };\n",
              "}\n",
              "\n",
              "scope.google = scope.google || {};\n",
              "scope.google.colab = scope.google.colab || {};\n",
              "scope.google.colab._files = {\n",
              "  _uploadFiles,\n",
              "  _uploadFilesContinue,\n",
              "};\n",
              "})(self);\n",
              "</script> "
            ]
          },
          "metadata": {}
        },
        {
          "output_type": "stream",
          "name": "stdout",
          "text": [
            "Saving ETH-USD.csv to ETH-USD.csv\n",
            "User uploaded file \"ETH-USD.csv\" with length 172876 bytes\n"
          ]
        }
      ]
    },
    {
      "cell_type": "code",
      "source": [
        "import io\n",
        "df = pd.read_csv(io.StringIO(uploaded['ETH-USD.csv'].decode('utf-8')))\n",
        "df.head()"
      ],
      "metadata": {
        "colab": {
          "base_uri": "https://localhost:8080/",
          "height": 206
        },
        "id": "j078H99imG3S",
        "outputId": "8aeab4ac-9538-42d7-e19c-8fad4a481296"
      },
      "execution_count": null,
      "outputs": [
        {
          "output_type": "execute_result",
          "data": {
            "text/plain": [
              "         date        timestamp    adjclose         low        open  \\\n",
              "0   11/9/2017   11/9/2017 0:00  320.884003  307.056000  308.644989   \n",
              "1  11/10/2017  11/10/2017 0:00  299.252991  294.541992  320.670990   \n",
              "2  11/11/2017  11/11/2017 0:00  314.681000  298.191986  298.585999   \n",
              "3  11/12/2017  11/12/2017 0:00  307.907989  298.513000  314.690002   \n",
              "4  11/13/2017  11/13/2017 0:00  316.716003  307.024994  307.024994   \n",
              "\n",
              "       volume       close        high  \n",
              "0   893249984  320.884003  329.451996  \n",
              "1   885985984  299.252991  324.717987  \n",
              "2   842300992  314.681000  319.453003  \n",
              "3  1613479936  307.907989  319.153015  \n",
              "4  1041889984  316.716003  328.415008  "
            ],
            "text/html": [
              "\n",
              "  <div id=\"df-d4b77461-d7e2-469f-af1d-ea3a5ddcb70b\">\n",
              "    <div class=\"colab-df-container\">\n",
              "      <div>\n",
              "<style scoped>\n",
              "    .dataframe tbody tr th:only-of-type {\n",
              "        vertical-align: middle;\n",
              "    }\n",
              "\n",
              "    .dataframe tbody tr th {\n",
              "        vertical-align: top;\n",
              "    }\n",
              "\n",
              "    .dataframe thead th {\n",
              "        text-align: right;\n",
              "    }\n",
              "</style>\n",
              "<table border=\"1\" class=\"dataframe\">\n",
              "  <thead>\n",
              "    <tr style=\"text-align: right;\">\n",
              "      <th></th>\n",
              "      <th>date</th>\n",
              "      <th>timestamp</th>\n",
              "      <th>adjclose</th>\n",
              "      <th>low</th>\n",
              "      <th>open</th>\n",
              "      <th>volume</th>\n",
              "      <th>close</th>\n",
              "      <th>high</th>\n",
              "    </tr>\n",
              "  </thead>\n",
              "  <tbody>\n",
              "    <tr>\n",
              "      <th>0</th>\n",
              "      <td>11/9/2017</td>\n",
              "      <td>11/9/2017 0:00</td>\n",
              "      <td>320.884003</td>\n",
              "      <td>307.056000</td>\n",
              "      <td>308.644989</td>\n",
              "      <td>893249984</td>\n",
              "      <td>320.884003</td>\n",
              "      <td>329.451996</td>\n",
              "    </tr>\n",
              "    <tr>\n",
              "      <th>1</th>\n",
              "      <td>11/10/2017</td>\n",
              "      <td>11/10/2017 0:00</td>\n",
              "      <td>299.252991</td>\n",
              "      <td>294.541992</td>\n",
              "      <td>320.670990</td>\n",
              "      <td>885985984</td>\n",
              "      <td>299.252991</td>\n",
              "      <td>324.717987</td>\n",
              "    </tr>\n",
              "    <tr>\n",
              "      <th>2</th>\n",
              "      <td>11/11/2017</td>\n",
              "      <td>11/11/2017 0:00</td>\n",
              "      <td>314.681000</td>\n",
              "      <td>298.191986</td>\n",
              "      <td>298.585999</td>\n",
              "      <td>842300992</td>\n",
              "      <td>314.681000</td>\n",
              "      <td>319.453003</td>\n",
              "    </tr>\n",
              "    <tr>\n",
              "      <th>3</th>\n",
              "      <td>11/12/2017</td>\n",
              "      <td>11/12/2017 0:00</td>\n",
              "      <td>307.907989</td>\n",
              "      <td>298.513000</td>\n",
              "      <td>314.690002</td>\n",
              "      <td>1613479936</td>\n",
              "      <td>307.907989</td>\n",
              "      <td>319.153015</td>\n",
              "    </tr>\n",
              "    <tr>\n",
              "      <th>4</th>\n",
              "      <td>11/13/2017</td>\n",
              "      <td>11/13/2017 0:00</td>\n",
              "      <td>316.716003</td>\n",
              "      <td>307.024994</td>\n",
              "      <td>307.024994</td>\n",
              "      <td>1041889984</td>\n",
              "      <td>316.716003</td>\n",
              "      <td>328.415008</td>\n",
              "    </tr>\n",
              "  </tbody>\n",
              "</table>\n",
              "</div>\n",
              "      <button class=\"colab-df-convert\" onclick=\"convertToInteractive('df-d4b77461-d7e2-469f-af1d-ea3a5ddcb70b')\"\n",
              "              title=\"Convert this dataframe to an interactive table.\"\n",
              "              style=\"display:none;\">\n",
              "        \n",
              "  <svg xmlns=\"http://www.w3.org/2000/svg\" height=\"24px\"viewBox=\"0 0 24 24\"\n",
              "       width=\"24px\">\n",
              "    <path d=\"M0 0h24v24H0V0z\" fill=\"none\"/>\n",
              "    <path d=\"M18.56 5.44l.94 2.06.94-2.06 2.06-.94-2.06-.94-.94-2.06-.94 2.06-2.06.94zm-11 1L8.5 8.5l.94-2.06 2.06-.94-2.06-.94L8.5 2.5l-.94 2.06-2.06.94zm10 10l.94 2.06.94-2.06 2.06-.94-2.06-.94-.94-2.06-.94 2.06-2.06.94z\"/><path d=\"M17.41 7.96l-1.37-1.37c-.4-.4-.92-.59-1.43-.59-.52 0-1.04.2-1.43.59L10.3 9.45l-7.72 7.72c-.78.78-.78 2.05 0 2.83L4 21.41c.39.39.9.59 1.41.59.51 0 1.02-.2 1.41-.59l7.78-7.78 2.81-2.81c.8-.78.8-2.07 0-2.86zM5.41 20L4 18.59l7.72-7.72 1.47 1.35L5.41 20z\"/>\n",
              "  </svg>\n",
              "      </button>\n",
              "      \n",
              "  <style>\n",
              "    .colab-df-container {\n",
              "      display:flex;\n",
              "      flex-wrap:wrap;\n",
              "      gap: 12px;\n",
              "    }\n",
              "\n",
              "    .colab-df-convert {\n",
              "      background-color: #E8F0FE;\n",
              "      border: none;\n",
              "      border-radius: 50%;\n",
              "      cursor: pointer;\n",
              "      display: none;\n",
              "      fill: #1967D2;\n",
              "      height: 32px;\n",
              "      padding: 0 0 0 0;\n",
              "      width: 32px;\n",
              "    }\n",
              "\n",
              "    .colab-df-convert:hover {\n",
              "      background-color: #E2EBFA;\n",
              "      box-shadow: 0px 1px 2px rgba(60, 64, 67, 0.3), 0px 1px 3px 1px rgba(60, 64, 67, 0.15);\n",
              "      fill: #174EA6;\n",
              "    }\n",
              "\n",
              "    [theme=dark] .colab-df-convert {\n",
              "      background-color: #3B4455;\n",
              "      fill: #D2E3FC;\n",
              "    }\n",
              "\n",
              "    [theme=dark] .colab-df-convert:hover {\n",
              "      background-color: #434B5C;\n",
              "      box-shadow: 0px 1px 3px 1px rgba(0, 0, 0, 0.15);\n",
              "      filter: drop-shadow(0px 1px 2px rgba(0, 0, 0, 0.3));\n",
              "      fill: #FFFFFF;\n",
              "    }\n",
              "  </style>\n",
              "\n",
              "      <script>\n",
              "        const buttonEl =\n",
              "          document.querySelector('#df-d4b77461-d7e2-469f-af1d-ea3a5ddcb70b button.colab-df-convert');\n",
              "        buttonEl.style.display =\n",
              "          google.colab.kernel.accessAllowed ? 'block' : 'none';\n",
              "\n",
              "        async function convertToInteractive(key) {\n",
              "          const element = document.querySelector('#df-d4b77461-d7e2-469f-af1d-ea3a5ddcb70b');\n",
              "          const dataTable =\n",
              "            await google.colab.kernel.invokeFunction('convertToInteractive',\n",
              "                                                     [key], {});\n",
              "          if (!dataTable) return;\n",
              "\n",
              "          const docLinkHtml = 'Like what you see? Visit the ' +\n",
              "            '<a target=\"_blank\" href=https://colab.research.google.com/notebooks/data_table.ipynb>data table notebook</a>'\n",
              "            + ' to learn more about interactive tables.';\n",
              "          element.innerHTML = '';\n",
              "          dataTable['output_type'] = 'display_data';\n",
              "          await google.colab.output.renderOutput(dataTable, element);\n",
              "          const docLink = document.createElement('div');\n",
              "          docLink.innerHTML = docLinkHtml;\n",
              "          element.appendChild(docLink);\n",
              "        }\n",
              "      </script>\n",
              "    </div>\n",
              "  </div>\n",
              "  "
            ]
          },
          "metadata": {},
          "execution_count": 3
        }
      ]
    },
    {
      "cell_type": "code",
      "source": [
        "\n",
        "plt.plot(df.index, df['adjclose'])\n",
        "plt.title('Ethereum coin Original data of 2018-22 ')\n",
        "plt.xlabel('days')\n",
        "plt.ylabel('Price (in USD)')\n",
        "plt.show()"
      ],
      "metadata": {
        "colab": {
          "base_uri": "https://localhost:8080/",
          "height": 295
        },
        "id": "mvYwGOsbmMJm",
        "outputId": "c2dac897-0108-4ab0-9420-2a5ee9ff3071"
      },
      "execution_count": null,
      "outputs": [
        {
          "output_type": "display_data",
          "data": {
            "text/plain": [
              "<Figure size 432x288 with 1 Axes>"
            ],
            "image/png": "[encoded data removed]"
          },
          "metadata": {
            "needs_background": "light"
          }
        }
      ]
    },
    {
      "cell_type": "code",
      "source": [
        "# Converting the'x'variable i.e. the Days column in to date-time format, to be treated as the index of Y here.\n",
        "df['timestamp'] = pd.to_datetime(df[\"timestamp\"])\n",
        "df.set_index('timestamp', inplace = True)"
      ],
      "metadata": {
        "id": "lFFADSDGmO-A"
      },
      "execution_count": null,
      "outputs": []
    },
    {
      "cell_type": "code",
      "source": [
        "plt.figure(figsize=(9,4))\n",
        "plt.plot(df['adjclose'],color='orange', label= 'Adjusted close feature')\n",
        "plt.xlabel(\"date\")\n",
        "plt.ylabel('price (in USD)')\n",
        "plt.legend()\n",
        "plt.show()"
      ],
      "metadata": {
        "colab": {
          "base_uri": "https://localhost:8080/",
          "height": 281
        },
        "id": "S9SBFlIomSFv",
        "outputId": "276a37f1-413e-4cbc-935f-79de5435c076"
      },
      "execution_count": null,
      "outputs": [
        {
          "output_type": "display_data",
          "data": {
            "text/plain": [
              "<Figure size 648x288 with 1 Axes>"
            ],
            "image/png": "[encoded data removed]"
          },
          "metadata": {
            "needs_background": "light"
          }
        }
      ]
    },
    {
      "cell_type": "code",
      "source": [
        "plt.figure(figsize=(9,4))\n",
        "df = df.loc['2020-9' : '2022']\n",
        "plt.plot(df['adjclose'])\n",
        "plt.title(\"Sample taken between 2020-9 till 10-2022\" )\n",
        "plt.xlabel(\"days\")\n",
        "plt.ylabel(\"price (in USD)\")"
      ],
      "metadata": {
        "colab": {
          "base_uri": "https://localhost:8080/",
          "height": 312
        },
        "id": "NSOBRgLqmVKE",
        "outputId": "27a2af45-8265-4750-a17f-550b4ae4e2df"
      },
      "execution_count": null,
      "outputs": [
        {
          "output_type": "execute_result",
          "data": {
            "text/plain": [
              "Text(0, 0.5, 'price (in USD)')"
            ]
          },
          "metadata": {},
          "execution_count": 7
        },
        {
          "output_type": "display_data",
          "data": {
            "text/plain": [
              "<Figure size 648x288 with 1 Axes>"
            ],
            "image/png": "[encoded data removed]"
          },
          "metadata": {
            "needs_background": "light"
          }
        }
      ]
    },
    {
      "cell_type": "code",
      "source": [
        "# Dataset with date index (X - independent variable)\n",
        "df['adjclose']= np.round(df['adjclose'][:],1)\n",
        "df['adjclose']"
      ],
      "metadata": {
        "colab": {
          "base_uri": "https://localhost:8080/"
        },
        "id": "uw4e3fPlmYX8",
        "outputId": "a4ca0b9c-495f-4a59-e9c4-1f54bd4b767e"
      },
      "execution_count": null,
      "outputs": [
        {
          "output_type": "execute_result",
          "data": {
            "text/plain": [
              "timestamp\n",
              "2020-09-01 00:00:00     477.1\n",
              "2020-09-02 00:00:00     440.0\n",
              "2020-09-03 00:00:00     385.7\n",
              "2020-09-04 00:00:00     388.2\n",
              "2020-09-05 00:00:00     335.3\n",
              "                        ...  \n",
              "2022-09-24 00:00:00    1318.0\n",
              "2022-09-25 00:00:00    1294.2\n",
              "2022-09-26 00:00:00    1335.3\n",
              "2022-09-27 00:00:00    1330.1\n",
              "2022-09-28 08:54:00    1281.9\n",
              "Name: adjclose, Length: 758, dtype: float64"
            ]
          },
          "metadata": {},
          "execution_count": 8
        }
      ]
    },
    {
      "cell_type": "code",
      "source": [
        "plt.figure(figsize=(9,4))\n",
        "plt.grid(True)\n",
        "to_row = int(len(df)*0.74)\n",
        "training_data = list(df[0:to_row]['adjclose'])\n",
        "testing_data = list(df[to_row:]['adjclose'])\n",
        "plt.plot(df[0:to_row]['adjclose'],color='green', label= 'Training set: 74%',linestyle ='dashed')\n",
        "plt.plot(df[to_row:]['adjclose'],color='blue', label= 'Test set: 26%')\n",
        "plt.title(\"Splitting the Data into Training & Test set\")\n",
        "plt.xlabel(\"date\")\n",
        "plt.ylabel('price (in USD)')\n",
        "plt.legend()\n",
        "plt.show()"
      ],
      "metadata": {
        "colab": {
          "base_uri": "https://localhost:8080/",
          "height": 295
        },
        "id": "nLJLHgWPma_1",
        "outputId": "92177b92-b6fa-46dc-8c2e-7c87305bbe80"
      },
      "execution_count": null,
      "outputs": [
        {
          "output_type": "display_data",
          "data": {
            "text/plain": [
              "<Figure size 648x288 with 1 Axes>"
            ],
            "image/png": "[encoded data removed]"
          },
          "metadata": {
            "needs_background": "light"
          }
        }
      ]
    },
    {
      "cell_type": "code",
      "source": [
        "# define input sequence\n",
        "timeseries_data = list(df[0:to_row]['adjclose'])"
      ],
      "metadata": {
        "id": "319eTt2kmdol"
      },
      "execution_count": null,
      "outputs": []
    },
    {
      "cell_type": "code",
      "source": [
        "# Working on Univariate data\n",
        "# preparing independent and dependent features\n",
        "def prepare_data(timeseries_data, n_steps):\n",
        "\tX, y =[],[]\n",
        "\tfor i in range(len(timeseries_data)):\n",
        "\t\t# find the end of this pattern\n",
        "\t\tend_ix = i + n_steps\n",
        "\t\t# check if we are beyond the sequence\n",
        "\t\tif end_ix > len(timeseries_data)-1:\n",
        "\t\t\tbreak\n",
        "\t\t# gather input and output parts of the pattern\n",
        "\t\tseq_x, seq_y = timeseries_data[i:end_ix], timeseries_data[end_ix]\n",
        "\t\tX.append(seq_x)\n",
        "\t\ty.append(seq_y)\n",
        "\treturn np.array(X), np.array(y)"
      ],
      "metadata": {
        "id": "eGnMYBlumg1B"
      },
      "execution_count": null,
      "outputs": []
    },
    {
      "cell_type": "code",
      "source": [
        "# choosing a number of time steps\n",
        "n_steps = 3\n",
        "# splitting into samples\n",
        "X, y = prepare_data(timeseries_data, n_steps)"
      ],
      "metadata": {
        "id": "DeoAyOI5mjqP"
      },
      "execution_count": null,
      "outputs": []
    },
    {
      "cell_type": "code",
      "source": [
        "print(df[0:to_row]['adjclose'])"
      ],
      "metadata": {
        "colab": {
          "base_uri": "https://localhost:8080/"
        },
        "id": "p0N0FHYJmmmq",
        "outputId": "49d2010e-9bdf-4f99-93c8-e75bf14b4052"
      },
      "execution_count": null,
      "outputs": [
        {
          "output_type": "stream",
          "name": "stdout",
          "text": [
            "timestamp\n",
            "2020-09-01     477.1\n",
            "2020-09-02     440.0\n",
            "2020-09-03     385.7\n",
            "2020-09-04     388.2\n",
            "2020-09-05     335.3\n",
            "               ...  \n",
            "2022-03-10    2608.0\n",
            "2022-03-11    2559.6\n",
            "2022-03-12    2574.8\n",
            "2022-03-13    2518.9\n",
            "2022-03-14    2590.7\n",
            "Name: adjclose, Length: 560, dtype: float64\n"
          ]
        }
      ]
    },
    {
      "cell_type": "markdown",
      "source": [
        "Applying Stacked LSTM LSTM Algorithm:\n",
        "Multiple hidden LSTM layers can be stacked one on top of another in what is referred to as a Stacked LSTM model."
      ],
      "metadata": {
        "id": "87vtQ4xxmt4S"
      }
    },
    {
      "cell_type": "code",
      "source": [
        "# define model\n",
        "n_features = 1\n",
        "model = Sequential()\n",
        "model.add(LSTM(50, activation='relu', return_sequences=True, input_shape=(n_steps, n_features)))\n",
        "model.add(LSTM(50, activation='relu'))\n",
        "model.add(Dense(1))\n",
        "model.compile(optimizer='adam', loss='mse')"
      ],
      "metadata": {
        "id": "8RV_zxxxmvI6"
      },
      "execution_count": null,
      "outputs": []
    },
    {
      "cell_type": "code",
      "source": [
        "# reshape from [samples, timesteps] into [samples, timesteps, features]\n",
        "\n",
        "X = X.reshape((X.shape[0], X.shape[1], n_features))"
      ],
      "metadata": {
        "id": "p2WOwBmdnDRg"
      },
      "execution_count": null,
      "outputs": []
    },
    {
      "cell_type": "code",
      "source": [
        "# fit model\n",
        "model.fit(X, y, epochs=200, verbose=1)"
      ],
      "metadata": {
        "colab": {
          "base_uri": "https://localhost:8080/"
        },
        "id": "TP9W5JkQnaxo",
        "outputId": "bc97fd64-0095-4ac5-ecac-b56828326ade"
      },
      "execution_count": null,
      "outputs": [
        {
          "output_type": "stream",
          "name": "stdout",
          "text": [
            "Epoch 1/200\n",
            "18/18 [==============================] - 4s 7ms/step - loss: 6324732.5000\n",
            "Epoch 2/200\n",
            "18/18 [==============================] - 0s 7ms/step - loss: 4686424.0000\n",
            "Epoch 3/200\n",
            "18/18 [==============================] - 0s 7ms/step - loss: 1182152.6250\n",
            "Epoch 4/200\n",
            "18/18 [==============================] - 0s 7ms/step - loss: 97823.3125\n",
            "Epoch 5/200\n",
            "18/18 [==============================] - 0s 7ms/step - loss: 29277.6426\n",
            "Epoch 6/200\n",
            "18/18 [==============================] - 0s 7ms/step - loss: 27916.9277\n",
            "Epoch 7/200\n",
            "18/18 [==============================] - 0s 7ms/step - loss: 27905.9902\n",
            "Epoch 8/200\n",
            "18/18 [==============================] - 0s 7ms/step - loss: 26673.4629\n",
            "Epoch 9/200\n",
            "18/18 [==============================] - 0s 7ms/step - loss: 27834.6016\n",
            "Epoch 10/200\n",
            "18/18 [==============================] - 0s 7ms/step - loss: 27703.9727\n",
            "Epoch 11/200\n",
            "18/18 [==============================] - 0s 7ms/step - loss: 27139.4355\n",
            "Epoch 12/200\n",
            "18/18 [==============================] - 0s 7ms/step - loss: 27446.1660\n",
            "Epoch 13/200\n",
            "18/18 [==============================] - 0s 7ms/step - loss: 27760.2109\n",
            "Epoch 14/200\n",
            "18/18 [==============================] - 0s 7ms/step - loss: 26559.8145\n",
            "Epoch 15/200\n",
            "18/18 [==============================] - 0s 7ms/step - loss: 27274.8438\n",
            "Epoch 16/200\n",
            "18/18 [==============================] - 0s 8ms/step - loss: 26933.2539\n",
            "Epoch 17/200\n",
            "18/18 [==============================] - 0s 7ms/step - loss: 27145.1680\n",
            "Epoch 18/200\n",
            "18/18 [==============================] - 0s 7ms/step - loss: 28274.9727\n",
            "Epoch 19/200\n",
            "18/18 [==============================] - 0s 7ms/step - loss: 25818.9082\n",
            "Epoch 20/200\n",
            "18/18 [==============================] - 0s 7ms/step - loss: 23715.2461\n",
            "Epoch 21/200\n",
            "18/18 [==============================] - 0s 7ms/step - loss: 22723.2891\n",
            "Epoch 22/200\n",
            "18/18 [==============================] - 0s 7ms/step - loss: 28764.0312\n",
            "Epoch 23/200\n",
            "18/18 [==============================] - 0s 7ms/step - loss: 30158.4492\n",
            "Epoch 24/200\n",
            "18/18 [==============================] - 0s 7ms/step - loss: 28785.5527\n",
            "Epoch 25/200\n",
            "18/18 [==============================] - 0s 7ms/step - loss: 28128.1660\n",
            "Epoch 26/200\n",
            "18/18 [==============================] - 0s 8ms/step - loss: 26003.1992\n",
            "Epoch 27/200\n",
            "18/18 [==============================] - 0s 8ms/step - loss: 25246.0781\n",
            "Epoch 28/200\n",
            "18/18 [==============================] - 0s 7ms/step - loss: 24980.3066\n",
            "Epoch 29/200\n",
            "18/18 [==============================] - 0s 7ms/step - loss: 24406.7520\n",
            "Epoch 30/200\n",
            "18/18 [==============================] - 0s 7ms/step - loss: 24251.7871\n",
            "Epoch 31/200\n",
            "18/18 [==============================] - 0s 7ms/step - loss: 24482.0332\n",
            "Epoch 32/200\n",
            "18/18 [==============================] - 0s 7ms/step - loss: 25252.5469\n",
            "Epoch 33/200\n",
            "18/18 [==============================] - 0s 7ms/step - loss: 26246.9746\n",
            "Epoch 34/200\n",
            "18/18 [==============================] - 0s 8ms/step - loss: 26176.7578\n",
            "Epoch 35/200\n",
            "18/18 [==============================] - 0s 6ms/step - loss: 24811.6094\n",
            "Epoch 36/200\n",
            "18/18 [==============================] - 0s 7ms/step - loss: 25593.7090\n",
            "Epoch 37/200\n",
            "18/18 [==============================] - 0s 7ms/step - loss: 27027.9434\n",
            "Epoch 38/200\n",
            "18/18 [==============================] - 0s 8ms/step - loss: 37348.9336\n",
            "Epoch 39/200\n",
            "18/18 [==============================] - 0s 9ms/step - loss: 27047.5996\n",
            "Epoch 40/200\n",
            "18/18 [==============================] - 0s 10ms/step - loss: 27391.6816\n",
            "Epoch 41/200\n",
            "18/18 [==============================] - 0s 11ms/step - loss: 26132.5215\n",
            "Epoch 42/200\n",
            "18/18 [==============================] - 0s 11ms/step - loss: 29701.8008\n",
            "Epoch 43/200\n",
            "18/18 [==============================] - 0s 10ms/step - loss: 26801.2324\n",
            "Epoch 44/200\n",
            "18/18 [==============================] - 0s 10ms/step - loss: 26857.0625\n",
            "Epoch 45/200\n",
            "18/18 [==============================] - 0s 10ms/step - loss: 27346.4785\n",
            "Epoch 46/200\n",
            "18/18 [==============================] - 0s 11ms/step - loss: 26612.3555\n",
            "Epoch 47/200\n",
            "18/18 [==============================] - 0s 11ms/step - loss: 26887.5469\n",
            "Epoch 48/200\n",
            "18/18 [==============================] - 0s 10ms/step - loss: 26257.0703\n",
            "Epoch 49/200\n",
            "18/18 [==============================] - 0s 11ms/step - loss: 26408.1504\n",
            "Epoch 50/200\n",
            "18/18 [==============================] - 0s 11ms/step - loss: 26097.9668\n",
            "Epoch 51/200\n",
            "18/18 [==============================] - 0s 10ms/step - loss: 26961.2129\n",
            "Epoch 52/200\n",
            "18/18 [==============================] - 0s 10ms/step - loss: 26191.6562\n",
            "Epoch 53/200\n",
            "18/18 [==============================] - 0s 7ms/step - loss: 26367.9961\n",
            "Epoch 54/200\n",
            "18/18 [==============================] - 0s 7ms/step - loss: 26006.0742\n",
            "Epoch 55/200\n",
            "18/18 [==============================] - 0s 7ms/step - loss: 26066.1562\n",
            "Epoch 56/200\n",
            "18/18 [==============================] - 0s 7ms/step - loss: 25150.9102\n",
            "Epoch 57/200\n",
            "18/18 [==============================] - 0s 6ms/step - loss: 25970.4980\n",
            "Epoch 58/200\n",
            "18/18 [==============================] - 0s 6ms/step - loss: 25816.9512\n",
            "Epoch 59/200\n",
            "18/18 [==============================] - 0s 7ms/step - loss: 26262.0918\n",
            "Epoch 60/200\n",
            "18/18 [==============================] - 0s 7ms/step - loss: 26556.2598\n",
            "Epoch 61/200\n",
            "18/18 [==============================] - 0s 7ms/step - loss: 25997.4023\n",
            "Epoch 62/200\n",
            "18/18 [==============================] - 0s 7ms/step - loss: 25939.2676\n",
            "Epoch 63/200\n",
            "18/18 [==============================] - 0s 7ms/step - loss: 25444.8164\n",
            "Epoch 64/200\n",
            "18/18 [==============================] - 0s 7ms/step - loss: 25431.9355\n",
            "Epoch 65/200\n",
            "18/18 [==============================] - 0s 7ms/step - loss: 27190.6328\n",
            "Epoch 66/200\n",
            "18/18 [==============================] - 0s 7ms/step - loss: 28886.3008\n",
            "Epoch 67/200\n",
            "18/18 [==============================] - 0s 7ms/step - loss: 27618.1895\n",
            "Epoch 68/200\n",
            "18/18 [==============================] - 0s 6ms/step - loss: 30154.8223\n",
            "Epoch 69/200\n",
            "18/18 [==============================] - 0s 7ms/step - loss: 26275.8418\n",
            "Epoch 70/200\n",
            "18/18 [==============================] - 0s 7ms/step - loss: 25353.1992\n",
            "Epoch 71/200\n",
            "18/18 [==============================] - 0s 7ms/step - loss: 23864.4668\n",
            "Epoch 72/200\n",
            "18/18 [==============================] - 0s 7ms/step - loss: 26602.0352\n",
            "Epoch 73/200\n",
            "18/18 [==============================] - 0s 7ms/step - loss: 25246.1523\n",
            "Epoch 74/200\n",
            "18/18 [==============================] - 0s 6ms/step - loss: 24995.1562\n",
            "Epoch 75/200\n",
            "18/18 [==============================] - 0s 7ms/step - loss: 25318.2109\n",
            "Epoch 76/200\n",
            "18/18 [==============================] - 0s 7ms/step - loss: 24339.1309\n",
            "Epoch 77/200\n",
            "18/18 [==============================] - 0s 7ms/step - loss: 24728.1992\n",
            "Epoch 78/200\n",
            "18/18 [==============================] - 0s 6ms/step - loss: 24483.2109\n",
            "Epoch 79/200\n",
            "18/18 [==============================] - 0s 7ms/step - loss: 24117.0508\n",
            "Epoch 80/200\n",
            "18/18 [==============================] - 0s 7ms/step - loss: 25590.1895\n",
            "Epoch 81/200\n",
            "18/18 [==============================] - 0s 7ms/step - loss: 182262.2812\n",
            "Epoch 82/200\n",
            "18/18 [==============================] - 0s 7ms/step - loss: 51410.4297\n",
            "Epoch 83/200\n",
            "18/18 [==============================] - 0s 8ms/step - loss: 24384.7266\n",
            "Epoch 84/200\n",
            "18/18 [==============================] - 0s 7ms/step - loss: 25350.7812\n",
            "Epoch 85/200\n",
            "18/18 [==============================] - 0s 7ms/step - loss: 24511.6328\n",
            "Epoch 86/200\n",
            "18/18 [==============================] - 0s 7ms/step - loss: 24090.0859\n",
            "Epoch 87/200\n",
            "18/18 [==============================] - 0s 6ms/step - loss: 24230.4844\n",
            "Epoch 88/200\n",
            "18/18 [==============================] - 0s 7ms/step - loss: 25718.0742\n",
            "Epoch 89/200\n",
            "18/18 [==============================] - 0s 7ms/step - loss: 24925.2812\n",
            "Epoch 90/200\n",
            "18/18 [==============================] - 0s 7ms/step - loss: 24373.6777\n",
            "Epoch 91/200\n",
            "18/18 [==============================] - 0s 8ms/step - loss: 24655.4004\n",
            "Epoch 92/200\n",
            "18/18 [==============================] - 0s 7ms/step - loss: 24819.1406\n",
            "Epoch 93/200\n",
            "18/18 [==============================] - 0s 7ms/step - loss: 24646.5098\n",
            "Epoch 94/200\n",
            "18/18 [==============================] - 0s 7ms/step - loss: 25400.8906\n",
            "Epoch 95/200\n",
            "18/18 [==============================] - 0s 7ms/step - loss: 27926.3379\n",
            "Epoch 96/200\n",
            "18/18 [==============================] - 0s 7ms/step - loss: 24994.9141\n",
            "Epoch 97/200\n",
            "18/18 [==============================] - 0s 6ms/step - loss: 24479.1348\n",
            "Epoch 98/200\n",
            "18/18 [==============================] - 0s 7ms/step - loss: 24718.7480\n",
            "Epoch 99/200\n",
            "18/18 [==============================] - 0s 7ms/step - loss: 24311.6504\n",
            "Epoch 100/200\n",
            "18/18 [==============================] - 0s 8ms/step - loss: 24436.5215\n",
            "Epoch 101/200\n",
            "18/18 [==============================] - 0s 6ms/step - loss: 25505.0117\n",
            "Epoch 102/200\n",
            "18/18 [==============================] - 0s 7ms/step - loss: 24824.9727\n",
            "Epoch 103/200\n",
            "18/18 [==============================] - 0s 7ms/step - loss: 24586.8887\n",
            "Epoch 104/200\n",
            "18/18 [==============================] - 0s 7ms/step - loss: 24399.9629\n",
            "Epoch 105/200\n",
            "18/18 [==============================] - 0s 7ms/step - loss: 24295.0781\n",
            "Epoch 106/200\n",
            "18/18 [==============================] - 0s 7ms/step - loss: 24550.2461\n",
            "Epoch 107/200\n",
            "18/18 [==============================] - 0s 6ms/step - loss: 23967.8223\n",
            "Epoch 108/200\n",
            "18/18 [==============================] - 0s 7ms/step - loss: 25162.2773\n",
            "Epoch 109/200\n",
            "18/18 [==============================] - 0s 6ms/step - loss: 24266.1094\n",
            "Epoch 110/200\n",
            "18/18 [==============================] - 0s 7ms/step - loss: 24509.3027\n",
            "Epoch 111/200\n",
            "18/18 [==============================] - 0s 7ms/step - loss: 24546.4160\n",
            "Epoch 112/200\n",
            "18/18 [==============================] - 0s 7ms/step - loss: 24597.7812\n",
            "Epoch 113/200\n",
            "18/18 [==============================] - 0s 7ms/step - loss: 23769.1719\n",
            "Epoch 114/200\n",
            "18/18 [==============================] - 0s 8ms/step - loss: 24297.8457\n",
            "Epoch 115/200\n",
            "18/18 [==============================] - 0s 7ms/step - loss: 26362.4023\n",
            "Epoch 116/200\n",
            "18/18 [==============================] - 0s 7ms/step - loss: 23869.3047\n",
            "Epoch 117/200\n",
            "18/18 [==============================] - 0s 7ms/step - loss: 23814.1953\n",
            "Epoch 118/200\n",
            "18/18 [==============================] - 0s 7ms/step - loss: 24683.3223\n",
            "Epoch 119/200\n",
            "18/18 [==============================] - 0s 8ms/step - loss: 25365.3203\n",
            "Epoch 120/200\n",
            "18/18 [==============================] - 0s 7ms/step - loss: 23828.5898\n",
            "Epoch 121/200\n",
            "18/18 [==============================] - 0s 8ms/step - loss: 23965.2891\n",
            "Epoch 122/200\n",
            "18/18 [==============================] - 0s 7ms/step - loss: 23553.2773\n",
            "Epoch 123/200\n",
            "18/18 [==============================] - 0s 7ms/step - loss: 24681.5664\n",
            "Epoch 124/200\n",
            "18/18 [==============================] - 0s 7ms/step - loss: 23757.7109\n",
            "Epoch 125/200\n",
            "18/18 [==============================] - 0s 7ms/step - loss: 23707.5957\n",
            "Epoch 126/200\n",
            "18/18 [==============================] - 0s 7ms/step - loss: 23369.3145\n",
            "Epoch 127/200\n",
            "18/18 [==============================] - 0s 6ms/step - loss: 23490.8027\n",
            "Epoch 128/200\n",
            "18/18 [==============================] - 0s 6ms/step - loss: 23787.8418\n",
            "Epoch 129/200\n",
            "18/18 [==============================] - 0s 11ms/step - loss: 23757.6328\n",
            "Epoch 130/200\n",
            "18/18 [==============================] - 0s 11ms/step - loss: 23222.1602\n",
            "Epoch 131/200\n",
            "18/18 [==============================] - 0s 11ms/step - loss: 23561.1387\n",
            "Epoch 132/200\n",
            "18/18 [==============================] - 0s 11ms/step - loss: 23066.8105\n",
            "Epoch 133/200\n",
            "18/18 [==============================] - 0s 10ms/step - loss: 23545.5898\n",
            "Epoch 134/200\n",
            "18/18 [==============================] - 0s 10ms/step - loss: 23763.2109\n",
            "Epoch 135/200\n",
            "18/18 [==============================] - 0s 10ms/step - loss: 24005.9766\n",
            "Epoch 136/200\n",
            "18/18 [==============================] - 0s 11ms/step - loss: 24516.8965\n",
            "Epoch 137/200\n",
            "18/18 [==============================] - 0s 11ms/step - loss: 24096.8750\n",
            "Epoch 138/200\n",
            "18/18 [==============================] - 0s 10ms/step - loss: 23388.8809\n",
            "Epoch 139/200\n",
            "18/18 [==============================] - 0s 11ms/step - loss: 23306.1816\n",
            "Epoch 140/200\n",
            "18/18 [==============================] - 0s 11ms/step - loss: 23097.3379\n",
            "Epoch 141/200\n",
            "18/18 [==============================] - 0s 10ms/step - loss: 22912.7207\n",
            "Epoch 142/200\n",
            "18/18 [==============================] - 0s 11ms/step - loss: 23503.5176\n",
            "Epoch 143/200\n",
            "18/18 [==============================] - 0s 9ms/step - loss: 22701.8711\n",
            "Epoch 144/200\n",
            "18/18 [==============================] - 0s 7ms/step - loss: 23596.9980\n",
            "Epoch 145/200\n",
            "18/18 [==============================] - 0s 7ms/step - loss: 23868.1855\n",
            "Epoch 146/200\n",
            "18/18 [==============================] - 0s 8ms/step - loss: 22490.1660\n",
            "Epoch 147/200\n",
            "18/18 [==============================] - 0s 7ms/step - loss: 23215.0293\n",
            "Epoch 148/200\n",
            "18/18 [==============================] - 0s 7ms/step - loss: 23448.2773\n",
            "Epoch 149/200\n",
            "18/18 [==============================] - 0s 7ms/step - loss: 22743.0273\n",
            "Epoch 150/200\n",
            "18/18 [==============================] - 0s 7ms/step - loss: 23432.6094\n",
            "Epoch 151/200\n",
            "18/18 [==============================] - 0s 7ms/step - loss: 23321.4629\n",
            "Epoch 152/200\n",
            "18/18 [==============================] - 0s 7ms/step - loss: 22561.5332\n",
            "Epoch 153/200\n",
            "18/18 [==============================] - 0s 7ms/step - loss: 22558.3867\n",
            "Epoch 154/200\n",
            "18/18 [==============================] - 0s 8ms/step - loss: 23154.0898\n",
            "Epoch 155/200\n",
            "18/18 [==============================] - 0s 7ms/step - loss: 22907.0996\n",
            "Epoch 156/200\n",
            "18/18 [==============================] - 0s 7ms/step - loss: 22805.6250\n",
            "Epoch 157/200\n",
            "18/18 [==============================] - 0s 7ms/step - loss: 22174.2363\n",
            "Epoch 158/200\n",
            "18/18 [==============================] - 0s 7ms/step - loss: 22167.7031\n",
            "Epoch 159/200\n",
            "18/18 [==============================] - 0s 7ms/step - loss: 22677.9414\n",
            "Epoch 160/200\n",
            "18/18 [==============================] - 0s 7ms/step - loss: 22655.1309\n",
            "Epoch 161/200\n",
            "18/18 [==============================] - 0s 8ms/step - loss: 23214.0957\n",
            "Epoch 162/200\n",
            "18/18 [==============================] - 0s 7ms/step - loss: 22768.3242\n",
            "Epoch 163/200\n",
            "18/18 [==============================] - 0s 7ms/step - loss: 22687.6328\n",
            "Epoch 164/200\n",
            "18/18 [==============================] - 0s 7ms/step - loss: 22284.9453\n",
            "Epoch 165/200\n",
            "18/18 [==============================] - 0s 7ms/step - loss: 22543.7383\n",
            "Epoch 166/200\n",
            "18/18 [==============================] - 0s 7ms/step - loss: 23045.0117\n",
            "Epoch 167/200\n",
            "18/18 [==============================] - 0s 7ms/step - loss: 22104.8828\n",
            "Epoch 168/200\n",
            "18/18 [==============================] - 0s 7ms/step - loss: 22114.7852\n",
            "Epoch 169/200\n",
            "18/18 [==============================] - 0s 8ms/step - loss: 23748.4395\n",
            "Epoch 170/200\n",
            "18/18 [==============================] - 0s 7ms/step - loss: 22996.4805\n",
            "Epoch 171/200\n",
            "18/18 [==============================] - 0s 7ms/step - loss: 22073.1230\n",
            "Epoch 172/200\n",
            "18/18 [==============================] - 0s 7ms/step - loss: 25083.5508\n",
            "Epoch 173/200\n",
            "18/18 [==============================] - 0s 8ms/step - loss: 22167.7832\n",
            "Epoch 174/200\n",
            "18/18 [==============================] - 0s 7ms/step - loss: 22034.0352\n",
            "Epoch 175/200\n",
            "18/18 [==============================] - 0s 7ms/step - loss: 22154.0312\n",
            "Epoch 176/200\n",
            "18/18 [==============================] - 0s 8ms/step - loss: 22366.3203\n",
            "Epoch 177/200\n",
            "18/18 [==============================] - 0s 7ms/step - loss: 22007.0625\n",
            "Epoch 178/200\n",
            "18/18 [==============================] - 0s 7ms/step - loss: 21793.4902\n",
            "Epoch 179/200\n",
            "18/18 [==============================] - 0s 8ms/step - loss: 25958.0957\n",
            "Epoch 180/200\n",
            "18/18 [==============================] - 0s 6ms/step - loss: 22796.0430\n",
            "Epoch 181/200\n",
            "18/18 [==============================] - 0s 7ms/step - loss: 22287.5059\n",
            "Epoch 182/200\n",
            "18/18 [==============================] - 0s 6ms/step - loss: 22484.5449\n",
            "Epoch 183/200\n",
            "18/18 [==============================] - 0s 7ms/step - loss: 21359.4785\n",
            "Epoch 184/200\n",
            "18/18 [==============================] - 0s 8ms/step - loss: 21511.0586\n",
            "Epoch 185/200\n",
            "18/18 [==============================] - 0s 7ms/step - loss: 21324.8398\n",
            "Epoch 186/200\n",
            "18/18 [==============================] - 0s 7ms/step - loss: 21928.3672\n",
            "Epoch 187/200\n",
            "18/18 [==============================] - 0s 7ms/step - loss: 21180.3008\n",
            "Epoch 188/200\n",
            "18/18 [==============================] - 0s 7ms/step - loss: 24123.3379\n",
            "Epoch 189/200\n",
            "18/18 [==============================] - 0s 8ms/step - loss: 22290.2246\n",
            "Epoch 190/200\n",
            "18/18 [==============================] - 0s 7ms/step - loss: 21132.0566\n",
            "Epoch 191/200\n",
            "18/18 [==============================] - 0s 8ms/step - loss: 22267.1445\n",
            "Epoch 192/200\n",
            "18/18 [==============================] - 0s 8ms/step - loss: 21041.8867\n",
            "Epoch 193/200\n",
            "18/18 [==============================] - 0s 7ms/step - loss: 21851.9023\n",
            "Epoch 194/200\n",
            "18/18 [==============================] - 0s 7ms/step - loss: 20944.0195\n",
            "Epoch 195/200\n",
            "18/18 [==============================] - 0s 7ms/step - loss: 20915.2891\n",
            "Epoch 196/200\n",
            "18/18 [==============================] - 0s 7ms/step - loss: 20811.7930\n",
            "Epoch 197/200\n",
            "18/18 [==============================] - 0s 7ms/step - loss: 20796.9219\n",
            "Epoch 198/200\n",
            "18/18 [==============================] - 0s 7ms/step - loss: 20860.8457\n",
            "Epoch 199/200\n",
            "18/18 [==============================] - 0s 8ms/step - loss: 20737.8555\n",
            "Epoch 200/200\n",
            "18/18 [==============================] - 0s 7ms/step - loss: 21748.2773\n"
          ]
        },
        {
          "output_type": "execute_result",
          "data": {
            "text/plain": [
              "<keras.callbacks.History at 0x7f068de0e700>"
            ]
          },
          "metadata": {},
          "execution_count": 16
        }
      ]
    },
    {
      "cell_type": "code",
      "source": [
        "x_input = np.array([2574.8,2518.9,2590.7])\n",
        "temp_input=list(x_input)\n",
        "lst_output=[]\n",
        "i=0\n",
        "while(i<10):\n",
        "\n",
        "    if(len(temp_input)>3):\n",
        "        x_input=np.array(temp_input[1:])\n",
        "        print(\"{} day input {}\".format(i,x_input))\n",
        "        #print(x_input)\n",
        "        x_input = x_input.reshape((1, n_steps, n_features))\n",
        "        #print(x_input)\n",
        "        yhat = model.predict(x_input, verbose=0)\n",
        "        print(\"{} day output {}\".format(i,yhat))\n",
        "        temp_input.append(yhat[0][0])\n",
        "        temp_input=temp_input[1:]\n",
        "        #print(temp_input)\n",
        "        lst_output.append(yhat[0][0])\n",
        "        i=i+1\n",
        "    else:\n",
        "        x_input = x_input.reshape((1, n_steps, n_features))\n",
        "        yhat = model.predict(x_input, verbose=0)\n",
        "        print(yhat[0])\n",
        "        temp_input.append(yhat[0][0])\n",
        "        lst_output.append(yhat[0][0])\n",
        "        i=i+1\n",
        ""
      ],
      "metadata": {
        "colab": {
          "base_uri": "https://localhost:8080/"
        },
        "id": "eMnzhBxxnhGh",
        "outputId": "f50369b3-e906-4eed-bdc4-3d54aa630995"
      },
      "execution_count": null,
      "outputs": [
        {
          "output_type": "stream",
          "name": "stdout",
          "text": [
            "[2573.0315]\n",
            "1 day input [2518.9        2590.7        2573.03149414]\n",
            "1 day output [[2582.6973]]\n",
            "2 day input [2590.7        2573.03149414 2582.69726562]\n",
            "2 day output [[2592.4207]]\n",
            "3 day input [2573.0315 2582.6973 2592.4207]\n",
            "3 day output [[2597.568]]\n",
            "4 day input [2582.6973 2592.4207 2597.568 ]\n",
            "4 day output [[2605.1973]]\n",
            "5 day input [2592.4207 2597.568  2605.1973]\n",
            "5 day output [[2612.2463]]\n",
            "6 day input [2597.568  2605.1973 2612.2463]\n",
            "6 day output [[2619.2034]]\n",
            "7 day input [2605.1973 2612.2463 2619.2034]\n",
            "7 day output [[2626.313]]\n",
            "8 day input [2612.2463 2619.2034 2626.313 ]\n",
            "8 day output [[2633.361]]\n",
            "9 day input [2619.2034 2626.313  2633.361 ]\n",
            "9 day output [[2640.4226]]\n"
          ]
        }
      ]
    },
    {
      "cell_type": "code",
      "source": [
        "print(model.summary())"
      ],
      "metadata": {
        "colab": {
          "base_uri": "https://localhost:8080/"
        },
        "id": "fucoGBKbnqwC",
        "outputId": "bcef12cc-8bf0-42c1-ab08-41da60950866"
      },
      "execution_count": null,
      "outputs": [
        {
          "output_type": "stream",
          "name": "stdout",
          "text": [
            "Model: \"sequential\"\n",
            "_________________________________________________________________\n",
            " Layer (type)                Output Shape              Param #   \n",
            "=================================================================\n",
            " lstm (LSTM)                 (None, 3, 50)             10400     \n",
            "                                                                 \n",
            " lstm_1 (LSTM)               (None, 50)                20200     \n",
            "                                                                 \n",
            " dense (Dense)               (None, 1)                 51        \n",
            "                                                                 \n",
            "=================================================================\n",
            "Total params: 30,651\n",
            "Trainable params: 30,651\n",
            "Non-trainable params: 0\n",
            "_________________________________________________________________\n",
            "None\n"
          ]
        }
      ]
    },
    {
      "cell_type": "code",
      "source": [
        "df[0:to_row]['adjclose']"
      ],
      "metadata": {
        "colab": {
          "base_uri": "https://localhost:8080/"
        },
        "id": "M6RtMwT7nxBd",
        "outputId": "2f871acc-a9f8-4771-cd36-97e77af6aaf7"
      },
      "execution_count": null,
      "outputs": [
        {
          "output_type": "execute_result",
          "data": {
            "text/plain": [
              "timestamp\n",
              "2020-09-01     477.1\n",
              "2020-09-02     440.0\n",
              "2020-09-03     385.7\n",
              "2020-09-04     388.2\n",
              "2020-09-05     335.3\n",
              "               ...  \n",
              "2022-03-10    2608.0\n",
              "2022-03-11    2559.6\n",
              "2022-03-12    2574.8\n",
              "2022-03-13    2518.9\n",
              "2022-03-14    2590.7\n",
              "Name: adjclose, Length: 560, dtype: float64"
            ]
          },
          "metadata": {},
          "execution_count": 23
        }
      ]
    },
    {
      "cell_type": "code",
      "source": [
        "#test_set = df[to_row::10]['adjclose']\n",
        "test_set = df[to_row:][0:10]['adjclose']\n",
        "\n",
        "test_set"
      ],
      "metadata": {
        "colab": {
          "base_uri": "https://localhost:8080/"
        },
        "id": "UC6QVoTJz1CE",
        "outputId": "e13380a7-8f43-4ce0-92a5-b32acd25e121"
      },
      "execution_count": null,
      "outputs": [
        {
          "output_type": "execute_result",
          "data": {
            "text/plain": [
              "timestamp\n",
              "2022-03-15    2620.1\n",
              "2022-03-16    2772.1\n",
              "2022-03-17    2814.9\n",
              "2022-03-18    2945.3\n",
              "2022-03-19    2946.3\n",
              "2022-03-20    2860.5\n",
              "2022-03-21    2898.0\n",
              "2022-03-22    2973.1\n",
              "2022-03-23    3031.1\n",
              "2022-03-24    3108.1\n",
              "Name: adjclose, dtype: float64"
            ]
          },
          "metadata": {},
          "execution_count": 24
        }
      ]
    },
    {
      "cell_type": "code",
      "source": [
        "date = df[to_row:][0:10]['adjclose'].index"
      ],
      "metadata": {
        "id": "aT-JO0fxn89z"
      },
      "execution_count": null,
      "outputs": []
    },
    {
      "cell_type": "code",
      "source": [
        "lst_output"
      ],
      "metadata": {
        "id": "nlQjCrix1mM1",
        "outputId": "9605ea07-1a4b-4a07-d07f-fe944589ea0d",
        "colab": {
          "base_uri": "https://localhost:8080/"
        }
      },
      "execution_count": null,
      "outputs": [
        {
          "output_type": "execute_result",
          "data": {
            "text/plain": [
              "[2573.0315,\n",
              " 2582.6973,\n",
              " 2592.4207,\n",
              " 2597.568,\n",
              " 2605.1973,\n",
              " 2612.2463,\n",
              " 2619.2034,\n",
              " 2626.313,\n",
              " 2633.361,\n",
              " 2640.4226]"
            ]
          },
          "metadata": {},
          "execution_count": 26
        }
      ]
    },
    {
      "cell_type": "code",
      "source": [
        "plt.plot(date,test_set)\n",
        "plt.plot(date,lst_output, color = 'r')"
      ],
      "metadata": {
        "colab": {
          "base_uri": "https://localhost:8080/",
          "height": 282
        },
        "id": "RbQTfzz7n_fl",
        "outputId": "b2ee9e21-6716-495f-9496-0be2a345e80d"
      },
      "execution_count": null,
      "outputs": [
        {
          "output_type": "execute_result",
          "data": {
            "text/plain": [
              "[<matplotlib.lines.Line2D at 0x7f067c46e6d0>]"
            ]
          },
          "metadata": {},
          "execution_count": 27
        },
        {
          "output_type": "display_data",
          "data": {
            "text/plain": [
              "<Figure size 432x288 with 1 Axes>"
            ],
            "image/png": "[encoded data removed]"
          },
          "metadata": {
            "needs_background": "light"
          }
        }
      ]
    },
    {
      "cell_type": "code",
      "source": [
        "# performance Evaluation of 10 days Predictions"
      ],
      "metadata": {
        "id": "uYO8STugoBhO"
      },
      "execution_count": null,
      "outputs": []
    },
    {
      "cell_type": "code",
      "source": [
        "from sklearn.metrics import mean_absolute_error, mean_squared_error,r2_score\n",
        "print(\"Computing the R-squared value:\")\n",
        "r2_score = r2_score(test_set,lst_output)\n",
        "print(f'r2_score:{r2_score}')"
      ],
      "metadata": {
        "colab": {
          "base_uri": "https://localhost:8080/"
        },
        "id": "T3C3k4zx1gNq",
        "outputId": "f6d0604b-5d31-48b1-9821-24bc477d27aa"
      },
      "execution_count": null,
      "outputs": [
        {
          "output_type": "stream",
          "name": "stdout",
          "text": [
            "Computing the R-squared value:\n",
            "r2_score:-4.542826951751986\n"
          ]
        }
      ]
    },
    {
      "cell_type": "code",
      "source": [
        "# CALCULATING MEAN ABSOLUTE PERCENTAGE ERROR\n",
        "MAPE = np.mean(np.abs(np.array(lst_output) - np.array(test_set)) / np.abs(test_set))\n",
        "print(f'Mean_Absolute_Percentage_Error:{MAPE}')"
      ],
      "metadata": {
        "colab": {
          "base_uri": "https://localhost:8080/"
        },
        "id": "2YX7vbS-1nK4",
        "outputId": "b2e4a06f-e871-4d69-c351-266aafc6c760"
      },
      "execution_count": null,
      "outputs": [
        {
          "output_type": "stream",
          "name": "stdout",
          "text": [
            "Mean_Absolute_Percentage_Error:0.0980483246365074\n"
          ]
        }
      ]
    },
    {
      "cell_type": "code",
      "source": [
        "from sklearn.metrics import mean_squared_error\n",
        "import math\n",
        "MSE = mean_squared_error(test_set, lst_output)\n",
        "RMSE = math.sqrt(MSE)\n",
        "print(\"Root Mean Square Error:\\n\")\n",
        "print(RMSE)"
      ],
      "metadata": {
        "colab": {
          "base_uri": "https://localhost:8080/"
        },
        "id": "lgGo9SZ52EVg",
        "outputId": "af0d1577-43e3-4c08-9ce8-4373a4f483f4"
      },
      "execution_count": null,
      "outputs": [
        {
          "output_type": "stream",
          "name": "stdout",
          "text": [
            "Root Mean Square Error:\n",
            "\n",
            "310.0631388678506\n"
          ]
        }
      ]
    },
    {
      "cell_type": "code",
      "source": [
        "# CALCULATING MEAN ABSOLUTE ERROR\n",
        "MAE = mean_absolute_error(test_set,lst_output)\n",
        "print(f'Mean_Absolute_Error:{MAE}')"
      ],
      "metadata": {
        "colab": {
          "base_uri": "https://localhost:8080/"
        },
        "id": "K2mlQ8y62Hfk",
        "outputId": "94caa7bc-70d4-44d1-c3c2-2f6cf65698bd"
      },
      "execution_count": null,
      "outputs": [
        {
          "output_type": "stream",
          "name": "stdout",
          "text": [
            "Mean_Absolute_Error:288.7038818359375\n"
          ]
        }
      ]
    },
    {
      "cell_type": "code",
      "source": [],
      "metadata": {
        "id": "nXczUZ3U2L-a"
      },
      "execution_count": null,
      "outputs": []
    }
  ]
}