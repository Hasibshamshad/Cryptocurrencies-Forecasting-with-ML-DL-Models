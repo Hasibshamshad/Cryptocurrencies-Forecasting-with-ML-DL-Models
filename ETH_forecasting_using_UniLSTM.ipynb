{
  "nbformat": 4,
  "nbformat_minor": 0,
  "metadata": {
    "colab": {
      "provenance": []
    },
    "kernelspec": {
      "name": "python3",
      "display_name": "Python 3"
    },
    "language_info": {
      "name": "python"
    }
  },
  "cells": [
    {
      "cell_type": "code",
      "execution_count": null,
      "metadata": {
        "id": "dI73TLufPNL6"
      },
      "outputs": [],
      "source": [
        "import numpy as np\n",
        "import matplotlib.pyplot as plt\n",
        "import pandas as pd\n",
        "import math\n",
        "from tensorflow.keras.models import Sequential\n",
        "from tensorflow.keras.layers import LSTM\n",
        "from tensorflow.keras.layers import Dense\n",
        "from tensorflow.keras.layers import Flatten"
      ]
    },
    {
      "cell_type": "code",
      "source": [
        "from google.colab import files\n",
        "\n",
        "uploaded = files.upload()\n",
        "\n",
        "for fn in uploaded.keys():\n",
        "  print('User uploaded file \"{name}\" with length {length} bytes'.format(\n",
        "      name=fn, length=len(uploaded[fn])))"
      ],
      "metadata": {
        "colab": {
          "base_uri": "https://localhost:8080/",
          "height": 90
        },
        "id": "ooh9Xtw-PhQ1",
        "outputId": "2819ec65-c49a-4ea1-d94b-d0fe6fe9f8ce"
      },
      "execution_count": null,
      "outputs": [
        {
          "output_type": "display_data",
          "data": {
            "text/plain": [
              "<IPython.core.display.HTML object>"
            ],
            "text/html": [
              "\n",
              "     <input type=\"file\" id=\"files-401c6628-9f74-4ab3-8054-7c4818a6da15\" name=\"files[]\" multiple disabled\n",
              "        style=\"border:none\" />\n",
              "     <output id=\"result-401c6628-9f74-4ab3-8054-7c4818a6da15\">\n",
              "      Upload widget is only available when the cell has been executed in the\n",
              "      current browser session. Please rerun this cell to enable.\n",
              "      </output>\n",
              "      <script>// Copyright 2017 Google LLC\n",
              "//\n",
              "// Licensed under the Apache License, Version 2.0 (the \"License\");\n",
              "// you may not use this file except in compliance with the License.\n",
              "// You may obtain a copy of the License at\n",
              "//\n",
              "//      http://www.apache.org/licenses/LICENSE-2.0\n",
              "//\n",
              "// Unless required by applicable law or agreed to in writing, software\n",
              "// distributed under the License is distributed on an \"AS IS\" BASIS,\n",
              "// WITHOUT WARRANTIES OR CONDITIONS OF ANY KIND, either express or implied.\n",
              "// See the License for the specific language governing permissions and\n",
              "// limitations under the License.\n",
              "\n",
              "/**\n",
              " * @fileoverview Helpers for google.colab Python module.\n",
              " */\n",
              "(function(scope) {\n",
              "function span(text, styleAttributes = {}) {\n",
              "  const element = document.createElement('span');\n",
              "  element.textContent = text;\n",
              "  for (const key of Object.keys(styleAttributes)) {\n",
              "    element.style[key] = styleAttributes[key];\n",
              "  }\n",
              "  return element;\n",
              "}\n",
              "\n",
              "// Max number of bytes which will be uploaded at a time.\n",
              "const MAX_PAYLOAD_SIZE = 100 * 1024;\n",
              "\n",
              "function _uploadFiles(inputId, outputId) {\n",
              "  const steps = uploadFilesStep(inputId, outputId);\n",
              "  const outputElement = document.getElementById(outputId);\n",
              "  // Cache steps on the outputElement to make it available for the next call\n",
              "  // to uploadFilesContinue from Python.\n",
              "  outputElement.steps = steps;\n",
              "\n",
              "  return _uploadFilesContinue(outputId);\n",
              "}\n",
              "\n",
              "// This is roughly an async generator (not supported in the browser yet),\n",
              "// where there are multiple asynchronous steps and the Python side is going\n",
              "// to poll for completion of each step.\n",
              "// This uses a Promise to block the python side on completion of each step,\n",
              "// then passes the result of the previous step as the input to the next step.\n",
              "function _uploadFilesContinue(outputId) {\n",
              "  const outputElement = document.getElementById(outputId);\n",
              "  const steps = outputElement.steps;\n",
              "\n",
              "  const next = steps.next(outputElement.lastPromiseValue);\n",
              "  return Promise.resolve(next.value.promise).then((value) => {\n",
              "    // Cache the last promise value to make it available to the next\n",
              "    // step of the generator.\n",
              "    outputElement.lastPromiseValue = value;\n",
              "    return next.value.response;\n",
              "  });\n",
              "}\n",
              "\n",
              "/**\n",
              " * Generator function which is called between each async step of the upload\n",
              " * process.\n",
              " * @param {string} inputId Element ID of the input file picker element.\n",
              " * @param {string} outputId Element ID of the output display.\n",
              " * @return {!Iterable<!Object>} Iterable of next steps.\n",
              " */\n",
              "function* uploadFilesStep(inputId, outputId) {\n",
              "  const inputElement = document.getElementById(inputId);\n",
              "  inputElement.disabled = false;\n",
              "\n",
              "  const outputElement = document.getElementById(outputId);\n",
              "  outputElement.innerHTML = '';\n",
              "\n",
              "  const pickedPromise = new Promise((resolve) => {\n",
              "    inputElement.addEventListener('change', (e) => {\n",
              "      resolve(e.target.files);\n",
              "    });\n",
              "  });\n",
              "\n",
              "  const cancel = document.createElement('button');\n",
              "  inputElement.parentElement.appendChild(cancel);\n",
              "  cancel.textContent = 'Cancel upload';\n",
              "  const cancelPromise = new Promise((resolve) => {\n",
              "    cancel.onclick = () => {\n",
              "      resolve(null);\n",
              "    };\n",
              "  });\n",
              "\n",
              "  // Wait for the user to pick the files.\n",
              "  const files = yield {\n",
              "    promise: Promise.race([pickedPromise, cancelPromise]),\n",
              "    response: {\n",
              "      action: 'starting',\n",
              "    }\n",
              "  };\n",
              "\n",
              "  cancel.remove();\n",
              "\n",
              "  // Disable the input element since further picks are not allowed.\n",
              "  inputElement.disabled = true;\n",
              "\n",
              "  if (!files) {\n",
              "    return {\n",
              "      response: {\n",
              "        action: 'complete',\n",
              "      }\n",
              "    };\n",
              "  }\n",
              "\n",
              "  for (const file of files) {\n",
              "    const li = document.createElement('li');\n",
              "    li.append(span(file.name, {fontWeight: 'bold'}));\n",
              "    li.append(span(\n",
              "        `(${file.type || 'n/a'}) - ${file.size} bytes, ` +\n",
              "        `last modified: ${\n",
              "            file.lastModifiedDate ? file.lastModifiedDate.toLocaleDateString() :\n",
              "                                    'n/a'} - `));\n",
              "    const percent = span('0% done');\n",
              "    li.appendChild(percent);\n",
              "\n",
              "    outputElement.appendChild(li);\n",
              "\n",
              "    const fileDataPromise = new Promise((resolve) => {\n",
              "      const reader = new FileReader();\n",
              "      reader.onload = (e) => {\n",
              "        resolve(e.target.result);\n",
              "      };\n",
              "      reader.readAsArrayBuffer(file);\n",
              "    });\n",
              "    // Wait for the data to be ready.\n",
              "    let fileData = yield {\n",
              "      promise: fileDataPromise,\n",
              "      response: {\n",
              "        action: 'continue',\n",
              "      }\n",
              "    };\n",
              "\n",
              "    // Use a chunked sending to avoid message size limits. See b/62115660.\n",
              "    let position = 0;\n",
              "    do {\n",
              "      const length = Math.min(fileData.byteLength - position, MAX_PAYLOAD_SIZE);\n",
              "      const chunk = new Uint8Array(fileData, position, length);\n",
              "      position += length;\n",
              "\n",
              "      const base64 = btoa(String.fromCharCode.apply(null, chunk));\n",
              "      yield {\n",
              "        response: {\n",
              "          action: 'append',\n",
              "          file: file.name,\n",
              "          data: base64,\n",
              "        },\n",
              "      };\n",
              "\n",
              "      let percentDone = fileData.byteLength === 0 ?\n",
              "          100 :\n",
              "          Math.round((position / fileData.byteLength) * 100);\n",
              "      percent.textContent = `${percentDone}% done`;\n",
              "\n",
              "    } while (position < fileData.byteLength);\n",
              "  }\n",
              "\n",
              "  // All done.\n",
              "  yield {\n",
              "    response: {\n",
              "      action: 'complete',\n",
              "    }\n",
              "  };\n",
              "}\n",
              "\n",
              "scope.google = scope.google || {};\n",
              "scope.google.colab = scope.google.colab || {};\n",
              "scope.google.colab._files = {\n",
              "  _uploadFiles,\n",
              "  _uploadFilesContinue,\n",
              "};\n",
              "})(self);\n",
              "</script> "
            ]
          },
          "metadata": {}
        },
        {
          "output_type": "stream",
          "name": "stdout",
          "text": [
            "Saving ETH-USD.csv to ETH-USD.csv\n",
            "User uploaded file \"ETH-USD.csv\" with length 172876 bytes\n"
          ]
        }
      ]
    },
    {
      "cell_type": "code",
      "source": [
        "import io\n",
        "df = pd.read_csv(io.StringIO(uploaded['ETH-USD.csv'].decode('utf-8')))\n",
        "df.head()"
      ],
      "metadata": {
        "colab": {
          "base_uri": "https://localhost:8080/",
          "height": 206
        },
        "id": "uMwM5jK-P3ts",
        "outputId": "f9a5d891-ad1c-4515-b809-1b8764934a14"
      },
      "execution_count": null,
      "outputs": [
        {
          "output_type": "execute_result",
          "data": {
            "text/plain": [
              "         date        timestamp    adjclose         low        open  \\\n",
              "0   11/9/2017   11/9/2017 0:00  320.884003  307.056000  308.644989   \n",
              "1  11/10/2017  11/10/2017 0:00  299.252991  294.541992  320.670990   \n",
              "2  11/11/2017  11/11/2017 0:00  314.681000  298.191986  298.585999   \n",
              "3  11/12/2017  11/12/2017 0:00  307.907989  298.513000  314.690002   \n",
              "4  11/13/2017  11/13/2017 0:00  316.716003  307.024994  307.024994   \n",
              "\n",
              "       volume       close        high  \n",
              "0   893249984  320.884003  329.451996  \n",
              "1   885985984  299.252991  324.717987  \n",
              "2   842300992  314.681000  319.453003  \n",
              "3  1613479936  307.907989  319.153015  \n",
              "4  1041889984  316.716003  328.415008  "
            ],
            "text/html": [
              "\n",
              "  <div id=\"df-fbd23110-f170-42c6-b616-8da51fec9864\">\n",
              "    <div class=\"colab-df-container\">\n",
              "      <div>\n",
              "<style scoped>\n",
              "    .dataframe tbody tr th:only-of-type {\n",
              "        vertical-align: middle;\n",
              "    }\n",
              "\n",
              "    .dataframe tbody tr th {\n",
              "        vertical-align: top;\n",
              "    }\n",
              "\n",
              "    .dataframe thead th {\n",
              "        text-align: right;\n",
              "    }\n",
              "</style>\n",
              "<table border=\"1\" class=\"dataframe\">\n",
              "  <thead>\n",
              "    <tr style=\"text-align: right;\">\n",
              "      <th></th>\n",
              "      <th>date</th>\n",
              "      <th>timestamp</th>\n",
              "      <th>adjclose</th>\n",
              "      <th>low</th>\n",
              "      <th>open</th>\n",
              "      <th>volume</th>\n",
              "      <th>close</th>\n",
              "      <th>high</th>\n",
              "    </tr>\n",
              "  </thead>\n",
              "  <tbody>\n",
              "    <tr>\n",
              "      <th>0</th>\n",
              "      <td>11/9/2017</td>\n",
              "      <td>11/9/2017 0:00</td>\n",
              "      <td>320.884003</td>\n",
              "      <td>307.056000</td>\n",
              "      <td>308.644989</td>\n",
              "      <td>893249984</td>\n",
              "      <td>320.884003</td>\n",
              "      <td>329.451996</td>\n",
              "    </tr>\n",
              "    <tr>\n",
              "      <th>1</th>\n",
              "      <td>11/10/2017</td>\n",
              "      <td>11/10/2017 0:00</td>\n",
              "      <td>299.252991</td>\n",
              "      <td>294.541992</td>\n",
              "      <td>320.670990</td>\n",
              "      <td>885985984</td>\n",
              "      <td>299.252991</td>\n",
              "      <td>324.717987</td>\n",
              "    </tr>\n",
              "    <tr>\n",
              "      <th>2</th>\n",
              "      <td>11/11/2017</td>\n",
              "      <td>11/11/2017 0:00</td>\n",
              "      <td>314.681000</td>\n",
              "      <td>298.191986</td>\n",
              "      <td>298.585999</td>\n",
              "      <td>842300992</td>\n",
              "      <td>314.681000</td>\n",
              "      <td>319.453003</td>\n",
              "    </tr>\n",
              "    <tr>\n",
              "      <th>3</th>\n",
              "      <td>11/12/2017</td>\n",
              "      <td>11/12/2017 0:00</td>\n",
              "      <td>307.907989</td>\n",
              "      <td>298.513000</td>\n",
              "      <td>314.690002</td>\n",
              "      <td>1613479936</td>\n",
              "      <td>307.907989</td>\n",
              "      <td>319.153015</td>\n",
              "    </tr>\n",
              "    <tr>\n",
              "      <th>4</th>\n",
              "      <td>11/13/2017</td>\n",
              "      <td>11/13/2017 0:00</td>\n",
              "      <td>316.716003</td>\n",
              "      <td>307.024994</td>\n",
              "      <td>307.024994</td>\n",
              "      <td>1041889984</td>\n",
              "      <td>316.716003</td>\n",
              "      <td>328.415008</td>\n",
              "    </tr>\n",
              "  </tbody>\n",
              "</table>\n",
              "</div>\n",
              "      <button class=\"colab-df-convert\" onclick=\"convertToInteractive('df-fbd23110-f170-42c6-b616-8da51fec9864')\"\n",
              "              title=\"Convert this dataframe to an interactive table.\"\n",
              "              style=\"display:none;\">\n",
              "        \n",
              "  <svg xmlns=\"http://www.w3.org/2000/svg\" height=\"24px\"viewBox=\"0 0 24 24\"\n",
              "       width=\"24px\">\n",
              "    <path d=\"M0 0h24v24H0V0z\" fill=\"none\"/>\n",
              "    <path d=\"M18.56 5.44l.94 2.06.94-2.06 2.06-.94-2.06-.94-.94-2.06-.94 2.06-2.06.94zm-11 1L8.5 8.5l.94-2.06 2.06-.94-2.06-.94L8.5 2.5l-.94 2.06-2.06.94zm10 10l.94 2.06.94-2.06 2.06-.94-2.06-.94-.94-2.06-.94 2.06-2.06.94z\"/><path d=\"M17.41 7.96l-1.37-1.37c-.4-.4-.92-.59-1.43-.59-.52 0-1.04.2-1.43.59L10.3 9.45l-7.72 7.72c-.78.78-.78 2.05 0 2.83L4 21.41c.39.39.9.59 1.41.59.51 0 1.02-.2 1.41-.59l7.78-7.78 2.81-2.81c.8-.78.8-2.07 0-2.86zM5.41 20L4 18.59l7.72-7.72 1.47 1.35L5.41 20z\"/>\n",
              "  </svg>\n",
              "      </button>\n",
              "      \n",
              "  <style>\n",
              "    .colab-df-container {\n",
              "      display:flex;\n",
              "      flex-wrap:wrap;\n",
              "      gap: 12px;\n",
              "    }\n",
              "\n",
              "    .colab-df-convert {\n",
              "      background-color: #E8F0FE;\n",
              "      border: none;\n",
              "      border-radius: 50%;\n",
              "      cursor: pointer;\n",
              "      display: none;\n",
              "      fill: #1967D2;\n",
              "      height: 32px;\n",
              "      padding: 0 0 0 0;\n",
              "      width: 32px;\n",
              "    }\n",
              "\n",
              "    .colab-df-convert:hover {\n",
              "      background-color: #E2EBFA;\n",
              "      box-shadow: 0px 1px 2px rgba(60, 64, 67, 0.3), 0px 1px 3px 1px rgba(60, 64, 67, 0.15);\n",
              "      fill: #174EA6;\n",
              "    }\n",
              "\n",
              "    [theme=dark] .colab-df-convert {\n",
              "      background-color: #3B4455;\n",
              "      fill: #D2E3FC;\n",
              "    }\n",
              "\n",
              "    [theme=dark] .colab-df-convert:hover {\n",
              "      background-color: #434B5C;\n",
              "      box-shadow: 0px 1px 3px 1px rgba(0, 0, 0, 0.15);\n",
              "      filter: drop-shadow(0px 1px 2px rgba(0, 0, 0, 0.3));\n",
              "      fill: #FFFFFF;\n",
              "    }\n",
              "  </style>\n",
              "\n",
              "      <script>\n",
              "        const buttonEl =\n",
              "          document.querySelector('#df-fbd23110-f170-42c6-b616-8da51fec9864 button.colab-df-convert');\n",
              "        buttonEl.style.display =\n",
              "          google.colab.kernel.accessAllowed ? 'block' : 'none';\n",
              "\n",
              "        async function convertToInteractive(key) {\n",
              "          const element = document.querySelector('#df-fbd23110-f170-42c6-b616-8da51fec9864');\n",
              "          const dataTable =\n",
              "            await google.colab.kernel.invokeFunction('convertToInteractive',\n",
              "                                                     [key], {});\n",
              "          if (!dataTable) return;\n",
              "\n",
              "          const docLinkHtml = 'Like what you see? Visit the ' +\n",
              "            '<a target=\"_blank\" href=https://colab.research.google.com/notebooks/data_table.ipynb>data table notebook</a>'\n",
              "            + ' to learn more about interactive tables.';\n",
              "          element.innerHTML = '';\n",
              "          dataTable['output_type'] = 'display_data';\n",
              "          await google.colab.output.renderOutput(dataTable, element);\n",
              "          const docLink = document.createElement('div');\n",
              "          docLink.innerHTML = docLinkHtml;\n",
              "          element.appendChild(docLink);\n",
              "        }\n",
              "      </script>\n",
              "    </div>\n",
              "  </div>\n",
              "  "
            ]
          },
          "metadata": {},
          "execution_count": 3
        }
      ]
    },
    {
      "cell_type": "code",
      "source": [
        "\n",
        "plt.plot(df.index, df['adjclose'])\n",
        "plt.title('Ethereum coin Original data of 2018-22 ')\n",
        "plt.xlabel('days')\n",
        "plt.ylabel('Price (in USD)')\n",
        "plt.show()"
      ],
      "metadata": {
        "colab": {
          "base_uri": "https://localhost:8080/",
          "height": 295
        },
        "id": "TpVCrdZIQEFW",
        "outputId": "be8f864a-0d19-4ce2-cd7a-5ea8acdda384"
      },
      "execution_count": null,
      "outputs": [
        {
          "output_type": "display_data",
          "data": {
            "text/plain": [
              "<Figure size 432x288 with 1 Axes>"
            ],
            "image/png": "[encoded data removed]"
          },
          "metadata": {
            "needs_background": "light"
          }
        }
      ]
    },
    {
      "cell_type": "code",
      "source": [
        "# Converting the'x'variable i.e. the Days column in to date-time format, to be treated as the index of Y here.\n",
        "df['timestamp'] = pd.to_datetime(df[\"timestamp\"])\n",
        "df.set_index('timestamp', inplace = True)"
      ],
      "metadata": {
        "id": "b8mychozQwd0"
      },
      "execution_count": null,
      "outputs": []
    },
    {
      "cell_type": "code",
      "source": [
        "plt.figure(figsize=(9,4))\n",
        "plt.plot(df['adjclose'],color='orange', label= 'Adjusted close feature')\n",
        "plt.xlabel(\"date\")\n",
        "plt.ylabel('price (in USD)')\n",
        "plt.legend()\n",
        "plt.show()"
      ],
      "metadata": {
        "colab": {
          "base_uri": "https://localhost:8080/",
          "height": 281
        },
        "id": "S9sAwGOzQ0Gk",
        "outputId": "3487a50d-9ba4-497f-e94d-ecb58ddf38be"
      },
      "execution_count": null,
      "outputs": [
        {
          "output_type": "display_data",
          "data": {
            "text/plain": [
              "<Figure size 648x288 with 1 Axes>"
            ],
            "image/png": "[encoded data removed]"
          },
          "metadata": {
            "needs_background": "light"
          }
        }
      ]
    },
    {
      "cell_type": "code",
      "source": [
        "plt.figure(figsize=(9,4))\n",
        "df = df.loc['2020-9' : '2022']\n",
        "plt.plot(df['adjclose'])\n",
        "plt.title(\"Sample taken between 2020-9 till 10-2022\" )\n",
        "plt.xlabel(\"days\")\n",
        "plt.ylabel(\"price (in USD)\")"
      ],
      "metadata": {
        "colab": {
          "base_uri": "https://localhost:8080/",
          "height": 312
        },
        "id": "h1vAEMZpQ3gG",
        "outputId": "660ab469-4e75-4361-f0de-f4185a972f26"
      },
      "execution_count": null,
      "outputs": [
        {
          "output_type": "execute_result",
          "data": {
            "text/plain": [
              "Text(0, 0.5, 'price (in USD)')"
            ]
          },
          "metadata": {},
          "execution_count": 7
        },
        {
          "output_type": "display_data",
          "data": {
            "text/plain": [
              "<Figure size 648x288 with 1 Axes>"
            ],
            "image/png": "[encoded data removed]"
          },
          "metadata": {
            "needs_background": "light"
          }
        }
      ]
    },
    {
      "cell_type": "code",
      "source": [
        "# Dataset with date index (X - independent variable)\n",
        "df['adjclose']= np.round(df['adjclose'][:],1)\n",
        "df['adjclose']"
      ],
      "metadata": {
        "colab": {
          "base_uri": "https://localhost:8080/"
        },
        "id": "YUxvaoYQQ9NC",
        "outputId": "e6283f7b-b91f-442c-e975-e63787c107e4"
      },
      "execution_count": null,
      "outputs": [
        {
          "output_type": "execute_result",
          "data": {
            "text/plain": [
              "timestamp\n",
              "2020-09-01 00:00:00     477.1\n",
              "2020-09-02 00:00:00     440.0\n",
              "2020-09-03 00:00:00     385.7\n",
              "2020-09-04 00:00:00     388.2\n",
              "2020-09-05 00:00:00     335.3\n",
              "                        ...  \n",
              "2022-09-24 00:00:00    1318.0\n",
              "2022-09-25 00:00:00    1294.2\n",
              "2022-09-26 00:00:00    1335.3\n",
              "2022-09-27 00:00:00    1330.1\n",
              "2022-09-28 08:54:00    1281.9\n",
              "Name: adjclose, Length: 758, dtype: float64"
            ]
          },
          "metadata": {},
          "execution_count": 8
        }
      ]
    },
    {
      "cell_type": "code",
      "source": [
        "plt.figure(figsize=(9,4))\n",
        "plt.grid(True)\n",
        "to_row = int(len(df)*0.74)\n",
        "training_data = list(df[0:to_row]['adjclose'])\n",
        "testing_data = list(df[to_row:]['adjclose'])\n",
        "plt.plot(df[0:to_row]['adjclose'],color='green', label= 'Training set: 74%',linestyle ='dashed')\n",
        "plt.plot(df[to_row:]['adjclose'],color='blue', label= 'Test set: 26%')\n",
        "plt.title(\"Splitting the Data into Training & Test set\")\n",
        "plt.xlabel(\"date\")\n",
        "plt.ylabel('price (in USD)')\n",
        "plt.legend()\n",
        "plt.show()"
      ],
      "metadata": {
        "colab": {
          "base_uri": "https://localhost:8080/",
          "height": 295
        },
        "id": "0JNX3GF3RC70",
        "outputId": "19ff29a5-ec72-401c-c3a7-ad6c5e34e794"
      },
      "execution_count": null,
      "outputs": [
        {
          "output_type": "display_data",
          "data": {
            "text/plain": [
              "<Figure size 648x288 with 1 Axes>"
            ],
            "image/png": "[encoded data removed]"
          },
          "metadata": {
            "needs_background": "light"
          }
        }
      ]
    },
    {
      "cell_type": "code",
      "source": [
        "# define input sequence\n",
        "timeseries_data = list(df[0:to_row]['adjclose'])"
      ],
      "metadata": {
        "id": "1UhNc3ZFTB8G"
      },
      "execution_count": null,
      "outputs": []
    },
    {
      "cell_type": "code",
      "source": [
        "# Working on Univariate data\n",
        "# preparing independent and dependent features\n",
        "def prepare_data(timeseries_data, n_steps):\n",
        "\tX, y =[],[]\n",
        "\tfor i in range(len(timeseries_data)):\n",
        "\t\t# find the end of this pattern\n",
        "\t\tend_ix = i + n_steps\n",
        "\t\t# check if we are beyond the sequence\n",
        "\t\tif end_ix > len(timeseries_data)-1:\n",
        "\t\t\tbreak\n",
        "\t\t# gather input and output parts of the pattern\n",
        "\t\tseq_x, seq_y = timeseries_data[i:end_ix], timeseries_data[end_ix]\n",
        "\t\tX.append(seq_x)\n",
        "\t\ty.append(seq_y)\n",
        "\treturn np.array(X), np.array(y)"
      ],
      "metadata": {
        "id": "AkFzZtJeSbL3"
      },
      "execution_count": null,
      "outputs": []
    },
    {
      "cell_type": "code",
      "source": [
        "# choosing a number of time steps\n",
        "n_steps = 3\n",
        "# splitting into samples\n",
        "X, y = prepare_data(timeseries_data, n_steps)"
      ],
      "metadata": {
        "id": "EjKkU7aFTNV9"
      },
      "execution_count": null,
      "outputs": []
    },
    {
      "cell_type": "code",
      "source": [
        "#for i in range(len(X)):\n",
        " # print(X[i],y[i])"
      ],
      "metadata": {
        "id": "p6QzcD9KU5FB"
      },
      "execution_count": null,
      "outputs": []
    },
    {
      "cell_type": "code",
      "source": [
        "print(df[0:to_row]['adjclose'])"
      ],
      "metadata": {
        "colab": {
          "base_uri": "https://localhost:8080/"
        },
        "id": "QrZIvMXyVJ0A",
        "outputId": "b1c2ab2c-7e54-4b5b-81d6-ab2e31013b02"
      },
      "execution_count": null,
      "outputs": [
        {
          "output_type": "stream",
          "name": "stdout",
          "text": [
            "timestamp\n",
            "2020-09-01     477.1\n",
            "2020-09-02     440.0\n",
            "2020-09-03     385.7\n",
            "2020-09-04     388.2\n",
            "2020-09-05     335.3\n",
            "               ...  \n",
            "2022-03-10    2608.0\n",
            "2022-03-11    2559.6\n",
            "2022-03-12    2574.8\n",
            "2022-03-13    2518.9\n",
            "2022-03-14    2590.7\n",
            "Name: adjclose, Length: 560, dtype: float64\n"
          ]
        }
      ]
    },
    {
      "cell_type": "code",
      "source": [
        "# n_features = 1\n",
        "# #X = X.reshape((X.shape[0], X.shape[1], n_features))\n",
        "\n"
      ],
      "metadata": {
        "id": "QVW8eeaLUckt"
      },
      "execution_count": null,
      "outputs": []
    },
    {
      "cell_type": "markdown",
      "source": [
        "Applying Vanilla LSTM Algorithm:\n",
        "A Vanilla LSTM is an LSTM model that has a single hidden layer of LSTM units, and an output layer used to make a prediction.\n",
        "\n"
      ],
      "metadata": {
        "id": "HV7E3XHqYDyU"
      }
    },
    {
      "cell_type": "code",
      "source": [
        "# defining our model\n",
        "n_features = 1\n",
        "model = Sequential()\n",
        "model.add(LSTM(50, activation='relu', input_shape=(n_steps, n_features)))\n",
        "#model.add(Dense(150, activation= 'relu', input_dim = n_steps))\n",
        "model.add(Dense(1))\n",
        "model.compile(optimizer='adam', loss='mse')"
      ],
      "metadata": {
        "id": "CWVVC6KvX6gh"
      },
      "execution_count": null,
      "outputs": []
    },
    {
      "cell_type": "code",
      "source": [
        "# reshape from [samples, timesteps] into [samples, timesteps, features]\n",
        "\n",
        "X = X.reshape((X.shape[0], X.shape[1], n_features))"
      ],
      "metadata": {
        "id": "JH-HGHh2Yoq-"
      },
      "execution_count": null,
      "outputs": []
    },
    {
      "cell_type": "code",
      "source": [
        "\n",
        "...\n",
        "# fit model\n",
        "model.fit(X, y, epochs=200, verbose=1)"
      ],
      "metadata": {
        "colab": {
          "base_uri": "https://localhost:8080/"
        },
        "id": "d7_x_4WyZorw",
        "outputId": "03b117ab-649e-4c17-9936-5aa7954710d2"
      },
      "execution_count": null,
      "outputs": [
        {
          "output_type": "stream",
          "name": "stdout",
          "text": [
            "Epoch 1/200\n",
            "18/18 [==============================] - 2s 4ms/step - loss: 5961532.0000\n",
            "Epoch 2/200\n",
            "18/18 [==============================] - 0s 4ms/step - loss: 5154573.0000\n",
            "Epoch 3/200\n",
            "18/18 [==============================] - 0s 4ms/step - loss: 4262681.5000\n",
            "Epoch 4/200\n",
            "18/18 [==============================] - 0s 4ms/step - loss: 3464196.0000\n",
            "Epoch 5/200\n",
            "18/18 [==============================] - 0s 4ms/step - loss: 2092121.1250\n",
            "Epoch 6/200\n",
            "18/18 [==============================] - 0s 4ms/step - loss: 977646.5625\n",
            "Epoch 7/200\n",
            "18/18 [==============================] - 0s 4ms/step - loss: 225410.9531\n",
            "Epoch 8/200\n",
            "18/18 [==============================] - 0s 4ms/step - loss: 31830.9336\n",
            "Epoch 9/200\n",
            "18/18 [==============================] - 0s 4ms/step - loss: 25776.0020\n",
            "Epoch 10/200\n",
            "18/18 [==============================] - 0s 5ms/step - loss: 27312.4844\n",
            "Epoch 11/200\n",
            "18/18 [==============================] - 0s 4ms/step - loss: 27578.2285\n",
            "Epoch 12/200\n",
            "18/18 [==============================] - 0s 4ms/step - loss: 24574.2559\n",
            "Epoch 13/200\n",
            "18/18 [==============================] - 0s 4ms/step - loss: 25370.1895\n",
            "Epoch 14/200\n",
            "18/18 [==============================] - 0s 4ms/step - loss: 28670.9160\n",
            "Epoch 15/200\n",
            "18/18 [==============================] - 0s 4ms/step - loss: 28897.2188\n",
            "Epoch 16/200\n",
            "18/18 [==============================] - 0s 4ms/step - loss: 29238.5508\n",
            "Epoch 17/200\n",
            "18/18 [==============================] - 0s 4ms/step - loss: 27031.7012\n",
            "Epoch 18/200\n",
            "18/18 [==============================] - 0s 5ms/step - loss: 29380.4238\n",
            "Epoch 19/200\n",
            "18/18 [==============================] - 0s 4ms/step - loss: 28473.7500\n",
            "Epoch 20/200\n",
            "18/18 [==============================] - 0s 4ms/step - loss: 26969.0000\n",
            "Epoch 21/200\n",
            "18/18 [==============================] - 0s 4ms/step - loss: 25156.0176\n",
            "Epoch 22/200\n",
            "18/18 [==============================] - 0s 4ms/step - loss: 24936.1445\n",
            "Epoch 23/200\n",
            "18/18 [==============================] - 0s 5ms/step - loss: 25068.2461\n",
            "Epoch 24/200\n",
            "18/18 [==============================] - 0s 4ms/step - loss: 28205.9004\n",
            "Epoch 25/200\n",
            "18/18 [==============================] - 0s 5ms/step - loss: 28015.8711\n",
            "Epoch 26/200\n",
            "18/18 [==============================] - 0s 4ms/step - loss: 26207.3828\n",
            "Epoch 27/200\n",
            "18/18 [==============================] - 0s 4ms/step - loss: 26890.4102\n",
            "Epoch 28/200\n",
            "18/18 [==============================] - 0s 4ms/step - loss: 27229.1641\n",
            "Epoch 29/200\n",
            "18/18 [==============================] - 0s 4ms/step - loss: 26848.7422\n",
            "Epoch 30/200\n",
            "18/18 [==============================] - 0s 4ms/step - loss: 28372.4395\n",
            "Epoch 31/200\n",
            "18/18 [==============================] - 0s 4ms/step - loss: 26943.5098\n",
            "Epoch 32/200\n",
            "18/18 [==============================] - 0s 4ms/step - loss: 27268.9863\n",
            "Epoch 33/200\n",
            "18/18 [==============================] - 0s 4ms/step - loss: 28747.5664\n",
            "Epoch 34/200\n",
            "18/18 [==============================] - 0s 4ms/step - loss: 28778.9004\n",
            "Epoch 35/200\n",
            "18/18 [==============================] - 0s 5ms/step - loss: 28735.6934\n",
            "Epoch 36/200\n",
            "18/18 [==============================] - 0s 4ms/step - loss: 28623.9043\n",
            "Epoch 37/200\n",
            "18/18 [==============================] - 0s 4ms/step - loss: 28548.9121\n",
            "Epoch 38/200\n",
            "18/18 [==============================] - 0s 4ms/step - loss: 28742.6484\n",
            "Epoch 39/200\n",
            "18/18 [==============================] - 0s 5ms/step - loss: 29627.1875\n",
            "Epoch 40/200\n",
            "18/18 [==============================] - 0s 4ms/step - loss: 28966.4688\n",
            "Epoch 41/200\n",
            "18/18 [==============================] - 0s 4ms/step - loss: 29057.3320\n",
            "Epoch 42/200\n",
            "18/18 [==============================] - 0s 4ms/step - loss: 28889.4277\n",
            "Epoch 43/200\n",
            "18/18 [==============================] - 0s 4ms/step - loss: 28727.4141\n",
            "Epoch 44/200\n",
            "18/18 [==============================] - 0s 4ms/step - loss: 28710.5664\n",
            "Epoch 45/200\n",
            "18/18 [==============================] - 0s 4ms/step - loss: 28752.0859\n",
            "Epoch 46/200\n",
            "18/18 [==============================] - 0s 4ms/step - loss: 28746.5000\n",
            "Epoch 47/200\n",
            "18/18 [==============================] - 0s 4ms/step - loss: 28560.1543\n",
            "Epoch 48/200\n",
            "18/18 [==============================] - 0s 6ms/step - loss: 28613.1230\n",
            "Epoch 49/200\n",
            "18/18 [==============================] - 0s 6ms/step - loss: 28970.3672\n",
            "Epoch 50/200\n",
            "18/18 [==============================] - 0s 6ms/step - loss: 28536.4316\n",
            "Epoch 51/200\n",
            "18/18 [==============================] - 0s 7ms/step - loss: 28528.4043\n",
            "Epoch 52/200\n",
            "18/18 [==============================] - 0s 6ms/step - loss: 28457.6484\n",
            "Epoch 53/200\n",
            "18/18 [==============================] - 0s 6ms/step - loss: 28560.0840\n",
            "Epoch 54/200\n",
            "18/18 [==============================] - 0s 6ms/step - loss: 28579.1113\n",
            "Epoch 55/200\n",
            "18/18 [==============================] - 0s 6ms/step - loss: 28401.2148\n",
            "Epoch 56/200\n",
            "18/18 [==============================] - 0s 6ms/step - loss: 28513.0234\n",
            "Epoch 57/200\n",
            "18/18 [==============================] - 0s 6ms/step - loss: 28774.9902\n",
            "Epoch 58/200\n",
            "18/18 [==============================] - 0s 6ms/step - loss: 28388.7207\n",
            "Epoch 59/200\n",
            "18/18 [==============================] - 0s 6ms/step - loss: 28402.1660\n",
            "Epoch 60/200\n",
            "18/18 [==============================] - 0s 6ms/step - loss: 28380.0605\n",
            "Epoch 61/200\n",
            "18/18 [==============================] - 0s 6ms/step - loss: 28420.8652\n",
            "Epoch 62/200\n",
            "18/18 [==============================] - 0s 6ms/step - loss: 28604.3672\n",
            "Epoch 63/200\n",
            "18/18 [==============================] - 0s 6ms/step - loss: 28283.7676\n",
            "Epoch 64/200\n",
            "18/18 [==============================] - 0s 6ms/step - loss: 28276.6367\n",
            "Epoch 65/200\n",
            "18/18 [==============================] - 0s 6ms/step - loss: 28339.3242\n",
            "Epoch 66/200\n",
            "18/18 [==============================] - 0s 6ms/step - loss: 28340.6348\n",
            "Epoch 67/200\n",
            "18/18 [==============================] - 0s 6ms/step - loss: 28466.4336\n",
            "Epoch 68/200\n",
            "18/18 [==============================] - 0s 6ms/step - loss: 28631.3672\n",
            "Epoch 69/200\n",
            "18/18 [==============================] - 0s 7ms/step - loss: 28960.6934\n",
            "Epoch 70/200\n",
            "18/18 [==============================] - 0s 6ms/step - loss: 28518.9297\n",
            "Epoch 71/200\n",
            "18/18 [==============================] - 0s 6ms/step - loss: 28144.8672\n",
            "Epoch 72/200\n",
            "18/18 [==============================] - 0s 6ms/step - loss: 28225.5918\n",
            "Epoch 73/200\n",
            "18/18 [==============================] - 0s 6ms/step - loss: 28169.6855\n",
            "Epoch 74/200\n",
            "18/18 [==============================] - 0s 4ms/step - loss: 28296.4238\n",
            "Epoch 75/200\n",
            "18/18 [==============================] - 0s 4ms/step - loss: 28149.8457\n",
            "Epoch 76/200\n",
            "18/18 [==============================] - 0s 4ms/step - loss: 27972.2500\n",
            "Epoch 77/200\n",
            "18/18 [==============================] - 0s 4ms/step - loss: 28120.1660\n",
            "Epoch 78/200\n",
            "18/18 [==============================] - 0s 4ms/step - loss: 27966.8613\n",
            "Epoch 79/200\n",
            "18/18 [==============================] - 0s 4ms/step - loss: 27927.5176\n",
            "Epoch 80/200\n",
            "18/18 [==============================] - 0s 4ms/step - loss: 27909.2090\n",
            "Epoch 81/200\n",
            "18/18 [==============================] - 0s 4ms/step - loss: 27960.4297\n",
            "Epoch 82/200\n",
            "18/18 [==============================] - 0s 4ms/step - loss: 27890.5449\n",
            "Epoch 83/200\n",
            "18/18 [==============================] - 0s 5ms/step - loss: 27864.9375\n",
            "Epoch 84/200\n",
            "18/18 [==============================] - 0s 4ms/step - loss: 27950.8945\n",
            "Epoch 85/200\n",
            "18/18 [==============================] - 0s 4ms/step - loss: 28178.8164\n",
            "Epoch 86/200\n",
            "18/18 [==============================] - 0s 4ms/step - loss: 27712.2461\n",
            "Epoch 87/200\n",
            "18/18 [==============================] - 0s 5ms/step - loss: 27702.5645\n",
            "Epoch 88/200\n",
            "18/18 [==============================] - 0s 4ms/step - loss: 27650.0703\n",
            "Epoch 89/200\n",
            "18/18 [==============================] - 0s 4ms/step - loss: 27638.1152\n",
            "Epoch 90/200\n",
            "18/18 [==============================] - 0s 4ms/step - loss: 27405.7793\n",
            "Epoch 91/200\n",
            "18/18 [==============================] - 0s 4ms/step - loss: 27517.8887\n",
            "Epoch 92/200\n",
            "18/18 [==============================] - 0s 4ms/step - loss: 27341.4102\n",
            "Epoch 93/200\n",
            "18/18 [==============================] - 0s 4ms/step - loss: 27286.7695\n",
            "Epoch 94/200\n",
            "18/18 [==============================] - 0s 4ms/step - loss: 27529.6230\n",
            "Epoch 95/200\n",
            "18/18 [==============================] - 0s 4ms/step - loss: 27494.8613\n",
            "Epoch 96/200\n",
            "18/18 [==============================] - 0s 4ms/step - loss: 27103.7441\n",
            "Epoch 97/200\n",
            "18/18 [==============================] - 0s 4ms/step - loss: 27344.5430\n",
            "Epoch 98/200\n",
            "18/18 [==============================] - 0s 4ms/step - loss: 27303.9238\n",
            "Epoch 99/200\n",
            "18/18 [==============================] - 0s 5ms/step - loss: 26888.7656\n",
            "Epoch 100/200\n",
            "18/18 [==============================] - 0s 4ms/step - loss: 27333.1523\n",
            "Epoch 101/200\n",
            "18/18 [==============================] - 0s 4ms/step - loss: 26773.0488\n",
            "Epoch 102/200\n",
            "18/18 [==============================] - 0s 5ms/step - loss: 27102.8555\n",
            "Epoch 103/200\n",
            "18/18 [==============================] - 0s 4ms/step - loss: 26674.1855\n",
            "Epoch 104/200\n",
            "18/18 [==============================] - 0s 4ms/step - loss: 26834.8516\n",
            "Epoch 105/200\n",
            "18/18 [==============================] - 0s 4ms/step - loss: 26621.2324\n",
            "Epoch 106/200\n",
            "18/18 [==============================] - 0s 5ms/step - loss: 27374.2852\n",
            "Epoch 107/200\n",
            "18/18 [==============================] - 0s 4ms/step - loss: 26474.1055\n",
            "Epoch 108/200\n",
            "18/18 [==============================] - 0s 4ms/step - loss: 26500.9941\n",
            "Epoch 109/200\n",
            "18/18 [==============================] - 0s 5ms/step - loss: 26766.6367\n",
            "Epoch 110/200\n",
            "18/18 [==============================] - 0s 4ms/step - loss: 27667.9375\n",
            "Epoch 111/200\n",
            "18/18 [==============================] - 0s 5ms/step - loss: 26476.0781\n",
            "Epoch 112/200\n",
            "18/18 [==============================] - 0s 4ms/step - loss: 26184.8555\n",
            "Epoch 113/200\n",
            "18/18 [==============================] - 0s 4ms/step - loss: 26073.8828\n",
            "Epoch 114/200\n",
            "18/18 [==============================] - 0s 4ms/step - loss: 26019.8242\n",
            "Epoch 115/200\n",
            "18/18 [==============================] - 0s 4ms/step - loss: 26042.4102\n",
            "Epoch 116/200\n",
            "18/18 [==============================] - 0s 4ms/step - loss: 26955.1406\n",
            "Epoch 117/200\n",
            "18/18 [==============================] - 0s 4ms/step - loss: 26818.7070\n",
            "Epoch 118/200\n",
            "18/18 [==============================] - 0s 4ms/step - loss: 26379.5547\n",
            "Epoch 119/200\n",
            "18/18 [==============================] - 0s 5ms/step - loss: 25721.7363\n",
            "Epoch 120/200\n",
            "18/18 [==============================] - 0s 4ms/step - loss: 25654.0156\n",
            "Epoch 121/200\n",
            "18/18 [==============================] - 0s 4ms/step - loss: 25630.2793\n",
            "Epoch 122/200\n",
            "18/18 [==============================] - 0s 4ms/step - loss: 25440.9844\n",
            "Epoch 123/200\n",
            "18/18 [==============================] - 0s 5ms/step - loss: 25424.1211\n",
            "Epoch 124/200\n",
            "18/18 [==============================] - 0s 4ms/step - loss: 25362.2422\n",
            "Epoch 125/200\n",
            "18/18 [==============================] - 0s 5ms/step - loss: 25502.6016\n",
            "Epoch 126/200\n",
            "18/18 [==============================] - 0s 4ms/step - loss: 25391.7891\n",
            "Epoch 127/200\n",
            "18/18 [==============================] - 0s 4ms/step - loss: 25213.3047\n",
            "Epoch 128/200\n",
            "18/18 [==============================] - 0s 4ms/step - loss: 25234.9902\n",
            "Epoch 129/200\n",
            "18/18 [==============================] - 0s 4ms/step - loss: 25053.1543\n",
            "Epoch 130/200\n",
            "18/18 [==============================] - 0s 5ms/step - loss: 24972.4434\n",
            "Epoch 131/200\n",
            "18/18 [==============================] - 0s 4ms/step - loss: 25013.7070\n",
            "Epoch 132/200\n",
            "18/18 [==============================] - 0s 4ms/step - loss: 25170.2695\n",
            "Epoch 133/200\n",
            "18/18 [==============================] - 0s 5ms/step - loss: 24880.3906\n",
            "Epoch 134/200\n",
            "18/18 [==============================] - 0s 4ms/step - loss: 25162.1172\n",
            "Epoch 135/200\n",
            "18/18 [==============================] - 0s 5ms/step - loss: 24899.2676\n",
            "Epoch 136/200\n",
            "18/18 [==============================] - 0s 4ms/step - loss: 24787.7207\n",
            "Epoch 137/200\n",
            "18/18 [==============================] - 0s 4ms/step - loss: 24611.9863\n",
            "Epoch 138/200\n",
            "18/18 [==============================] - 0s 4ms/step - loss: 24735.2422\n",
            "Epoch 139/200\n",
            "18/18 [==============================] - 0s 4ms/step - loss: 24378.1367\n",
            "Epoch 140/200\n",
            "18/18 [==============================] - 0s 4ms/step - loss: 24502.8613\n",
            "Epoch 141/200\n",
            "18/18 [==============================] - 0s 4ms/step - loss: 24355.7148\n",
            "Epoch 142/200\n",
            "18/18 [==============================] - 0s 4ms/step - loss: 24367.0586\n",
            "Epoch 143/200\n",
            "18/18 [==============================] - 0s 4ms/step - loss: 24786.1895\n",
            "Epoch 144/200\n",
            "18/18 [==============================] - 0s 4ms/step - loss: 25391.8281\n",
            "Epoch 145/200\n",
            "18/18 [==============================] - 0s 4ms/step - loss: 25564.6094\n",
            "Epoch 146/200\n",
            "18/18 [==============================] - 0s 4ms/step - loss: 24298.0000\n",
            "Epoch 147/200\n",
            "18/18 [==============================] - 0s 5ms/step - loss: 24216.5898\n",
            "Epoch 148/200\n",
            "18/18 [==============================] - 0s 4ms/step - loss: 23828.8828\n",
            "Epoch 149/200\n",
            "18/18 [==============================] - 0s 4ms/step - loss: 23844.1055\n",
            "Epoch 150/200\n",
            "18/18 [==============================] - 0s 4ms/step - loss: 23703.2891\n",
            "Epoch 151/200\n",
            "18/18 [==============================] - 0s 4ms/step - loss: 23980.7598\n",
            "Epoch 152/200\n",
            "18/18 [==============================] - 0s 4ms/step - loss: 23763.2324\n",
            "Epoch 153/200\n",
            "18/18 [==============================] - 0s 4ms/step - loss: 23601.4121\n",
            "Epoch 154/200\n",
            "18/18 [==============================] - 0s 4ms/step - loss: 23571.6172\n",
            "Epoch 155/200\n",
            "18/18 [==============================] - 0s 4ms/step - loss: 23991.0078\n",
            "Epoch 156/200\n",
            "18/18 [==============================] - 0s 4ms/step - loss: 23773.0996\n",
            "Epoch 157/200\n",
            "18/18 [==============================] - 0s 4ms/step - loss: 23604.2109\n",
            "Epoch 158/200\n",
            "18/18 [==============================] - 0s 4ms/step - loss: 23374.8867\n",
            "Epoch 159/200\n",
            "18/18 [==============================] - 0s 4ms/step - loss: 23401.9551\n",
            "Epoch 160/200\n",
            "18/18 [==============================] - 0s 4ms/step - loss: 23289.7305\n",
            "Epoch 161/200\n",
            "18/18 [==============================] - 0s 4ms/step - loss: 23026.5059\n",
            "Epoch 162/200\n",
            "18/18 [==============================] - 0s 4ms/step - loss: 23222.8242\n",
            "Epoch 163/200\n",
            "18/18 [==============================] - 0s 4ms/step - loss: 23109.1445\n",
            "Epoch 164/200\n",
            "18/18 [==============================] - 0s 4ms/step - loss: 22989.4102\n",
            "Epoch 165/200\n",
            "18/18 [==============================] - 0s 4ms/step - loss: 23060.4473\n",
            "Epoch 166/200\n",
            "18/18 [==============================] - 0s 4ms/step - loss: 23257.3867\n",
            "Epoch 167/200\n",
            "18/18 [==============================] - 0s 4ms/step - loss: 23265.8379\n",
            "Epoch 168/200\n",
            "18/18 [==============================] - 0s 4ms/step - loss: 24345.1387\n",
            "Epoch 169/200\n",
            "18/18 [==============================] - 0s 4ms/step - loss: 23891.8887\n",
            "Epoch 170/200\n",
            "18/18 [==============================] - 0s 4ms/step - loss: 23491.0547\n",
            "Epoch 171/200\n",
            "18/18 [==============================] - 0s 5ms/step - loss: 22890.3477\n",
            "Epoch 172/200\n",
            "18/18 [==============================] - 0s 4ms/step - loss: 22762.2480\n",
            "Epoch 173/200\n",
            "18/18 [==============================] - 0s 4ms/step - loss: 22577.0332\n",
            "Epoch 174/200\n",
            "18/18 [==============================] - 0s 4ms/step - loss: 23346.0801\n",
            "Epoch 175/200\n",
            "18/18 [==============================] - 0s 4ms/step - loss: 22399.2754\n",
            "Epoch 176/200\n",
            "18/18 [==============================] - 0s 4ms/step - loss: 22618.2793\n",
            "Epoch 177/200\n",
            "18/18 [==============================] - 0s 4ms/step - loss: 22552.0078\n",
            "Epoch 178/200\n",
            "18/18 [==============================] - 0s 4ms/step - loss: 22238.8398\n",
            "Epoch 179/200\n",
            "18/18 [==============================] - 0s 4ms/step - loss: 22262.0195\n",
            "Epoch 180/200\n",
            "18/18 [==============================] - 0s 4ms/step - loss: 22384.6348\n",
            "Epoch 181/200\n",
            "18/18 [==============================] - 0s 4ms/step - loss: 22069.9375\n",
            "Epoch 182/200\n",
            "18/18 [==============================] - 0s 5ms/step - loss: 22035.7207\n",
            "Epoch 183/200\n",
            "18/18 [==============================] - 0s 5ms/step - loss: 22404.1562\n",
            "Epoch 184/200\n",
            "18/18 [==============================] - 0s 5ms/step - loss: 21922.9844\n",
            "Epoch 185/200\n",
            "18/18 [==============================] - 0s 5ms/step - loss: 22275.0488\n",
            "Epoch 186/200\n",
            "18/18 [==============================] - 0s 5ms/step - loss: 21896.3008\n",
            "Epoch 187/200\n",
            "18/18 [==============================] - 0s 4ms/step - loss: 21796.5488\n",
            "Epoch 188/200\n",
            "18/18 [==============================] - 0s 4ms/step - loss: 21965.3633\n",
            "Epoch 189/200\n",
            "18/18 [==============================] - 0s 4ms/step - loss: 21860.0840\n",
            "Epoch 190/200\n",
            "18/18 [==============================] - 0s 4ms/step - loss: 22032.3750\n",
            "Epoch 191/200\n",
            "18/18 [==============================] - 0s 6ms/step - loss: 21481.3379\n",
            "Epoch 192/200\n",
            "18/18 [==============================] - 0s 6ms/step - loss: 22182.7891\n",
            "Epoch 193/200\n",
            "18/18 [==============================] - 0s 6ms/step - loss: 21672.6016\n",
            "Epoch 194/200\n",
            "18/18 [==============================] - 0s 7ms/step - loss: 21688.8086\n",
            "Epoch 195/200\n",
            "18/18 [==============================] - 0s 6ms/step - loss: 21508.7012\n",
            "Epoch 196/200\n",
            "18/18 [==============================] - 0s 6ms/step - loss: 21529.5820\n",
            "Epoch 197/200\n",
            "18/18 [==============================] - 0s 6ms/step - loss: 21357.3672\n",
            "Epoch 198/200\n",
            "18/18 [==============================] - 0s 6ms/step - loss: 21247.5195\n",
            "Epoch 199/200\n",
            "18/18 [==============================] - 0s 6ms/step - loss: 21522.4258\n",
            "Epoch 200/200\n",
            "18/18 [==============================] - 0s 6ms/step - loss: 21570.2207\n"
          ]
        },
        {
          "output_type": "execute_result",
          "data": {
            "text/plain": [
              "<keras.callbacks.History at 0x7f9e76e0e250>"
            ]
          },
          "metadata": {},
          "execution_count": 18
        }
      ]
    },
    {
      "cell_type": "code",
      "source": [
        "x_input = np.array([3336.6, 3402.0, 3385.2])\n",
        "temp_input=list(x_input)\n",
        "lst_output=[]\n",
        "i=0\n",
        "while(i<10):\n",
        "\n",
        "    if(len(temp_input)>3):\n",
        "        x_input=np.array(temp_input[1:])\n",
        "        print(\"{} day input {}\".format(i,x_input))\n",
        "        #print(x_input)\n",
        "        x_input = x_input.reshape((1, n_steps, n_features))\n",
        "        #print(x_input)\n",
        "        yhat = model.predict(x_input, verbose=0)\n",
        "        print(\"{} day output {}\".format(i,yhat))\n",
        "        temp_input.append(yhat[0][0])\n",
        "        temp_input=temp_input[1:]\n",
        "        #print(temp_input)\n",
        "        lst_output.append(yhat[0][0])\n",
        "        i=i+1\n",
        "    else:\n",
        "        x_input = x_input.reshape((1, n_steps, n_features))\n",
        "        yhat = model.predict(x_input, verbose=0)\n",
        "        print(yhat[0])\n",
        "        temp_input.append(yhat[0][0])\n",
        "        lst_output.append(yhat[0][0])\n",
        "        i=i+1\n",
        ""
      ],
      "metadata": {
        "colab": {
          "base_uri": "https://localhost:8080/"
        },
        "id": "i2XX7HYUZuJY",
        "outputId": "c8de2cb7-6619-4c2c-ec80-9cd105ff731c"
      },
      "execution_count": null,
      "outputs": [
        {
          "output_type": "stream",
          "name": "stdout",
          "text": [
            "[3389.272]\n",
            "1 day input [3402.         3385.2        3389.27197266]\n",
            "1 day output [[3405.1672]]\n",
            "2 day input [3385.2        3389.27197266 3405.16723633]\n",
            "2 day output [[3409.032]]\n",
            "3 day input [3389.272  3405.1672 3409.032 ]\n",
            "3 day output [[3416.0024]]\n",
            "4 day input [3405.1672 3409.032  3416.0024]\n",
            "4 day output [[3424.6978]]\n",
            "5 day input [3409.032  3416.0024 3424.6978]\n",
            "5 day output [[3431.6433]]\n",
            "6 day input [3416.0024 3424.6978 3431.6433]\n",
            "6 day output [[3439.061]]\n",
            "7 day input [3424.6978 3431.6433 3439.061 ]\n",
            "7 day output [[3446.7407]]\n",
            "8 day input [3431.6433 3439.061  3446.7407]\n",
            "8 day output [[3454.1763]]\n",
            "9 day input [3439.061  3446.7407 3454.1763]\n",
            "9 day output [[3461.6938]]\n"
          ]
        }
      ]
    },
    {
      "cell_type": "code",
      "source": [
        "print(model.summary())"
      ],
      "metadata": {
        "colab": {
          "base_uri": "https://localhost:8080/"
        },
        "id": "jcdnLqpXiiTD",
        "outputId": "d2c7e757-d74d-44ff-e0f8-8ab9d850f301"
      },
      "execution_count": null,
      "outputs": [
        {
          "output_type": "stream",
          "name": "stdout",
          "text": [
            "Model: \"sequential\"\n",
            "_________________________________________________________________\n",
            " Layer (type)                Output Shape              Param #   \n",
            "=================================================================\n",
            " lstm (LSTM)                 (None, 50)                10400     \n",
            "                                                                 \n",
            " dense (Dense)               (None, 1)                 51        \n",
            "                                                                 \n",
            "=================================================================\n",
            "Total params: 10,451\n",
            "Trainable params: 10,451\n",
            "Non-trainable params: 0\n",
            "_________________________________________________________________\n",
            "None\n"
          ]
        }
      ]
    },
    {
      "cell_type": "code",
      "source": [
        "df[0:to_row]['adjclose']"
      ],
      "metadata": {
        "colab": {
          "base_uri": "https://localhost:8080/"
        },
        "id": "3f7Iwz81jVOH",
        "outputId": "a7d907aa-df25-4782-a876-1d04da0039ef"
      },
      "execution_count": null,
      "outputs": [
        {
          "output_type": "execute_result",
          "data": {
            "text/plain": [
              "timestamp\n",
              "2020-09-01     477.1\n",
              "2020-09-02     440.0\n",
              "2020-09-03     385.7\n",
              "2020-09-04     388.2\n",
              "2020-09-05     335.3\n",
              "               ...  \n",
              "2022-03-10    2608.0\n",
              "2022-03-11    2559.6\n",
              "2022-03-12    2574.8\n",
              "2022-03-13    2518.9\n",
              "2022-03-14    2590.7\n",
              "Name: adjclose, Length: 560, dtype: float64"
            ]
          },
          "metadata": {},
          "execution_count": 21
        }
      ]
    },
    {
      "cell_type": "code",
      "source": [
        "x_input = np.array([2574.8,2518.9,2590.7])\n",
        "temp_input=list(x_input)\n",
        "lst_output=[]\n",
        "i=0\n",
        "while(i<10):\n",
        "\n",
        "    if(len(temp_input)>3):\n",
        "        x_input=np.array(temp_input[1:])\n",
        "        print(\"{} day input {}\".format(i,x_input))\n",
        "        #print(x_input)\n",
        "        x_input = x_input.reshape((1, n_steps, n_features))\n",
        "        #print(x_input)\n",
        "        yhat = model.predict(x_input, verbose=0)\n",
        "        print(\"{} day output {}\".format(i,yhat))\n",
        "        temp_input.append(yhat[0][0])\n",
        "        temp_input=temp_input[1:]\n",
        "        #print(temp_input)\n",
        "        lst_output.append(yhat[0][0])\n",
        "        i=i+1\n",
        "    else:\n",
        "        x_input = x_input.reshape((1, n_steps, n_features))\n",
        "        yhat = model.predict(x_input, verbose=0)\n",
        "        print(yhat[0])\n",
        "        temp_input.append(yhat[0][0])\n",
        "        lst_output.append(yhat[0][0])\n",
        "        i=i+1\n",
        ""
      ],
      "metadata": {
        "colab": {
          "base_uri": "https://localhost:8080/"
        },
        "id": "wfvAL3uzjakr",
        "outputId": "9d7e582d-6cf5-4e0e-967a-5929e2a13c47"
      },
      "execution_count": null,
      "outputs": [
        {
          "output_type": "stream",
          "name": "stdout",
          "text": [
            "[2578.8018]\n",
            "1 day input [2518.9        2590.7        2578.80175781]\n",
            "1 day output [[2575.7249]]\n",
            "2 day input [2590.7        2578.80175781 2575.72485352]\n",
            "2 day output [[2591.2578]]\n",
            "3 day input [2578.8018 2575.7249 2591.2578]\n",
            "3 day output [[2594.5132]]\n",
            "4 day input [2575.7249 2591.2578 2594.5132]\n",
            "4 day output [[2599.114]]\n",
            "5 day input [2591.2578 2594.5132 2599.114 ]\n",
            "5 day output [[2606.4346]]\n",
            "6 day input [2594.5132 2599.114  2606.4346]\n",
            "6 day output [[2611.9624]]\n",
            "7 day input [2599.114  2606.4346 2611.9624]\n",
            "7 day output [[2617.7031]]\n",
            "8 day input [2606.4346 2611.9624 2617.7031]\n",
            "8 day output [[2623.8499]]\n",
            "9 day input [2611.9624 2617.7031 2623.8499]\n",
            "9 day output [[2629.7427]]\n"
          ]
        }
      ]
    },
    {
      "cell_type": "code",
      "source": [
        "#test_set = df[to_row::10]['adjclose']\n",
        "test_set = df[to_row:][0:10]['adjclose']\n",
        "\n",
        "test_set\n"
      ],
      "metadata": {
        "colab": {
          "base_uri": "https://localhost:8080/"
        },
        "id": "J1w0KpO3jiSP",
        "outputId": "6af4ae46-74a3-4b92-989e-347b4c93ee27"
      },
      "execution_count": null,
      "outputs": [
        {
          "output_type": "execute_result",
          "data": {
            "text/plain": [
              "timestamp\n",
              "2022-03-15    2620.1\n",
              "2022-03-16    2772.1\n",
              "2022-03-17    2814.9\n",
              "2022-03-18    2945.3\n",
              "2022-03-19    2946.3\n",
              "2022-03-20    2860.5\n",
              "2022-03-21    2898.0\n",
              "2022-03-22    2973.1\n",
              "2022-03-23    3031.1\n",
              "2022-03-24    3108.1\n",
              "Name: adjclose, dtype: float64"
            ]
          },
          "metadata": {},
          "execution_count": 23
        }
      ]
    },
    {
      "cell_type": "code",
      "source": [
        "date = df[to_row:][0:10]['adjclose'].index"
      ],
      "metadata": {
        "id": "UaXsK_UpjrI1"
      },
      "execution_count": null,
      "outputs": []
    },
    {
      "cell_type": "code",
      "source": [
        "lst_output"
      ],
      "metadata": {
        "colab": {
          "base_uri": "https://localhost:8080/"
        },
        "id": "1RmfQ0FGkBvO",
        "outputId": "f54802ad-a11a-42fa-d4b2-8d7cb7660eac"
      },
      "execution_count": null,
      "outputs": [
        {
          "output_type": "execute_result",
          "data": {
            "text/plain": [
              "[2578.8018,\n",
              " 2575.7249,\n",
              " 2591.2578,\n",
              " 2594.5132,\n",
              " 2599.114,\n",
              " 2606.4346,\n",
              " 2611.9624,\n",
              " 2617.7031,\n",
              " 2623.8499,\n",
              " 2629.7427]"
            ]
          },
          "metadata": {},
          "execution_count": 25
        }
      ]
    },
    {
      "cell_type": "code",
      "source": [
        "plt.plot(date,test_set)\n",
        "plt.plot(date,lst_output, color = 'r')"
      ],
      "metadata": {
        "colab": {
          "base_uri": "https://localhost:8080/",
          "height": 282
        },
        "id": "4nGxPJ2NkFg3",
        "outputId": "e170467a-439b-471b-a654-42064cd31c47"
      },
      "execution_count": null,
      "outputs": [
        {
          "output_type": "execute_result",
          "data": {
            "text/plain": [
              "[<matplotlib.lines.Line2D at 0x7f9e776f2c10>]"
            ]
          },
          "metadata": {},
          "execution_count": 26
        },
        {
          "output_type": "display_data",
          "data": {
            "text/plain": [
              "<Figure size 432x288 with 1 Axes>"
            ],
            "image/png": "[encoded data removed]"
          },
          "metadata": {
            "needs_background": "light"
          }
        }
      ]
    },
    {
      "cell_type": "code",
      "source": [
        "# performance Evaluation of 10 days Predictions"
      ],
      "metadata": {
        "id": "o_kDTP-_kM26"
      },
      "execution_count": null,
      "outputs": []
    },
    {
      "cell_type": "code",
      "source": [
        "from sklearn.metrics import mean_absolute_error, mean_squared_error,r2_score\n",
        "print(\"Computing the R-squared value:\")\n",
        "r2_score = r2_score(test_set,lst_output)\n",
        "print(f'r2_score:{r2_score}')"
      ],
      "metadata": {
        "colab": {
          "base_uri": "https://localhost:8080/"
        },
        "id": "zsLJB5jApgUe",
        "outputId": "aefb2111-a32f-4c6c-aff0-335b93fcfa5b"
      },
      "execution_count": null,
      "outputs": [
        {
          "output_type": "stream",
          "name": "stdout",
          "text": [
            "Computing the R-squared value:\n",
            "r2_score:-4.772490602301002\n"
          ]
        }
      ]
    },
    {
      "cell_type": "code",
      "source": [
        "# CALCULATING MEAN ABSOLUTE PERCENTAGE ERROR\n",
        "MAPE = np.mean(np.abs(np.array(lst_output) - np.array(test_set)) / np.abs(test_set))\n",
        "print(f'Mean_Absolute_Percentage_Error:{MAPE}')"
      ],
      "metadata": {
        "colab": {
          "base_uri": "https://localhost:8080/"
        },
        "id": "AqKeYyBWpjd_",
        "outputId": "fa16ed14-9fc5-41b7-9e46-76a114fdbab5"
      },
      "execution_count": null,
      "outputs": [
        {
          "output_type": "stream",
          "name": "stdout",
          "text": [
            "Mean_Absolute_Percentage_Error:0.09983114855262085\n"
          ]
        }
      ]
    },
    {
      "cell_type": "code",
      "source": [
        "from sklearn.metrics import mean_squared_error\n",
        "import math\n",
        "MSE = mean_squared_error(test_set, lst_output)\n",
        "RMSE = math.sqrt(MSE)\n",
        "print(\"Root Mean Square Error:\\n\")\n",
        "print(RMSE)"
      ],
      "metadata": {
        "colab": {
          "base_uri": "https://localhost:8080/"
        },
        "id": "GlAqisyWqUJo",
        "outputId": "d0a4772a-daaf-430b-d228-4e77e56c59e1"
      },
      "execution_count": null,
      "outputs": [
        {
          "output_type": "stream",
          "name": "stdout",
          "text": [
            "Root Mean Square Error:\n",
            "\n",
            "316.421581233277\n"
          ]
        }
      ]
    },
    {
      "cell_type": "code",
      "source": [
        "# CALCULATING MEAN ABSOLUTE ERROR\n",
        "MAE = mean_absolute_error(test_set,lst_output)\n",
        "print(f'Mean_Absolute_Error:{MAE}')"
      ],
      "metadata": {
        "colab": {
          "base_uri": "https://localhost:8080/"
        },
        "id": "qXD8Lkbvqe4n",
        "outputId": "ad10f330-45bb-47ea-e82a-8e98a77f66c3"
      },
      "execution_count": null,
      "outputs": [
        {
          "output_type": "stream",
          "name": "stdout",
          "text": [
            "Mean_Absolute_Error:294.0395751953125\n"
          ]
        }
      ]
    },
    {
      "cell_type": "code",
      "source": [],
      "metadata": {
        "id": "fmRhtvPpsLsM"
      },
      "execution_count": null,
      "outputs": []
    }
  ]
}